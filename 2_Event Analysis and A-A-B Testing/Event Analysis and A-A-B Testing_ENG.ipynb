{
 "cells": [
  {
   "cell_type": "markdown",
   "id": "971b9b34",
   "metadata": {
    "toc": true
   },
   "source": [
    "<h1>Table of Contents<span class=\"tocSkip\"></span></h1>\n",
    "<div class=\"toc\"><ul class=\"toc-item\"><li><span><a href=\"#Event-Analysis-and-A/A/B-Testing.\" data-toc-modified-id=\"Event-Analysis-and-A/A/B-Testing.-1\">Event Analysis and A/A/B Testing.</a></span><ul class=\"toc-item\"><li><span><a href=\"#1.-Data-overview.\" data-toc-modified-id=\"1.-Data-overview.-1.1\">1. Data overview.</a></span></li><li><span><a href=\"#2.-Data-preprocessing.\" data-toc-modified-id=\"2.-Data-preprocessing.-1.2\">2. Data preprocessing.</a></span><ul class=\"toc-item\"><li><span><a href=\"#2.1.-Improving-style-and-readability,-removing-duplicates\" data-toc-modified-id=\"2.1.-Improving-style-and-readability,-removing-duplicates-1.2.1\">2.1. Improving style and readability, removing duplicates</a></span></li><li><span><a href=\"#2.2.-Changing-data-types,-adding-columns\" data-toc-modified-id=\"2.2.-Changing-data-types,-adding-columns-1.2.2\">2.2. Changing data types, adding columns</a></span></li></ul></li><li><span><a href=\"#3.-Data-examination-and-validation.\" data-toc-modified-id=\"3.-Data-examination-and-validation.-1.3\">3. Data examination and validation.</a></span></li><li><span><a href=\"#4.-Sales-funnel-analysis.\" data-toc-modified-id=\"4.-Sales-funnel-analysis.-1.4\">4. Sales funnel analysis.</a></span></li><li><span><a href=\"#5.-Experiment-result-analysis.\" data-toc-modified-id=\"5.-Experiment-result-analysis.-1.5\">5. Experiment result analysis.</a></span><ul class=\"toc-item\"><li><span><a href=\"#5.1.-A1/A2-experiment\" data-toc-modified-id=\"5.1.-A1/A2-experiment-1.5.1\">5.1. A1/A2-experiment</a></span></li><li><span><a href=\"#5.2.-A1/B-experiment\" data-toc-modified-id=\"5.2.-A1/B-experiment-1.5.2\">5.2. A1/B-experiment</a></span></li><li><span><a href=\"#5.3.-A2/B-experiment\" data-toc-modified-id=\"5.3.-A2/B-experiment-1.5.3\">5.3. A2/B-experiment</a></span></li><li><span><a href=\"#5.4.-A1+A2/B-experiment\" data-toc-modified-id=\"5.4.-A1+A2/B-experiment-1.5.4\">5.4. A1+A2/B-experiment</a></span></li></ul></li><li><span><a href=\"#6.-Statistical-significance-level.\" data-toc-modified-id=\"6.-Statistical-significance-level.-1.6\">6. Statistical significance level.</a></span><ul class=\"toc-item\"><li><span><a href=\"#6.1.-Increasing-the-level-of-statistical-significance-to-0.1\" data-toc-modified-id=\"6.1.-Increasing-the-level-of-statistical-significance-to-0.1-1.6.1\">6.1. Increasing the level of statistical significance to 0.1</a></span><ul class=\"toc-item\"><li><span><a href=\"#А1/А2-experiment\" data-toc-modified-id=\"А1/А2-experiment-1.6.1.1\">А1/А2-experiment</a></span></li><li><span><a href=\"#А1/B-experiment\" data-toc-modified-id=\"А1/B-experiment-1.6.1.2\">А1/B-experiment</a></span></li><li><span><a href=\"#А2/В-experiment\" data-toc-modified-id=\"А2/В-experiment-1.6.1.3\">А2/В-experiment</a></span></li><li><span><a href=\"#А1+А2/В-experiment\" data-toc-modified-id=\"А1+А2/В-experiment-1.6.1.4\">А1+А2/В-experiment</a></span></li></ul></li><li><span><a href=\"#6.2.-Decrease-in-the-level-of-statistical-significance.-Bonferroni-correction.\" data-toc-modified-id=\"6.2.-Decrease-in-the-level-of-statistical-significance.-Bonferroni-correction.-1.6.2\">6.2. Decrease in the level of statistical significance. Bonferroni correction.</a></span><ul class=\"toc-item\"><li><span><a href=\"#А1/А2-experiment\" data-toc-modified-id=\"А1/А2-experiment-1.6.2.1\">А1/А2-experiment</a></span></li><li><span><a href=\"#А1/B-experiment\" data-toc-modified-id=\"А1/B-experiment-1.6.2.2\">А1/B-experiment</a></span></li><li><span><a href=\"#А2/В-experiment\" data-toc-modified-id=\"А2/В-experiment-1.6.2.3\">А2/В-experiment</a></span></li><li><span><a href=\"#А1+А2/В-experiment\" data-toc-modified-id=\"А1+А2/В-experiment-1.6.2.4\">А1+А2/В-experiment</a></span></li></ul></li></ul></li><li><span><a href=\"#7.-Conclusions.\" data-toc-modified-id=\"7.-Conclusions.-1.7\">7. Conclusions.</a></span></li></ul></li></ul></div>"
   ]
  },
  {
   "cell_type": "markdown",
   "id": "e80c20da",
   "metadata": {},
   "source": [
    "# Event Analysis and A/A/B Testing."
   ]
  },
  {
   "cell_type": "markdown",
   "id": "e9267ce4",
   "metadata": {},
   "source": [
    " **Project Description**\n",
    "\n",
    "A study of user behavior in a mobile application for a food product startup.\n",
    "\n",
    "**Data Description**\n",
    "\n",
    "File:\n",
    "- _`logs_exp.csv`_ — contains records, each representing a user action or event.\n",
    "\n",
    "Structure of _logs_exp.csv_:\n",
    "- _`EventName`_ — the name of the event;\n",
    "- _`DeviceIDHash`_ — the unique user identifier;\n",
    "- _`EventTimestamp`_ — the time of the event;\n",
    "- _`ExpId`_ — the experiment number: 246 and 247 are control groups, while 248 is the experimental group.\n",
    "\n",
    "**Objectives:**\n",
    "\n",
    "1. Analyze the sales funnel and understand how users progress toward making a purchase. Identify how many users fail to complete a purchase and at which steps they drop off.\n",
    "2. Investigate the results of the A/A/B experiment to determine the impact of new fonts on user behavior. Determine whether the new font has advantages over the old one in terms of positively influencing user behavior.\n",
    "\n",
    "**Research Plan:**\n",
    " 1. Data overview.\n",
    " 2. Data preprocessing.\n",
    " 3. Data examination and validation.\n",
    " 4. Sales funnel analysis.\n",
    " 5. Experiment result analysis.\n",
    " 6. Statistical significance level.\n",
    " 7. Conclusions."
   ]
  },
  {
   "cell_type": "markdown",
   "id": "7dce2ee2",
   "metadata": {},
   "source": [
    "## 1. Data overview."
   ]
  },
  {
   "cell_type": "code",
   "execution_count": 51,
   "id": "e12bae42",
   "metadata": {},
   "outputs": [],
   "source": [
    "# All the necessary libraries are imported in this cell\n",
    "import pandas as pd\n",
    "import numpy as np\n",
    "import matplotlib.pyplot as plt\n",
    "from scipy import stats as st\n",
    "import math as mth"
   ]
  },
  {
   "cell_type": "code",
   "execution_count": 52,
   "id": "e9c15965",
   "metadata": {},
   "outputs": [],
   "source": [
    "try:\n",
    "    df = pd.read_csv('/datasets/logs_exp.csv', sep='\\t')\n",
    "except:\n",
    "    df = pd.read_csv('https://.../datasets/logs_exp.csv', sep='\\t')"
   ]
  },
  {
   "cell_type": "code",
   "execution_count": 53,
   "id": "6812bcf1",
   "metadata": {},
   "outputs": [
    {
     "data": {
      "text/html": [
       "<div>\n",
       "<style scoped>\n",
       "    .dataframe tbody tr th:only-of-type {\n",
       "        vertical-align: middle;\n",
       "    }\n",
       "\n",
       "    .dataframe tbody tr th {\n",
       "        vertical-align: top;\n",
       "    }\n",
       "\n",
       "    .dataframe thead th {\n",
       "        text-align: right;\n",
       "    }\n",
       "</style>\n",
       "<table border=\"1\" class=\"dataframe\">\n",
       "  <thead>\n",
       "    <tr style=\"text-align: right;\">\n",
       "      <th></th>\n",
       "      <th>EventName</th>\n",
       "      <th>DeviceIDHash</th>\n",
       "      <th>EventTimestamp</th>\n",
       "      <th>ExpId</th>\n",
       "    </tr>\n",
       "  </thead>\n",
       "  <tbody>\n",
       "    <tr>\n",
       "      <th>0</th>\n",
       "      <td>MainScreenAppear</td>\n",
       "      <td>4575588528974610257</td>\n",
       "      <td>1564029816</td>\n",
       "      <td>246</td>\n",
       "    </tr>\n",
       "    <tr>\n",
       "      <th>1</th>\n",
       "      <td>MainScreenAppear</td>\n",
       "      <td>7416695313311560658</td>\n",
       "      <td>1564053102</td>\n",
       "      <td>246</td>\n",
       "    </tr>\n",
       "    <tr>\n",
       "      <th>2</th>\n",
       "      <td>PaymentScreenSuccessful</td>\n",
       "      <td>3518123091307005509</td>\n",
       "      <td>1564054127</td>\n",
       "      <td>248</td>\n",
       "    </tr>\n",
       "    <tr>\n",
       "      <th>3</th>\n",
       "      <td>CartScreenAppear</td>\n",
       "      <td>3518123091307005509</td>\n",
       "      <td>1564054127</td>\n",
       "      <td>248</td>\n",
       "    </tr>\n",
       "    <tr>\n",
       "      <th>4</th>\n",
       "      <td>PaymentScreenSuccessful</td>\n",
       "      <td>6217807653094995999</td>\n",
       "      <td>1564055322</td>\n",
       "      <td>248</td>\n",
       "    </tr>\n",
       "  </tbody>\n",
       "</table>\n",
       "</div>"
      ],
      "text/plain": [
       "                 EventName         DeviceIDHash  EventTimestamp  ExpId\n",
       "0         MainScreenAppear  4575588528974610257      1564029816    246\n",
       "1         MainScreenAppear  7416695313311560658      1564053102    246\n",
       "2  PaymentScreenSuccessful  3518123091307005509      1564054127    248\n",
       "3         CartScreenAppear  3518123091307005509      1564054127    248\n",
       "4  PaymentScreenSuccessful  6217807653094995999      1564055322    248"
      ]
     },
     "execution_count": 53,
     "metadata": {},
     "output_type": "execute_result"
    }
   ],
   "source": [
    "df.head()"
   ]
  },
  {
   "cell_type": "code",
   "execution_count": 54,
   "id": "e8bacc0b",
   "metadata": {},
   "outputs": [
    {
     "data": {
      "text/plain": [
       "EventName         0\n",
       "DeviceIDHash      0\n",
       "EventTimestamp    0\n",
       "ExpId             0\n",
       "dtype: int64"
      ]
     },
     "execution_count": 54,
     "metadata": {},
     "output_type": "execute_result"
    }
   ],
   "source": [
    "# Let's check for missing values\n",
    "df.isnull().sum()"
   ]
  },
  {
   "cell_type": "markdown",
   "id": "e66bce65",
   "metadata": {},
   "source": [
    "There are no missing values."
   ]
  },
  {
   "cell_type": "code",
   "execution_count": 55,
   "id": "f784664b",
   "metadata": {},
   "outputs": [
    {
     "name": "stdout",
     "output_type": "stream",
     "text": [
      "<class 'pandas.core.frame.DataFrame'>\n",
      "RangeIndex: 244126 entries, 0 to 244125\n",
      "Data columns (total 4 columns):\n",
      " #   Column          Non-Null Count   Dtype \n",
      "---  ------          --------------   ----- \n",
      " 0   EventName       244126 non-null  object\n",
      " 1   DeviceIDHash    244126 non-null  int64 \n",
      " 2   EventTimestamp  244126 non-null  int64 \n",
      " 3   ExpId           244126 non-null  int64 \n",
      "dtypes: int64(3), object(1)\n",
      "memory usage: 7.5+ MB\n"
     ]
    }
   ],
   "source": [
    "# Let's get acquainted with the data type\n",
    "df.info()"
   ]
  },
  {
   "cell_type": "markdown",
   "id": "508d987c",
   "metadata": {},
   "source": [
    "According to the description \"EventTimestamp\" is the time of the event. We will bring the data of this column to the value \"datetime\" in the next step of Preprocessing."
   ]
  },
  {
   "cell_type": "code",
   "execution_count": 56,
   "id": "ae3ab35f",
   "metadata": {},
   "outputs": [
    {
     "name": "stdout",
     "output_type": "stream",
     "text": [
      "413 - total duplicates\n",
      "0.17 - percentage of duplicates in the total number of rows\n"
     ]
    }
   ],
   "source": [
    "# let's check for obvious duplicates and, if there are any, determine their percentage in %% of the total number of rows\n",
    "print(df.duplicated().sum(), '- total duplicates')\n",
    "print(round(df.duplicated().sum() / df['DeviceIDHash'].count() * 100, 2), '- percentage of duplicates in the total number of rows')"
   ]
  },
  {
   "cell_type": "markdown",
   "id": "c918f3b7",
   "metadata": {},
   "source": [
    "There are duplicates, their number is minor and amounts to 0.17%. Let's get rid of obvious duplicates in the next step of Preprocessing."
   ]
  },
  {
   "cell_type": "code",
   "execution_count": 57,
   "id": "bee7a5e1",
   "metadata": {},
   "outputs": [
    {
     "data": {
      "text/plain": [
       "array(['MainScreenAppear', 'PaymentScreenSuccessful', 'CartScreenAppear',\n",
       "       'OffersScreenAppear', 'Tutorial'], dtype=object)"
      ]
     },
     "execution_count": 57,
     "metadata": {},
     "output_type": "execute_result"
    }
   ],
   "source": [
    "# we will check for non-obvious duplicates\n",
    "df['EventName'].unique()"
   ]
  },
  {
   "cell_type": "markdown",
   "id": "a1a3717a",
   "metadata": {},
   "source": [
    "There are no obvious duplicates."
   ]
  },
  {
   "cell_type": "markdown",
   "id": "d56025d9",
   "metadata": {},
   "source": [
    "## 2. Data preprocessing."
   ]
  },
  {
   "cell_type": "markdown",
   "id": "7cd403fe",
   "metadata": {},
   "source": [
    "### 2.1. Improving style and readability, removing duplicates"
   ]
  },
  {
   "cell_type": "code",
   "execution_count": 58,
   "id": "f4b5e9cd",
   "metadata": {},
   "outputs": [
    {
     "data": {
      "text/plain": [
       "Index(['EventName', 'DeviceIDHash', 'EventTimestamp', 'ExpId'], dtype='object')"
      ]
     },
     "execution_count": 58,
     "metadata": {},
     "output_type": "execute_result"
    }
   ],
   "source": [
    "# Let's change the name of the columns, reduce them to lowercase and remove unnecessary spaces if any\n",
    "df.columns"
   ]
  },
  {
   "cell_type": "code",
   "execution_count": 59,
   "id": "20a162d2",
   "metadata": {},
   "outputs": [],
   "source": [
    "df.columns = df.columns.str.lower()\n",
    "df = df.rename(columns={\n",
    "    'eventname': 'event_name',\n",
    "    'deviceidhash': 'device_id',\n",
    "    'eventtimestamp': 'event_timestamp',\n",
    "    'expid': 'test_id',\n",
    "})"
   ]
  },
  {
   "cell_type": "code",
   "execution_count": 60,
   "id": "a65b3eb2",
   "metadata": {},
   "outputs": [
    {
     "data": {
      "text/plain": [
       "Index(['event_name', 'device_id', 'event_timestamp', 'test_id'], dtype='object')"
      ]
     },
     "execution_count": 60,
     "metadata": {},
     "output_type": "execute_result"
    }
   ],
   "source": [
    "# Let's check the result\n",
    "df.columns"
   ]
  },
  {
   "cell_type": "code",
   "execution_count": 61,
   "id": "ddc8b359",
   "metadata": {},
   "outputs": [
    {
     "data": {
      "text/plain": [
       "0"
      ]
     },
     "execution_count": 61,
     "metadata": {},
     "output_type": "execute_result"
    }
   ],
   "source": [
    "# Let's remove the obvious duplicates\n",
    "df = df.drop_duplicates().reset_index(drop=True)\n",
    "df.duplicated().sum()"
   ]
  },
  {
   "cell_type": "markdown",
   "id": "e11be6a0",
   "metadata": {},
   "source": [
    "### 2.2. Changing data types, adding columns"
   ]
  },
  {
   "cell_type": "code",
   "execution_count": 62,
   "id": "f6a1fefd",
   "metadata": {},
   "outputs": [
    {
     "data": {
      "text/html": [
       "<div>\n",
       "<style scoped>\n",
       "    .dataframe tbody tr th:only-of-type {\n",
       "        vertical-align: middle;\n",
       "    }\n",
       "\n",
       "    .dataframe tbody tr th {\n",
       "        vertical-align: top;\n",
       "    }\n",
       "\n",
       "    .dataframe thead th {\n",
       "        text-align: right;\n",
       "    }\n",
       "</style>\n",
       "<table border=\"1\" class=\"dataframe\">\n",
       "  <thead>\n",
       "    <tr style=\"text-align: right;\">\n",
       "      <th></th>\n",
       "      <th>event_name</th>\n",
       "      <th>device_id</th>\n",
       "      <th>event_timestamp</th>\n",
       "      <th>test_id</th>\n",
       "      <th>date</th>\n",
       "    </tr>\n",
       "  </thead>\n",
       "  <tbody>\n",
       "    <tr>\n",
       "      <th>0</th>\n",
       "      <td>MainScreenAppear</td>\n",
       "      <td>4575588528974610257</td>\n",
       "      <td>2019-07-25 04:43:36</td>\n",
       "      <td>246</td>\n",
       "      <td>2019-07-25</td>\n",
       "    </tr>\n",
       "    <tr>\n",
       "      <th>1</th>\n",
       "      <td>MainScreenAppear</td>\n",
       "      <td>7416695313311560658</td>\n",
       "      <td>2019-07-25 11:11:42</td>\n",
       "      <td>246</td>\n",
       "      <td>2019-07-25</td>\n",
       "    </tr>\n",
       "    <tr>\n",
       "      <th>2</th>\n",
       "      <td>PaymentScreenSuccessful</td>\n",
       "      <td>3518123091307005509</td>\n",
       "      <td>2019-07-25 11:28:47</td>\n",
       "      <td>248</td>\n",
       "      <td>2019-07-25</td>\n",
       "    </tr>\n",
       "    <tr>\n",
       "      <th>3</th>\n",
       "      <td>CartScreenAppear</td>\n",
       "      <td>3518123091307005509</td>\n",
       "      <td>2019-07-25 11:28:47</td>\n",
       "      <td>248</td>\n",
       "      <td>2019-07-25</td>\n",
       "    </tr>\n",
       "    <tr>\n",
       "      <th>4</th>\n",
       "      <td>PaymentScreenSuccessful</td>\n",
       "      <td>6217807653094995999</td>\n",
       "      <td>2019-07-25 11:48:42</td>\n",
       "      <td>248</td>\n",
       "      <td>2019-07-25</td>\n",
       "    </tr>\n",
       "  </tbody>\n",
       "</table>\n",
       "</div>"
      ],
      "text/plain": [
       "                event_name            device_id     event_timestamp  test_id  \\\n",
       "0         MainScreenAppear  4575588528974610257 2019-07-25 04:43:36      246   \n",
       "1         MainScreenAppear  7416695313311560658 2019-07-25 11:11:42      246   \n",
       "2  PaymentScreenSuccessful  3518123091307005509 2019-07-25 11:28:47      248   \n",
       "3         CartScreenAppear  3518123091307005509 2019-07-25 11:28:47      248   \n",
       "4  PaymentScreenSuccessful  6217807653094995999 2019-07-25 11:48:42      248   \n",
       "\n",
       "        date  \n",
       "0 2019-07-25  \n",
       "1 2019-07-25  \n",
       "2 2019-07-25  \n",
       "3 2019-07-25  \n",
       "4 2019-07-25  "
      ]
     },
     "execution_count": 62,
     "metadata": {},
     "output_type": "execute_result"
    }
   ],
   "source": [
    "# Convert event_timestamp to a date and time column, and add a separate date column\n",
    "df['event_timestamp'] = pd.to_datetime(df['event_timestamp'], unit='s')\n",
    "df['date'] = df['event_timestamp'].astype('datetime64[D]')\n",
    "df.head()"
   ]
  },
  {
   "cell_type": "code",
   "execution_count": 63,
   "id": "1ed2e415",
   "metadata": {},
   "outputs": [
    {
     "data": {
      "text/plain": [
       "device_id    0\n",
       "test_id      0\n",
       "dtype: int64"
      ]
     },
     "execution_count": 63,
     "metadata": {},
     "output_type": "execute_result"
    }
   ],
   "source": [
    "# Let's check if the same users didn't get into different testing groups\n",
    "df.groupby('device_id').agg({'test_id': 'nunique'}).reset_index().query('test_id > 1').count()"
   ]
  },
  {
   "cell_type": "markdown",
   "id": "22b9273f",
   "metadata": {},
   "source": [
    "There are no intersections by users in different groups."
   ]
  },
  {
   "cell_type": "markdown",
   "id": "ec6e2c5c",
   "metadata": {},
   "source": [
    "## 3. Data examination and validation."
   ]
  },
  {
   "cell_type": "code",
   "execution_count": 64,
   "id": "ed2a34c7",
   "metadata": {},
   "outputs": [
    {
     "name": "stdout",
     "output_type": "stream",
     "text": [
      "Total events in the log: 243713\n",
      "Total users in the log: 7551\n",
      "Average number of events per user: 32\n"
     ]
    }
   ],
   "source": [
    "# Let's find out how many events are in the log, how many users there are and how many events per user on average\n",
    "print('Total events in the log:', df['event_name'].count())\n",
    "print('Total users in the log:', df['device_id'].nunique())\n",
    "print('Average number of events per user:', round(df['event_name'].count() / df['device_id'].nunique()))"
   ]
  },
  {
   "cell_type": "code",
   "execution_count": 65,
   "id": "e9ba9566",
   "metadata": {
    "scrolled": false
   },
   "outputs": [
    {
     "data": {
      "image/png": "[encoded data removed]",
      "text/plain": [
       "<Figure size 2000x600 with 3 Axes>"
      ]
     },
     "metadata": {},
     "output_type": "display_data"
    }
   ],
   "source": [
    "# Let's find out the distribution of the number of events by users by building a histogram\n",
    "plt.figure(figsize=(20, 6))\n",
    "events = df.groupby('device_id')['event_name'].count().sort_values()\n",
    "ax = plt.subplot(1, 3, 1)\n",
    "plt.hist(events, bins=20)\n",
    "plt.title('Number of events per user', fontsize=14)\n",
    "plt.ylabel('Number of users', fontsize=12)\n",
    "plt.xlabel('Number of events', fontsize=12)\n",
    "ax = plt.subplot(1, 3, 2)\n",
    "plt.hist(events, bins=30)\n",
    "plt.title('Number of events with Y-axis scaling', fontsize=14)\n",
    "plt.ylabel('Number of users', fontsize=12)\n",
    "plt.xlabel('Number of events', fontsize=12)\n",
    "plt.ylim(0, 40)\n",
    "ax = plt.subplot(1, 3, 3)\n",
    "plt.hist(events, bins=100)\n",
    "plt.title('Number of events with scaling on the X and Y axis', fontsize=14)\n",
    "plt.ylabel('Number of users', fontsize=12)\n",
    "plt.xlabel('Number of events', fontsize=12)\n",
    "plt.ylim(0, 40)\n",
    "plt.xlim(0, 500)\n",
    "plt.show()"
   ]
  },
  {
   "cell_type": "markdown",
   "id": "7c63ee9f",
   "metadata": {},
   "source": [
    "Most users commit from 1 to 200 events. However, single users account for up to about 2,300 events.\n",
    "\n",
    "Taking into account the single extreme values, it is not entirely correct to use the average to estimate the number of events per user. The calculation of the median value is more applicable here."
   ]
  },
  {
   "cell_type": "code",
   "execution_count": 66,
   "id": "4d840b94",
   "metadata": {
    "scrolled": false
   },
   "outputs": [
    {
     "data": {
      "text/plain": [
       "20.0"
      ]
     },
     "execution_count": 66,
     "metadata": {},
     "output_type": "execute_result"
    }
   ],
   "source": [
    "# Calculate the median\n",
    "a = pd.DataFrame(events).reset_index()\n",
    "a['event_name'].median()"
   ]
  },
  {
   "cell_type": "markdown",
   "id": "2b527278",
   "metadata": {},
   "source": [
    "Median value: 20 events per user."
   ]
  },
  {
   "cell_type": "code",
   "execution_count": 67,
   "id": "33bca822",
   "metadata": {},
   "outputs": [
    {
     "name": "stdout",
     "output_type": "stream",
     "text": [
      "Minimum date and time: 2019-07-25 04:43:36\n",
      "Maximum date and time: 2019-08-07 21:15:17\n"
     ]
    }
   ],
   "source": [
    "# Find the maximum and minimum date\n",
    "print('Minimum date and time:', df['event_timestamp'].min())\n",
    "print('Maximum date and time:', df['event_timestamp'].max())"
   ]
  },
  {
   "cell_type": "markdown",
   "id": "a1796ce9",
   "metadata": {},
   "source": [
    "We have data for the period from 04:43 on July 25 to 21:15 on August 07, 2019"
   ]
  },
  {
   "cell_type": "code",
   "execution_count": 68,
   "id": "79e389e5",
   "metadata": {},
   "outputs": [
    {
     "data": {
      "image/png": "[encoded data removed]",
      "text/plain": [
       "<Figure size 640x480 with 1 Axes>"
      ]
     },
     "metadata": {},
     "output_type": "display_data"
    }
   ],
   "source": [
    "# Let's build a histogram by date and time.\n",
    "plt.hist(df['event_timestamp'], bins=14*24)\n",
    "plt.title('Histogram by date and time', fontsize=14)\n",
    "plt.ylabel('Number of events', fontsize=12)\n",
    "plt.xlabel('Date', fontsize=12)\n",
    "plt.xticks(rotation=25)\n",
    "plt.show()"
   ]
  },
  {
   "cell_type": "code",
   "execution_count": 69,
   "id": "0df1b170",
   "metadata": {},
   "outputs": [
    {
     "data": {
      "text/plain": [
       "date\n",
       "2019-07-25        9\n",
       "2019-07-26       31\n",
       "2019-07-27       55\n",
       "2019-07-28      105\n",
       "2019-07-29      184\n",
       "2019-07-30      412\n",
       "2019-07-31     2030\n",
       "2019-08-01    36141\n",
       "2019-08-02    35554\n",
       "2019-08-03    33282\n",
       "2019-08-04    32968\n",
       "2019-08-05    36058\n",
       "2019-08-06    35788\n",
       "2019-08-07    31096\n",
       "Name: device_id, dtype: int64"
      ]
     },
     "execution_count": 69,
     "metadata": {},
     "output_type": "execute_result"
    }
   ],
   "source": [
    "# It seems that the data for June is incomplete. It is advisable to get rid of them.\n",
    "df.groupby('date')['device_id'].count()"
   ]
  },
  {
   "cell_type": "code",
   "execution_count": 70,
   "id": "f15040d1",
   "metadata": {},
   "outputs": [
    {
     "data": {
      "text/html": [
       "<div>\n",
       "<style scoped>\n",
       "    .dataframe tbody tr th:only-of-type {\n",
       "        vertical-align: middle;\n",
       "    }\n",
       "\n",
       "    .dataframe tbody tr th {\n",
       "        vertical-align: top;\n",
       "    }\n",
       "\n",
       "    .dataframe thead th {\n",
       "        text-align: right;\n",
       "    }\n",
       "</style>\n",
       "<table border=\"1\" class=\"dataframe\">\n",
       "  <thead>\n",
       "    <tr style=\"text-align: right;\">\n",
       "      <th></th>\n",
       "      <th>event_name</th>\n",
       "      <th>device_id</th>\n",
       "      <th>event_timestamp</th>\n",
       "      <th>test_id</th>\n",
       "      <th>date</th>\n",
       "    </tr>\n",
       "  </thead>\n",
       "  <tbody>\n",
       "    <tr>\n",
       "      <th>0</th>\n",
       "      <td>Tutorial</td>\n",
       "      <td>3737462046622621720</td>\n",
       "      <td>2019-08-01 00:07:28</td>\n",
       "      <td>246</td>\n",
       "      <td>2019-08-01</td>\n",
       "    </tr>\n",
       "    <tr>\n",
       "      <th>1</th>\n",
       "      <td>MainScreenAppear</td>\n",
       "      <td>3737462046622621720</td>\n",
       "      <td>2019-08-01 00:08:00</td>\n",
       "      <td>246</td>\n",
       "      <td>2019-08-01</td>\n",
       "    </tr>\n",
       "    <tr>\n",
       "      <th>2</th>\n",
       "      <td>MainScreenAppear</td>\n",
       "      <td>3737462046622621720</td>\n",
       "      <td>2019-08-01 00:08:55</td>\n",
       "      <td>246</td>\n",
       "      <td>2019-08-01</td>\n",
       "    </tr>\n",
       "    <tr>\n",
       "      <th>3</th>\n",
       "      <td>OffersScreenAppear</td>\n",
       "      <td>3737462046622621720</td>\n",
       "      <td>2019-08-01 00:08:58</td>\n",
       "      <td>246</td>\n",
       "      <td>2019-08-01</td>\n",
       "    </tr>\n",
       "    <tr>\n",
       "      <th>4</th>\n",
       "      <td>MainScreenAppear</td>\n",
       "      <td>1433840883824088890</td>\n",
       "      <td>2019-08-01 00:08:59</td>\n",
       "      <td>247</td>\n",
       "      <td>2019-08-01</td>\n",
       "    </tr>\n",
       "  </tbody>\n",
       "</table>\n",
       "</div>"
      ],
      "text/plain": [
       "           event_name            device_id     event_timestamp  test_id  \\\n",
       "0            Tutorial  3737462046622621720 2019-08-01 00:07:28      246   \n",
       "1    MainScreenAppear  3737462046622621720 2019-08-01 00:08:00      246   \n",
       "2    MainScreenAppear  3737462046622621720 2019-08-01 00:08:55      246   \n",
       "3  OffersScreenAppear  3737462046622621720 2019-08-01 00:08:58      246   \n",
       "4    MainScreenAppear  1433840883824088890 2019-08-01 00:08:59      247   \n",
       "\n",
       "        date  \n",
       "0 2019-08-01  \n",
       "1 2019-08-01  \n",
       "2 2019-08-01  \n",
       "3 2019-08-01  \n",
       "4 2019-08-01  "
      ]
     },
     "execution_count": 70,
     "metadata": {},
     "output_type": "execute_result"
    }
   ],
   "source": [
    "# Let's create a new dataset \"df_c\" in which we will save the data without July. \"Reset\" the index.\n",
    "df_c = df[df['date']>'2019-07-31'].reset_index(drop= True)\n",
    "df_c.head()"
   ]
  },
  {
   "cell_type": "markdown",
   "id": "134ff9d2",
   "metadata": {},
   "source": [
    "Also, users who started their activity in July and whose data we deleted could continue their activity in August. It is advisable to identify such users and remove events for them from the entire dataframe.\n",
    "Thus, we will only have data on new users who started their activity in August."
   ]
  },
  {
   "cell_type": "code",
   "execution_count": 71,
   "id": "3da3d1da",
   "metadata": {},
   "outputs": [
    {
     "name": "stdout",
     "output_type": "stream",
     "text": [
      "Total events in the log: there were 243713 became 240887 \"losses\" 1.16 %\n",
      "There were a total of users in the log: 7551 became 7534 \"losses\" 0.23 %\n",
      "The average number of events per user was: 32 became 32\n"
     ]
    }
   ],
   "source": [
    "# Let's find out if we lost a lot of events and users by discarding the data\n",
    "print('Total events in the log: there were', df['event_name'].count(),\n",
    "      'became', df_c['event_name'].count(),\n",
    "     '\"losses\"', round((df['event_name'].count() - df_c['event_name'].count()) / df['event_name'].count() * 100, 2),'%')\n",
    "print('There were a total of users in the log:', df['device_id'].nunique(),\n",
    "      'became', df_c['device_id'].nunique(),\n",
    "     '\"losses\"', round((df['device_id'].nunique() - df_c['device_id'].nunique()) / df['device_id'].nunique() * 100, 2), '%')\n",
    "print('The average number of events per user was:', round(df['event_name'].count() / df['device_id'].nunique()),\n",
    "      'became', round(df_c['event_name'].count() / df_c['device_id'].nunique()))"
   ]
  },
  {
   "cell_type": "code",
   "execution_count": 72,
   "id": "54c46157",
   "metadata": {},
   "outputs": [
    {
     "data": {
      "text/plain": [
       "test_id\n",
       "246    2484\n",
       "247    2513\n",
       "248    2537\n",
       "Name: device_id, dtype: int64"
      ]
     },
     "execution_count": 72,
     "metadata": {},
     "output_type": "execute_result"
    }
   ],
   "source": [
    "# Let's check that we have users from all three experimental groups\n",
    "df_c.groupby('test_id')['device_id'].nunique()"
   ]
  },
  {
   "cell_type": "markdown",
   "id": "b70a47ef",
   "metadata": {},
   "source": [
    "Each group has approximately the same number of unique users."
   ]
  },
  {
   "cell_type": "markdown",
   "id": "23153a75",
   "metadata": {},
   "source": [
    "**Intermediate Conclusion:**\n",
    "\n",
    "We have cleaned the dataframe by removing data from July, as well as users who started their activity in July.\n",
    "\n",
    "As a result, we obtained a dataframe with data for 7 days in August and users who started their activity in this month.\n",
    "\n",
    "After cleaning the data, the number of events in the log decreased by 25%, and the number of unique users decreased by 19%.\n",
    "\n",
    "Each experimental group ended up with approximately the same number of unique users."
   ]
  },
  {
   "cell_type": "markdown",
   "id": "9b67bf58",
   "metadata": {},
   "source": [
    "## 4. Sales funnel analysis."
   ]
  },
  {
   "cell_type": "code",
   "execution_count": 73,
   "id": "8c66d591",
   "metadata": {},
   "outputs": [
    {
     "data": {
      "text/html": [
       "<div>\n",
       "<style scoped>\n",
       "    .dataframe tbody tr th:only-of-type {\n",
       "        vertical-align: middle;\n",
       "    }\n",
       "\n",
       "    .dataframe tbody tr th {\n",
       "        vertical-align: top;\n",
       "    }\n",
       "\n",
       "    .dataframe thead th {\n",
       "        text-align: right;\n",
       "    }\n",
       "</style>\n",
       "<table border=\"1\" class=\"dataframe\">\n",
       "  <thead>\n",
       "    <tr style=\"text-align: right;\">\n",
       "      <th></th>\n",
       "      <th>event_name</th>\n",
       "      <th>device_id</th>\n",
       "    </tr>\n",
       "  </thead>\n",
       "  <tbody>\n",
       "    <tr>\n",
       "      <th>1</th>\n",
       "      <td>MainScreenAppear</td>\n",
       "      <td>117328</td>\n",
       "    </tr>\n",
       "    <tr>\n",
       "      <th>2</th>\n",
       "      <td>OffersScreenAppear</td>\n",
       "      <td>46333</td>\n",
       "    </tr>\n",
       "    <tr>\n",
       "      <th>0</th>\n",
       "      <td>CartScreenAppear</td>\n",
       "      <td>42303</td>\n",
       "    </tr>\n",
       "    <tr>\n",
       "      <th>3</th>\n",
       "      <td>PaymentScreenSuccessful</td>\n",
       "      <td>33918</td>\n",
       "    </tr>\n",
       "    <tr>\n",
       "      <th>4</th>\n",
       "      <td>Tutorial</td>\n",
       "      <td>1005</td>\n",
       "    </tr>\n",
       "  </tbody>\n",
       "</table>\n",
       "</div>"
      ],
      "text/plain": [
       "                event_name  device_id\n",
       "1         MainScreenAppear     117328\n",
       "2       OffersScreenAppear      46333\n",
       "0         CartScreenAppear      42303\n",
       "3  PaymentScreenSuccessful      33918\n",
       "4                 Tutorial       1005"
      ]
     },
     "execution_count": 73,
     "metadata": {},
     "output_type": "execute_result"
    }
   ],
   "source": [
    "# Let's see what events are in the logs, how often they occur\n",
    "df_c.groupby('event_name').agg({'device_id': 'count'}).reset_index().sort_values(by='device_id', ascending=False)"
   ]
  },
  {
   "cell_type": "markdown",
   "id": "d4508978",
   "metadata": {},
   "source": [
    "Most of the events in the log are viewing the Main page. Significantly fewer events (more than twice) - viewing the Order page. Shopping Cart viewing is slightly less eventful than Order viewing. Even fewer events are the appearance of a payment message.\n",
    "\n",
    "The least of all events is watching the Tutorial. Only about 1% of the Main Page view events."
   ]
  },
  {
   "cell_type": "code",
   "execution_count": 74,
   "id": "4e7f051d",
   "metadata": {},
   "outputs": [
    {
     "data": {
      "text/html": [
       "<div>\n",
       "<style scoped>\n",
       "    .dataframe tbody tr th:only-of-type {\n",
       "        vertical-align: middle;\n",
       "    }\n",
       "\n",
       "    .dataframe tbody tr th {\n",
       "        vertical-align: top;\n",
       "    }\n",
       "\n",
       "    .dataframe thead th {\n",
       "        text-align: right;\n",
       "    }\n",
       "</style>\n",
       "<table border=\"1\" class=\"dataframe\">\n",
       "  <thead>\n",
       "    <tr style=\"text-align: right;\">\n",
       "      <th></th>\n",
       "      <th>event_name</th>\n",
       "      <th>number_users</th>\n",
       "      <th>share_users</th>\n",
       "    </tr>\n",
       "  </thead>\n",
       "  <tbody>\n",
       "    <tr>\n",
       "      <th>1</th>\n",
       "      <td>MainScreenAppear</td>\n",
       "      <td>7419</td>\n",
       "      <td>3.04</td>\n",
       "    </tr>\n",
       "    <tr>\n",
       "      <th>2</th>\n",
       "      <td>OffersScreenAppear</td>\n",
       "      <td>4593</td>\n",
       "      <td>1.88</td>\n",
       "    </tr>\n",
       "    <tr>\n",
       "      <th>0</th>\n",
       "      <td>CartScreenAppear</td>\n",
       "      <td>3734</td>\n",
       "      <td>1.53</td>\n",
       "    </tr>\n",
       "    <tr>\n",
       "      <th>3</th>\n",
       "      <td>PaymentScreenSuccessful</td>\n",
       "      <td>3539</td>\n",
       "      <td>1.45</td>\n",
       "    </tr>\n",
       "    <tr>\n",
       "      <th>4</th>\n",
       "      <td>Tutorial</td>\n",
       "      <td>840</td>\n",
       "      <td>0.34</td>\n",
       "    </tr>\n",
       "  </tbody>\n",
       "</table>\n",
       "</div>"
      ],
      "text/plain": [
       "                event_name  number_users  share_users\n",
       "1         MainScreenAppear          7419         3.04\n",
       "2       OffersScreenAppear          4593         1.88\n",
       "0         CartScreenAppear          3734         1.53\n",
       "3  PaymentScreenSuccessful          3539         1.45\n",
       "4                 Tutorial           840         0.34"
      ]
     },
     "execution_count": 74,
     "metadata": {},
     "output_type": "execute_result"
    }
   ],
   "source": [
    "# Let's count how many users performed each of these events.\n",
    "# Sort the events by the number of users.\n",
    "# Calculate the proportion of users who performed each event at least once.\n",
    "a = df_c.groupby('event_name').agg({'device_id': 'nunique'}).reset_index().sort_values(by='device_id', ascending=False)\n",
    "a.columns = ['event_name', 'number_users']\n",
    "a['share_users'] = round(a['number_users'] / df['device_id'].count() * 100, 2)\n",
    "a"
   ]
  },
  {
   "cell_type": "markdown",
   "id": "12ad7be7",
   "metadata": {},
   "source": [
    "The number of users who performed at least one event decreases similarly to the number of events in the log.\n",
    "\n",
    "37% of users viewed the main page at least once, and 17% of users completed a payment.\n",
    "\n",
    "Only 5% of users visited the Tutorial page.\n",
    "\n",
    "**The following sequence of events emerges:**\n",
    "- First, users view the Main Page _MainScreenAppear_.\n",
    "- Next, they view the Order page _OffersScreenAppear_.\n",
    "- Then, they proceed to the Cart page _CartScreenAppear_.\n",
    "- Finally, after a successful payment, they see the Payment Confirmation page: _PaymentScreenSuccessful_.\n",
    "\n",
    "When calculating the funnel, the views of the Tutorial page _Tutorial_ can be excluded.\n",
    "\n",
    "The number of such events and users who performed them is minimal and does not correlate with the other user actions listed above."
   ]
  },
  {
   "cell_type": "code",
   "execution_count": 75,
   "id": "aef763e2",
   "metadata": {
    "scrolled": false
   },
   "outputs": [
    {
     "data": {
      "text/html": [
       "<div>\n",
       "<style scoped>\n",
       "    .dataframe tbody tr th:only-of-type {\n",
       "        vertical-align: middle;\n",
       "    }\n",
       "\n",
       "    .dataframe tbody tr th {\n",
       "        vertical-align: top;\n",
       "    }\n",
       "\n",
       "    .dataframe thead th {\n",
       "        text-align: right;\n",
       "    }\n",
       "</style>\n",
       "<table border=\"1\" class=\"dataframe\">\n",
       "  <thead>\n",
       "    <tr style=\"text-align: right;\">\n",
       "      <th></th>\n",
       "      <th>event_name</th>\n",
       "      <th>number_users</th>\n",
       "      <th>share_users</th>\n",
       "      <th>roll_rate</th>\n",
       "    </tr>\n",
       "  </thead>\n",
       "  <tbody>\n",
       "    <tr>\n",
       "      <th>0</th>\n",
       "      <td>MainScreenAppear</td>\n",
       "      <td>7419</td>\n",
       "      <td>3.04</td>\n",
       "      <td>NaN</td>\n",
       "    </tr>\n",
       "    <tr>\n",
       "      <th>1</th>\n",
       "      <td>OffersScreenAppear</td>\n",
       "      <td>4593</td>\n",
       "      <td>1.88</td>\n",
       "      <td>61.91</td>\n",
       "    </tr>\n",
       "    <tr>\n",
       "      <th>2</th>\n",
       "      <td>CartScreenAppear</td>\n",
       "      <td>3734</td>\n",
       "      <td>1.53</td>\n",
       "      <td>81.30</td>\n",
       "    </tr>\n",
       "    <tr>\n",
       "      <th>3</th>\n",
       "      <td>PaymentScreenSuccessful</td>\n",
       "      <td>3539</td>\n",
       "      <td>1.45</td>\n",
       "      <td>94.78</td>\n",
       "    </tr>\n",
       "  </tbody>\n",
       "</table>\n",
       "</div>"
      ],
      "text/plain": [
       "                event_name  number_users  share_users  roll_rate\n",
       "0         MainScreenAppear          7419         3.04        NaN\n",
       "1       OffersScreenAppear          4593         1.88      61.91\n",
       "2         CartScreenAppear          3734         1.53      81.30\n",
       "3  PaymentScreenSuccessful          3539         1.45      94.78"
      ]
     },
     "execution_count": 75,
     "metadata": {},
     "output_type": "execute_result"
    }
   ],
   "source": [
    "# Let's calculate what proportion of users goes to the next step of the funnel (from the number of users in the previous one)\n",
    "funnel = a.assign(roll_rate = lambda x: x['number_users'] / x['number_users'].shift() * 100).reset_index(drop=True)\n",
    "funnel = funnel[funnel['event_name'] != 'Tutorial']\n",
    "funnel['roll_rate'] = round(funnel['roll_rate'], 2)\n",
    "funnel"
   ]
  },
  {
   "cell_type": "code",
   "execution_count": 76,
   "id": "a96cc1be",
   "metadata": {},
   "outputs": [
    {
     "name": "stdout",
     "output_type": "stream",
     "text": [
      "From the first event to the payment it comes 47.7 % users.\n"
     ]
    }
   ],
   "source": [
    "print('From the first event to the payment it comes', round(funnel.iloc[3,1] / funnel.iloc[0,1] * 100, 2), '% users.')"
   ]
  },
  {
   "cell_type": "code",
   "execution_count": 77,
   "id": "b8347d3a",
   "metadata": {},
   "outputs": [],
   "source": [
    "# For further work, we will exclude the \"Tutorial\" event from the dataframe, save the data in \"df_c\"\n",
    "df_c = df_c[df_c['event_name'] != 'Tutorial']"
   ]
  },
  {
   "cell_type": "code",
   "execution_count": 79,
   "id": "998190f2",
   "metadata": {},
   "outputs": [
    {
     "data": {
      "application/vnd.plotly.v1+json": {
       "config": {
        "plotlyServerURL": "https://plot.ly"
       },
       "data": [
        {
         "type": "funnel",
         "x": [
          100,
          61.91,
          81.3,
          94.78
         ],
         "y": [
          "MainScreenAppear",
          "OffersScreenAppear",
          "CartScreenAppear",
          "PaymentScreenSuccessful"
         ]
        }
       ],
       "layout": {
        "template": {
         "data": {
          "bar": [
           {
            "error_x": {
             "color": "#2a3f5f"
            },
            "error_y": {
             "color": "#2a3f5f"
            },
            "marker": {
             "line": {
              "color": "#E5ECF6",
              "width": 0.5
             },
             "pattern": {
              "fillmode": "overlay",
              "size": 10,
              "solidity": 0.2
             }
            },
            "type": "bar"
           }
          ],
          "barpolar": [
           {
            "marker": {
             "line": {
              "color": "#E5ECF6",
              "width": 0.5
             },
             "pattern": {
              "fillmode": "overlay",
              "size": 10,
              "solidity": 0.2
             }
            },
            "type": "barpolar"
           }
          ],
          "carpet": [
           {
            "aaxis": {
             "endlinecolor": "#2a3f5f",
             "gridcolor": "white",
             "linecolor": "white",
             "minorgridcolor": "white",
             "startlinecolor": "#2a3f5f"
            },
            "baxis": {
             "endlinecolor": "#2a3f5f",
             "gridcolor": "white",
             "linecolor": "white",
             "minorgridcolor": "white",
             "startlinecolor": "#2a3f5f"
            },
            "type": "carpet"
           }
          ],
          "choropleth": [
           {
            "colorbar": {
             "outlinewidth": 0,
             "ticks": ""
            },
            "type": "choropleth"
           }
          ],
          "contour": [
           {
            "colorbar": {
             "outlinewidth": 0,
             "ticks": ""
            },
            "colorscale": [
             [
              0,
              "#0d0887"
             ],
             [
              0.1111111111111111,
              "#46039f"
             ],
             [
              0.2222222222222222,
              "#7201a8"
             ],
             [
              0.3333333333333333,
              "#9c179e"
             ],
             [
              0.4444444444444444,
              "#bd3786"
             ],
             [
              0.5555555555555556,
              "#d8576b"
             ],
             [
              0.6666666666666666,
              "#ed7953"
             ],
             [
              0.7777777777777778,
              "#fb9f3a"
             ],
             [
              0.8888888888888888,
              "#fdca26"
             ],
             [
              1,
              "#f0f921"
             ]
            ],
            "type": "contour"
           }
          ],
          "contourcarpet": [
           {
            "colorbar": {
             "outlinewidth": 0,
             "ticks": ""
            },
            "type": "contourcarpet"
           }
          ],
          "heatmap": [
           {
            "colorbar": {
             "outlinewidth": 0,
             "ticks": ""
            },
            "colorscale": [
             [
              0,
              "#0d0887"
             ],
             [
              0.1111111111111111,
              "#46039f"
             ],
             [
              0.2222222222222222,
              "#7201a8"
             ],
             [
              0.3333333333333333,
              "#9c179e"
             ],
             [
              0.4444444444444444,
              "#bd3786"
             ],
             [
              0.5555555555555556,
              "#d8576b"
             ],
             [
              0.6666666666666666,
              "#ed7953"
             ],
             [
              0.7777777777777778,
              "#fb9f3a"
             ],
             [
              0.8888888888888888,
              "#fdca26"
             ],
             [
              1,
              "#f0f921"
             ]
            ],
            "type": "heatmap"
           }
          ],
          "heatmapgl": [
           {
            "colorbar": {
             "outlinewidth": 0,
             "ticks": ""
            },
            "colorscale": [
             [
              0,
              "#0d0887"
             ],
             [
              0.1111111111111111,
              "#46039f"
             ],
             [
              0.2222222222222222,
              "#7201a8"
             ],
             [
              0.3333333333333333,
              "#9c179e"
             ],
             [
              0.4444444444444444,
              "#bd3786"
             ],
             [
              0.5555555555555556,
              "#d8576b"
             ],
             [
              0.6666666666666666,
              "#ed7953"
             ],
             [
              0.7777777777777778,
              "#fb9f3a"
             ],
             [
              0.8888888888888888,
              "#fdca26"
             ],
             [
              1,
              "#f0f921"
             ]
            ],
            "type": "heatmapgl"
           }
          ],
          "histogram": [
           {
            "marker": {
             "pattern": {
              "fillmode": "overlay",
              "size": 10,
              "solidity": 0.2
             }
            },
            "type": "histogram"
           }
          ],
          "histogram2d": [
           {
            "colorbar": {
             "outlinewidth": 0,
             "ticks": ""
            },
            "colorscale": [
             [
              0,
              "#0d0887"
             ],
             [
              0.1111111111111111,
              "#46039f"
             ],
             [
              0.2222222222222222,
              "#7201a8"
             ],
             [
              0.3333333333333333,
              "#9c179e"
             ],
             [
              0.4444444444444444,
              "#bd3786"
             ],
             [
              0.5555555555555556,
              "#d8576b"
             ],
             [
              0.6666666666666666,
              "#ed7953"
             ],
             [
              0.7777777777777778,
              "#fb9f3a"
             ],
             [
              0.8888888888888888,
              "#fdca26"
             ],
             [
              1,
              "#f0f921"
             ]
            ],
            "type": "histogram2d"
           }
          ],
          "histogram2dcontour": [
           {
            "colorbar": {
             "outlinewidth": 0,
             "ticks": ""
            },
            "colorscale": [
             [
              0,
              "#0d0887"
             ],
             [
              0.1111111111111111,
              "#46039f"
             ],
             [
              0.2222222222222222,
              "#7201a8"
             ],
             [
              0.3333333333333333,
              "#9c179e"
             ],
             [
              0.4444444444444444,
              "#bd3786"
             ],
             [
              0.5555555555555556,
              "#d8576b"
             ],
             [
              0.6666666666666666,
              "#ed7953"
             ],
             [
              0.7777777777777778,
              "#fb9f3a"
             ],
             [
              0.8888888888888888,
              "#fdca26"
             ],
             [
              1,
              "#f0f921"
             ]
            ],
            "type": "histogram2dcontour"
           }
          ],
          "mesh3d": [
           {
            "colorbar": {
             "outlinewidth": 0,
             "ticks": ""
            },
            "type": "mesh3d"
           }
          ],
          "parcoords": [
           {
            "line": {
             "colorbar": {
              "outlinewidth": 0,
              "ticks": ""
             }
            },
            "type": "parcoords"
           }
          ],
          "pie": [
           {
            "automargin": true,
            "type": "pie"
           }
          ],
          "scatter": [
           {
            "fillpattern": {
             "fillmode": "overlay",
             "size": 10,
             "solidity": 0.2
            },
            "type": "scatter"
           }
          ],
          "scatter3d": [
           {
            "line": {
             "colorbar": {
              "outlinewidth": 0,
              "ticks": ""
             }
            },
            "marker": {
             "colorbar": {
              "outlinewidth": 0,
              "ticks": ""
             }
            },
            "type": "scatter3d"
           }
          ],
          "scattercarpet": [
           {
            "marker": {
             "colorbar": {
              "outlinewidth": 0,
              "ticks": ""
             }
            },
            "type": "scattercarpet"
           }
          ],
          "scattergeo": [
           {
            "marker": {
             "colorbar": {
              "outlinewidth": 0,
              "ticks": ""
             }
            },
            "type": "scattergeo"
           }
          ],
          "scattergl": [
           {
            "marker": {
             "colorbar": {
              "outlinewidth": 0,
              "ticks": ""
             }
            },
            "type": "scattergl"
           }
          ],
          "scattermapbox": [
           {
            "marker": {
             "colorbar": {
              "outlinewidth": 0,
              "ticks": ""
             }
            },
            "type": "scattermapbox"
           }
          ],
          "scatterpolar": [
           {
            "marker": {
             "colorbar": {
              "outlinewidth": 0,
              "ticks": ""
             }
            },
            "type": "scatterpolar"
           }
          ],
          "scatterpolargl": [
           {
            "marker": {
             "colorbar": {
              "outlinewidth": 0,
              "ticks": ""
             }
            },
            "type": "scatterpolargl"
           }
          ],
          "scatterternary": [
           {
            "marker": {
             "colorbar": {
              "outlinewidth": 0,
              "ticks": ""
             }
            },
            "type": "scatterternary"
           }
          ],
          "surface": [
           {
            "colorbar": {
             "outlinewidth": 0,
             "ticks": ""
            },
            "colorscale": [
             [
              0,
              "#0d0887"
             ],
             [
              0.1111111111111111,
              "#46039f"
             ],
             [
              0.2222222222222222,
              "#7201a8"
             ],
             [
              0.3333333333333333,
              "#9c179e"
             ],
             [
              0.4444444444444444,
              "#bd3786"
             ],
             [
              0.5555555555555556,
              "#d8576b"
             ],
             [
              0.6666666666666666,
              "#ed7953"
             ],
             [
              0.7777777777777778,
              "#fb9f3a"
             ],
             [
              0.8888888888888888,
              "#fdca26"
             ],
             [
              1,
              "#f0f921"
             ]
            ],
            "type": "surface"
           }
          ],
          "table": [
           {
            "cells": {
             "fill": {
              "color": "#EBF0F8"
             },
             "line": {
              "color": "white"
             }
            },
            "header": {
             "fill": {
              "color": "#C8D4E3"
             },
             "line": {
              "color": "white"
             }
            },
            "type": "table"
           }
          ]
         },
         "layout": {
          "annotationdefaults": {
           "arrowcolor": "#2a3f5f",
           "arrowhead": 0,
           "arrowwidth": 1
          },
          "autotypenumbers": "strict",
          "coloraxis": {
           "colorbar": {
            "outlinewidth": 0,
            "ticks": ""
           }
          },
          "colorscale": {
           "diverging": [
            [
             0,
             "#8e0152"
            ],
            [
             0.1,
             "#c51b7d"
            ],
            [
             0.2,
             "#de77ae"
            ],
            [
             0.3,
             "#f1b6da"
            ],
            [
             0.4,
             "#fde0ef"
            ],
            [
             0.5,
             "#f7f7f7"
            ],
            [
             0.6,
             "#e6f5d0"
            ],
            [
             0.7,
             "#b8e186"
            ],
            [
             0.8,
             "#7fbc41"
            ],
            [
             0.9,
             "#4d9221"
            ],
            [
             1,
             "#276419"
            ]
           ],
           "sequential": [
            [
             0,
             "#0d0887"
            ],
            [
             0.1111111111111111,
             "#46039f"
            ],
            [
             0.2222222222222222,
             "#7201a8"
            ],
            [
             0.3333333333333333,
             "#9c179e"
            ],
            [
             0.4444444444444444,
             "#bd3786"
            ],
            [
             0.5555555555555556,
             "#d8576b"
            ],
            [
             0.6666666666666666,
             "#ed7953"
            ],
            [
             0.7777777777777778,
             "#fb9f3a"
            ],
            [
             0.8888888888888888,
             "#fdca26"
            ],
            [
             1,
             "#f0f921"
            ]
           ],
           "sequentialminus": [
            [
             0,
             "#0d0887"
            ],
            [
             0.1111111111111111,
             "#46039f"
            ],
            [
             0.2222222222222222,
             "#7201a8"
            ],
            [
             0.3333333333333333,
             "#9c179e"
            ],
            [
             0.4444444444444444,
             "#bd3786"
            ],
            [
             0.5555555555555556,
             "#d8576b"
            ],
            [
             0.6666666666666666,
             "#ed7953"
            ],
            [
             0.7777777777777778,
             "#fb9f3a"
            ],
            [
             0.8888888888888888,
             "#fdca26"
            ],
            [
             1,
             "#f0f921"
            ]
           ]
          },
          "colorway": [
           "#636efa",
           "#EF553B",
           "#00cc96",
           "#ab63fa",
           "#FFA15A",
           "#19d3f3",
           "#FF6692",
           "#B6E880",
           "#FF97FF",
           "#FECB52"
          ],
          "font": {
           "color": "#2a3f5f"
          },
          "geo": {
           "bgcolor": "white",
           "lakecolor": "white",
           "landcolor": "#E5ECF6",
           "showlakes": true,
           "showland": true,
           "subunitcolor": "white"
          },
          "hoverlabel": {
           "align": "left"
          },
          "hovermode": "closest",
          "mapbox": {
           "style": "light"
          },
          "paper_bgcolor": "white",
          "plot_bgcolor": "#E5ECF6",
          "polar": {
           "angularaxis": {
            "gridcolor": "white",
            "linecolor": "white",
            "ticks": ""
           },
           "bgcolor": "#E5ECF6",
           "radialaxis": {
            "gridcolor": "white",
            "linecolor": "white",
            "ticks": ""
           }
          },
          "scene": {
           "xaxis": {
            "backgroundcolor": "#E5ECF6",
            "gridcolor": "white",
            "gridwidth": 2,
            "linecolor": "white",
            "showbackground": true,
            "ticks": "",
            "zerolinecolor": "white"
           },
           "yaxis": {
            "backgroundcolor": "#E5ECF6",
            "gridcolor": "white",
            "gridwidth": 2,
            "linecolor": "white",
            "showbackground": true,
            "ticks": "",
            "zerolinecolor": "white"
           },
           "zaxis": {
            "backgroundcolor": "#E5ECF6",
            "gridcolor": "white",
            "gridwidth": 2,
            "linecolor": "white",
            "showbackground": true,
            "ticks": "",
            "zerolinecolor": "white"
           }
          },
          "shapedefaults": {
           "line": {
            "color": "#2a3f5f"
           }
          },
          "ternary": {
           "aaxis": {
            "gridcolor": "white",
            "linecolor": "white",
            "ticks": ""
           },
           "baxis": {
            "gridcolor": "white",
            "linecolor": "white",
            "ticks": ""
           },
           "bgcolor": "#E5ECF6",
           "caxis": {
            "gridcolor": "white",
            "linecolor": "white",
            "ticks": ""
           }
          },
          "title": {
           "x": 0.05
          },
          "xaxis": {
           "automargin": true,
           "gridcolor": "white",
           "linecolor": "white",
           "ticks": "",
           "title": {
            "standoff": 15
           },
           "zerolinecolor": "white",
           "zerolinewidth": 2
          },
          "yaxis": {
           "automargin": true,
           "gridcolor": "white",
           "linecolor": "white",
           "ticks": "",
           "title": {
            "standoff": 15
           },
           "zerolinecolor": "white",
           "zerolinewidth": 2
          }
         }
        },
        "title": {
         "text": "Funnel Visualization",
         "x": 0.5,
         "xanchor": "center"
        }
       }
      },
      "text/html": [
       "<div>                            <div id=\"fecaabac-f93e-4fed-a61f-8ef2999ac230\" class=\"plotly-graph-div\" style=\"height:525px; width:100%;\"></div>            <script type=\"text/javascript\">                require([\"plotly\"], function(Plotly) {                    window.PLOTLYENV=window.PLOTLYENV || {};                                    if (document.getElementById(\"fecaabac-f93e-4fed-a61f-8ef2999ac230\")) {                    Plotly.newPlot(                        \"fecaabac-f93e-4fed-a61f-8ef2999ac230\",                        [{\"x\":[100.0,61.91,81.3,94.78],\"y\":[\"MainScreenAppear\",\"OffersScreenAppear\",\"CartScreenAppear\",\"PaymentScreenSuccessful\"],\"type\":\"funnel\"}],                        {\"template\":{\"data\":{\"histogram2dcontour\":[{\"type\":\"histogram2dcontour\",\"colorbar\":{\"outlinewidth\":0,\"ticks\":\"\"},\"colorscale\":[[0.0,\"#0d0887\"],[0.1111111111111111,\"#46039f\"],[0.2222222222222222,\"#7201a8\"],[0.3333333333333333,\"#9c179e\"],[0.4444444444444444,\"#bd3786\"],[0.5555555555555556,\"#d8576b\"],[0.6666666666666666,\"#ed7953\"],[0.7777777777777778,\"#fb9f3a\"],[0.8888888888888888,\"#fdca26\"],[1.0,\"#f0f921\"]]}],\"choropleth\":[{\"type\":\"choropleth\",\"colorbar\":{\"outlinewidth\":0,\"ticks\":\"\"}}],\"histogram2d\":[{\"type\":\"histogram2d\",\"colorbar\":{\"outlinewidth\":0,\"ticks\":\"\"},\"colorscale\":[[0.0,\"#0d0887\"],[0.1111111111111111,\"#46039f\"],[0.2222222222222222,\"#7201a8\"],[0.3333333333333333,\"#9c179e\"],[0.4444444444444444,\"#bd3786\"],[0.5555555555555556,\"#d8576b\"],[0.6666666666666666,\"#ed7953\"],[0.7777777777777778,\"#fb9f3a\"],[0.8888888888888888,\"#fdca26\"],[1.0,\"#f0f921\"]]}],\"heatmap\":[{\"type\":\"heatmap\",\"colorbar\":{\"outlinewidth\":0,\"ticks\":\"\"},\"colorscale\":[[0.0,\"#0d0887\"],[0.1111111111111111,\"#46039f\"],[0.2222222222222222,\"#7201a8\"],[0.3333333333333333,\"#9c179e\"],[0.4444444444444444,\"#bd3786\"],[0.5555555555555556,\"#d8576b\"],[0.6666666666666666,\"#ed7953\"],[0.7777777777777778,\"#fb9f3a\"],[0.8888888888888888,\"#fdca26\"],[1.0,\"#f0f921\"]]}],\"heatmapgl\":[{\"type\":\"heatmapgl\",\"colorbar\":{\"outlinewidth\":0,\"ticks\":\"\"},\"colorscale\":[[0.0,\"#0d0887\"],[0.1111111111111111,\"#46039f\"],[0.2222222222222222,\"#7201a8\"],[0.3333333333333333,\"#9c179e\"],[0.4444444444444444,\"#bd3786\"],[0.5555555555555556,\"#d8576b\"],[0.6666666666666666,\"#ed7953\"],[0.7777777777777778,\"#fb9f3a\"],[0.8888888888888888,\"#fdca26\"],[1.0,\"#f0f921\"]]}],\"contourcarpet\":[{\"type\":\"contourcarpet\",\"colorbar\":{\"outlinewidth\":0,\"ticks\":\"\"}}],\"contour\":[{\"type\":\"contour\",\"colorbar\":{\"outlinewidth\":0,\"ticks\":\"\"},\"colorscale\":[[0.0,\"#0d0887\"],[0.1111111111111111,\"#46039f\"],[0.2222222222222222,\"#7201a8\"],[0.3333333333333333,\"#9c179e\"],[0.4444444444444444,\"#bd3786\"],[0.5555555555555556,\"#d8576b\"],[0.6666666666666666,\"#ed7953\"],[0.7777777777777778,\"#fb9f3a\"],[0.8888888888888888,\"#fdca26\"],[1.0,\"#f0f921\"]]}],\"surface\":[{\"type\":\"surface\",\"colorbar\":{\"outlinewidth\":0,\"ticks\":\"\"},\"colorscale\":[[0.0,\"#0d0887\"],[0.1111111111111111,\"#46039f\"],[0.2222222222222222,\"#7201a8\"],[0.3333333333333333,\"#9c179e\"],[0.4444444444444444,\"#bd3786\"],[0.5555555555555556,\"#d8576b\"],[0.6666666666666666,\"#ed7953\"],[0.7777777777777778,\"#fb9f3a\"],[0.8888888888888888,\"#fdca26\"],[1.0,\"#f0f921\"]]}],\"mesh3d\":[{\"type\":\"mesh3d\",\"colorbar\":{\"outlinewidth\":0,\"ticks\":\"\"}}],\"scatter\":[{\"fillpattern\":{\"fillmode\":\"overlay\",\"size\":10,\"solidity\":0.2},\"type\":\"scatter\"}],\"parcoords\":[{\"type\":\"parcoords\",\"line\":{\"colorbar\":{\"outlinewidth\":0,\"ticks\":\"\"}}}],\"scatterpolargl\":[{\"type\":\"scatterpolargl\",\"marker\":{\"colorbar\":{\"outlinewidth\":0,\"ticks\":\"\"}}}],\"bar\":[{\"error_x\":{\"color\":\"#2a3f5f\"},\"error_y\":{\"color\":\"#2a3f5f\"},\"marker\":{\"line\":{\"color\":\"#E5ECF6\",\"width\":0.5},\"pattern\":{\"fillmode\":\"overlay\",\"size\":10,\"solidity\":0.2}},\"type\":\"bar\"}],\"scattergeo\":[{\"type\":\"scattergeo\",\"marker\":{\"colorbar\":{\"outlinewidth\":0,\"ticks\":\"\"}}}],\"scatterpolar\":[{\"type\":\"scatterpolar\",\"marker\":{\"colorbar\":{\"outlinewidth\":0,\"ticks\":\"\"}}}],\"histogram\":[{\"marker\":{\"pattern\":{\"fillmode\":\"overlay\",\"size\":10,\"solidity\":0.2}},\"type\":\"histogram\"}],\"scattergl\":[{\"type\":\"scattergl\",\"marker\":{\"colorbar\":{\"outlinewidth\":0,\"ticks\":\"\"}}}],\"scatter3d\":[{\"type\":\"scatter3d\",\"line\":{\"colorbar\":{\"outlinewidth\":0,\"ticks\":\"\"}},\"marker\":{\"colorbar\":{\"outlinewidth\":0,\"ticks\":\"\"}}}],\"scattermapbox\":[{\"type\":\"scattermapbox\",\"marker\":{\"colorbar\":{\"outlinewidth\":0,\"ticks\":\"\"}}}],\"scatterternary\":[{\"type\":\"scatterternary\",\"marker\":{\"colorbar\":{\"outlinewidth\":0,\"ticks\":\"\"}}}],\"scattercarpet\":[{\"type\":\"scattercarpet\",\"marker\":{\"colorbar\":{\"outlinewidth\":0,\"ticks\":\"\"}}}],\"carpet\":[{\"aaxis\":{\"endlinecolor\":\"#2a3f5f\",\"gridcolor\":\"white\",\"linecolor\":\"white\",\"minorgridcolor\":\"white\",\"startlinecolor\":\"#2a3f5f\"},\"baxis\":{\"endlinecolor\":\"#2a3f5f\",\"gridcolor\":\"white\",\"linecolor\":\"white\",\"minorgridcolor\":\"white\",\"startlinecolor\":\"#2a3f5f\"},\"type\":\"carpet\"}],\"table\":[{\"cells\":{\"fill\":{\"color\":\"#EBF0F8\"},\"line\":{\"color\":\"white\"}},\"header\":{\"fill\":{\"color\":\"#C8D4E3\"},\"line\":{\"color\":\"white\"}},\"type\":\"table\"}],\"barpolar\":[{\"marker\":{\"line\":{\"color\":\"#E5ECF6\",\"width\":0.5},\"pattern\":{\"fillmode\":\"overlay\",\"size\":10,\"solidity\":0.2}},\"type\":\"barpolar\"}],\"pie\":[{\"automargin\":true,\"type\":\"pie\"}]},\"layout\":{\"autotypenumbers\":\"strict\",\"colorway\":[\"#636efa\",\"#EF553B\",\"#00cc96\",\"#ab63fa\",\"#FFA15A\",\"#19d3f3\",\"#FF6692\",\"#B6E880\",\"#FF97FF\",\"#FECB52\"],\"font\":{\"color\":\"#2a3f5f\"},\"hovermode\":\"closest\",\"hoverlabel\":{\"align\":\"left\"},\"paper_bgcolor\":\"white\",\"plot_bgcolor\":\"#E5ECF6\",\"polar\":{\"bgcolor\":\"#E5ECF6\",\"angularaxis\":{\"gridcolor\":\"white\",\"linecolor\":\"white\",\"ticks\":\"\"},\"radialaxis\":{\"gridcolor\":\"white\",\"linecolor\":\"white\",\"ticks\":\"\"}},\"ternary\":{\"bgcolor\":\"#E5ECF6\",\"aaxis\":{\"gridcolor\":\"white\",\"linecolor\":\"white\",\"ticks\":\"\"},\"baxis\":{\"gridcolor\":\"white\",\"linecolor\":\"white\",\"ticks\":\"\"},\"caxis\":{\"gridcolor\":\"white\",\"linecolor\":\"white\",\"ticks\":\"\"}},\"coloraxis\":{\"colorbar\":{\"outlinewidth\":0,\"ticks\":\"\"}},\"colorscale\":{\"sequential\":[[0.0,\"#0d0887\"],[0.1111111111111111,\"#46039f\"],[0.2222222222222222,\"#7201a8\"],[0.3333333333333333,\"#9c179e\"],[0.4444444444444444,\"#bd3786\"],[0.5555555555555556,\"#d8576b\"],[0.6666666666666666,\"#ed7953\"],[0.7777777777777778,\"#fb9f3a\"],[0.8888888888888888,\"#fdca26\"],[1.0,\"#f0f921\"]],\"sequentialminus\":[[0.0,\"#0d0887\"],[0.1111111111111111,\"#46039f\"],[0.2222222222222222,\"#7201a8\"],[0.3333333333333333,\"#9c179e\"],[0.4444444444444444,\"#bd3786\"],[0.5555555555555556,\"#d8576b\"],[0.6666666666666666,\"#ed7953\"],[0.7777777777777778,\"#fb9f3a\"],[0.8888888888888888,\"#fdca26\"],[1.0,\"#f0f921\"]],\"diverging\":[[0,\"#8e0152\"],[0.1,\"#c51b7d\"],[0.2,\"#de77ae\"],[0.3,\"#f1b6da\"],[0.4,\"#fde0ef\"],[0.5,\"#f7f7f7\"],[0.6,\"#e6f5d0\"],[0.7,\"#b8e186\"],[0.8,\"#7fbc41\"],[0.9,\"#4d9221\"],[1,\"#276419\"]]},\"xaxis\":{\"gridcolor\":\"white\",\"linecolor\":\"white\",\"ticks\":\"\",\"title\":{\"standoff\":15},\"zerolinecolor\":\"white\",\"automargin\":true,\"zerolinewidth\":2},\"yaxis\":{\"gridcolor\":\"white\",\"linecolor\":\"white\",\"ticks\":\"\",\"title\":{\"standoff\":15},\"zerolinecolor\":\"white\",\"automargin\":true,\"zerolinewidth\":2},\"scene\":{\"xaxis\":{\"backgroundcolor\":\"#E5ECF6\",\"gridcolor\":\"white\",\"linecolor\":\"white\",\"showbackground\":true,\"ticks\":\"\",\"zerolinecolor\":\"white\",\"gridwidth\":2},\"yaxis\":{\"backgroundcolor\":\"#E5ECF6\",\"gridcolor\":\"white\",\"linecolor\":\"white\",\"showbackground\":true,\"ticks\":\"\",\"zerolinecolor\":\"white\",\"gridwidth\":2},\"zaxis\":{\"backgroundcolor\":\"#E5ECF6\",\"gridcolor\":\"white\",\"linecolor\":\"white\",\"showbackground\":true,\"ticks\":\"\",\"zerolinecolor\":\"white\",\"gridwidth\":2}},\"shapedefaults\":{\"line\":{\"color\":\"#2a3f5f\"}},\"annotationdefaults\":{\"arrowcolor\":\"#2a3f5f\",\"arrowhead\":0,\"arrowwidth\":1},\"geo\":{\"bgcolor\":\"white\",\"landcolor\":\"#E5ECF6\",\"subunitcolor\":\"white\",\"showland\":true,\"showlakes\":true,\"lakecolor\":\"white\"},\"title\":{\"x\":0.05},\"mapbox\":{\"style\":\"light\"}}},\"title\":{\"text\":\"Funnel Visualization\",\"x\":0.5,\"xanchor\":\"center\"}},                        {\"responsive\": true}                    ).then(function(){\n",
       "                            \n",
       "var gd = document.getElementById('fecaabac-f93e-4fed-a61f-8ef2999ac230');\n",
       "var x = new MutationObserver(function (mutations, observer) {{\n",
       "        var display = window.getComputedStyle(gd).display;\n",
       "        if (!display || display === 'none') {{\n",
       "            console.log([gd, 'removed!']);\n",
       "            Plotly.purge(gd);\n",
       "            observer.disconnect();\n",
       "        }}\n",
       "}});\n",
       "\n",
       "// Listen for the removal of the full notebook cells\n",
       "var notebookContainer = gd.closest('#notebook-container');\n",
       "if (notebookContainer) {{\n",
       "    x.observe(notebookContainer, {childList: true});\n",
       "}}\n",
       "\n",
       "// Listen for the clearing of the current output cell\n",
       "var outputEl = gd.closest('.output');\n",
       "if (outputEl) {{\n",
       "    x.observe(outputEl, {childList: true});\n",
       "}}\n",
       "\n",
       "                        })                };                });            </script>        </div>"
      ]
     },
     "metadata": {},
     "output_type": "display_data"
    }
   ],
   "source": [
    "# Let's add a visualization of the funnel\n",
    "from plotly import graph_objects as go\n",
    "fig = go.Figure(go.Funnel(y = list(funnel['event_name']), x = list(funnel['roll_rate'].fillna(100))))\n",
    "fig.update_layout(title={'text': 'Funnel Visualization', 'x':0.5, 'xanchor': 'center'})\n",
    "fig.show()"
   ]
  },
  {
   "cell_type": "markdown",
   "id": "58594138",
   "metadata": {},
   "source": [
    "**Intermediate Conclusion:**\n",
    "\n",
    "We have identified the event funnel. One of the events, viewing the Tutorial, was excluded from the funnel.\n",
    "\n",
    "The highest user drop-off occurs when transitioning from viewing the Main Page to the Order Page: 62% of users who viewed the Main Page proceed to the Order Page. In other words, 38% of users are \"lost\" at this step.\n",
    "\n",
    "For comparison: about 19% of users are \"lost\" when transitioning from the Order Page to the Cart, and about 5% when moving from the Cart to Payment.\n",
    "\n",
    "In total, 47% of users proceed from viewing the Main Page to making a Payment."
   ]
  },
  {
   "cell_type": "markdown",
   "id": "3e123303",
   "metadata": {},
   "source": [
    "## 5. Experiment result analysis."
   ]
  },
  {
   "cell_type": "markdown",
   "id": "175aabe8",
   "metadata": {},
   "source": [
    "At this step, we will take into account the optimal level of statistical significance for the tests, given the fact that we have multiple hypothesis testing, which means that the risk of a false positive result increases, that is, the risk of finding differences where they actually do not exist."
   ]
  },
  {
   "cell_type": "markdown",
   "id": "16ca4a57",
   "metadata": {},
   "source": [
    "In the future, we will designate the tests numbered \"246\", \"247\" and \"248\" as tests/groups as \"A1\", \"A2\" and \"B\"."
   ]
  },
  {
   "cell_type": "code",
   "execution_count": 80,
   "id": "e7d5cdd9",
   "metadata": {},
   "outputs": [],
   "source": [
    "# Let's save the number of unique users for each experimental group into separate variables\n",
    "users_by_group = pd.DataFrame(df_c.groupby('test_id')['device_id'].nunique()).reset_index()\n",
    "a1 = users_by_group.iloc[0,1]\n",
    "a2 = users_by_group.iloc[1,1]\n",
    "b = users_by_group.iloc[2,1]"
   ]
  },
  {
   "cell_type": "code",
   "execution_count": 81,
   "id": "bdd7aa54",
   "metadata": {},
   "outputs": [
    {
     "data": {
      "text/html": [
       "<div>\n",
       "<style scoped>\n",
       "    .dataframe tbody tr th:only-of-type {\n",
       "        vertical-align: middle;\n",
       "    }\n",
       "\n",
       "    .dataframe tbody tr th {\n",
       "        vertical-align: top;\n",
       "    }\n",
       "\n",
       "    .dataframe thead th {\n",
       "        text-align: right;\n",
       "    }\n",
       "</style>\n",
       "<table border=\"1\" class=\"dataframe\">\n",
       "  <thead>\n",
       "    <tr style=\"text-align: right;\">\n",
       "      <th></th>\n",
       "      <th>event_name</th>\n",
       "      <th>A1</th>\n",
       "      <th>A2</th>\n",
       "      <th>B</th>\n",
       "    </tr>\n",
       "  </thead>\n",
       "  <tbody>\n",
       "    <tr>\n",
       "      <th>1</th>\n",
       "      <td>MainScreenAppear</td>\n",
       "      <td>2450</td>\n",
       "      <td>2476</td>\n",
       "      <td>2493</td>\n",
       "    </tr>\n",
       "    <tr>\n",
       "      <th>2</th>\n",
       "      <td>OffersScreenAppear</td>\n",
       "      <td>1542</td>\n",
       "      <td>1520</td>\n",
       "      <td>1531</td>\n",
       "    </tr>\n",
       "    <tr>\n",
       "      <th>0</th>\n",
       "      <td>CartScreenAppear</td>\n",
       "      <td>1266</td>\n",
       "      <td>1238</td>\n",
       "      <td>1230</td>\n",
       "    </tr>\n",
       "    <tr>\n",
       "      <th>3</th>\n",
       "      <td>PaymentScreenSuccessful</td>\n",
       "      <td>1200</td>\n",
       "      <td>1158</td>\n",
       "      <td>1181</td>\n",
       "    </tr>\n",
       "  </tbody>\n",
       "</table>\n",
       "</div>"
      ],
      "text/plain": [
       "                event_name    A1    A2     B\n",
       "1         MainScreenAppear  2450  2476  2493\n",
       "2       OffersScreenAppear  1542  1520  1531\n",
       "0         CartScreenAppear  1266  1238  1230\n",
       "3  PaymentScreenSuccessful  1200  1158  1181"
      ]
     },
     "execution_count": 81,
     "metadata": {},
     "output_type": "execute_result"
    }
   ],
   "source": [
    "# Let's create a table grouping the number of unique users by event and belonging to the test group.\n",
    "# Rename the columns.\n",
    "users_test = pd.pivot_table(df_c, index='event_name', columns='test_id', values='device_id', aggfunc='nunique').reset_index()\n",
    "users_test.columns = ['event_name', 'A1', 'A2', 'B']\n",
    "users_test = users_test.sort_values(by='A1', ascending=False)\n",
    "users_test"
   ]
  },
  {
   "cell_type": "markdown",
   "id": "1d6ac2ff",
   "metadata": {},
   "source": [
    "### 5.1. A1/A2-experiment"
   ]
  },
  {
   "cell_type": "markdown",
   "id": "af8feed0",
   "metadata": {},
   "source": [
    "Let's check whether the statistical criteria find the difference between the samples \"A1\" and \"A2\""
   ]
  },
  {
   "cell_type": "markdown",
   "id": "0b16124a",
   "metadata": {},
   "source": [
    "**Let's calculate the statistical significance of the difference in the share of users going to the Main page in these groups. Let's check the hypotheses.**\n",
    "\n",
    "Hypotheses:\n",
    "\n",
    "- H0: There is no statistically significant difference between the groups in the percentage of users going to the Main Page.\n",
    "- H1 There is a statistically significant difference between the groups in the percentage of users going to the Main page."
   ]
  },
  {
   "cell_type": "code",
   "execution_count": 82,
   "id": "38dc2370",
   "metadata": {},
   "outputs": [],
   "source": [
    "# Let's calculate the share of transitions for A1 and A2\n",
    "# Then we will calculate the total share of transitions for both groups\n",
    "# And calculate the difference in the shares of transitions of the two groups\n",
    "roll1_A1 = users_test.iloc[0,1] / a1\n",
    "roll1_A2 = users_test.iloc[0,2] / a2\n",
    "common_roll = (users_test.iloc[0,1] + users_test.iloc[0,2]) / (a1 + a2)\n",
    "difference = roll1_A1 - roll1_A2"
   ]
  },
  {
   "cell_type": "markdown",
   "id": "88a0fb30",
   "metadata": {},
   "source": [
    "Since we have multiple hypothesis testing on the same samples, the risk of getting a false positive result increases. Accordingly, **it is advisable to take this into account when determining the level of statistical significance**.\n",
    "\n",
    "For the first round of checks, we will determine the level of 0.05. Later, we will experiment with changing the significance level and compare the results."
   ]
  },
  {
   "cell_type": "code",
   "execution_count": 83,
   "id": "2c9f6897",
   "metadata": {},
   "outputs": [],
   "source": [
    "# Let's determine the level of statistical significance for the first round of checks\n",
    "alpha = 0.05"
   ]
  },
  {
   "cell_type": "code",
   "execution_count": 84,
   "id": "2a4b2ab6",
   "metadata": {},
   "outputs": [
    {
     "name": "stdout",
     "output_type": "stream",
     "text": [
      "p-value:  0.7526703436483038\n",
      "It was not possible to reject the null hypothesis: there is no statistically significant difference between the groups\n"
     ]
    }
   ],
   "source": [
    "# Calculate the z_value, check the hypotheses\n",
    "z_value = difference / mth.sqrt(common_roll * (1 - common_roll) * (1/a1 + 1/a2))\n",
    "distr = st.norm(0, 1)\n",
    "p_value = (1 - distr.cdf(abs(z_value))) * 2\n",
    "\n",
    "print('p-value: ', p_value)\n",
    "\n",
    "if p_value < alpha:\n",
    "    print('We reject the null hypothesis: there is a statistically significant difference between the groups')\n",
    "else:\n",
    "    print('It was not possible to reject the null hypothesis: there is no statistically significant difference between the groups')"
   ]
  },
  {
   "cell_type": "markdown",
   "id": "4616fff9",
   "metadata": {},
   "source": [
    "For further use, we will wrap the code above in a function, make the alpha parameter equal to 0.05 and write it in the function, we will not report it as a separate argument:"
   ]
  },
  {
   "cell_type": "code",
   "execution_count": 85,
   "id": "318a269b",
   "metadata": {},
   "outputs": [],
   "source": [
    "def check_h (part_1, mass_1, part_2, mass_2, alpha):\n",
    "    alpha = alpha\n",
    "    roll_1 = part_1 / mass_1\n",
    "    roll_2 = part_2 / mass_2\n",
    "    common_roll = (part_1 + part_2) / (mass_1 + mass_2)\n",
    "    difference = roll_1 - roll_2\n",
    "    z_value = difference / mth.sqrt(common_roll * (1 - common_roll) * (1/mass_1 + 1/mass_2))\n",
    "    distr = st.norm(0, 1)\n",
    "    p_value = (1 - distr.cdf(abs(z_value))) * 2\n",
    "    print('p-value: ', p_value)\n",
    "    if p_value < alpha:\n",
    "        print('We reject the null hypothesis: there is a statistically significant difference between the groupsа')\n",
    "    else:\n",
    "        print('It was not possible to reject the null hypothesis: there is no statistically significant difference between the groups')"
   ]
  },
  {
   "cell_type": "markdown",
   "id": "20c22d9f",
   "metadata": {},
   "source": [
    "**Let's calculate the statistical significance of the difference in the percentage of user traffic to the Order page. Let's check the hypotheses.**\n",
    "\n",
    "Hypotheses:\n",
    "\n",
    "- H0: There is no statistically significant difference between the groups in the percentage of user traffic to the Order page.\n",
    "- H1 There is a statistically significant difference between the groups in the percentage of users going to the Order page."
   ]
  },
  {
   "cell_type": "code",
   "execution_count": 86,
   "id": "0a1a866e",
   "metadata": {
    "scrolled": false
   },
   "outputs": [
    {
     "name": "stdout",
     "output_type": "stream",
     "text": [
      "p-value:  0.24786096925282264\n",
      "It was not possible to reject the null hypothesis: there is no statistically significant difference between the groups\n"
     ]
    }
   ],
   "source": [
    "check_h(users_test.iloc[1,1], a1, users_test.iloc[1,2], a2, 0.05)"
   ]
  },
  {
   "cell_type": "markdown",
   "id": "5a748637",
   "metadata": {},
   "source": [
    "**Let's calculate the statistical significance of the difference in the share of traffic to the Shopping Cart. Let's check the hypotheses.**\n",
    "\n",
    "Hypotheses:\n",
    "\n",
    "- H0: There is no statistically significant difference between the groups in the proportion of traffic to the Basket.\n",
    "- H1 There is a statistically significant difference between the groups in the proportion of the transition to the Basket."
   ]
  },
  {
   "cell_type": "code",
   "execution_count": 87,
   "id": "cc440791",
   "metadata": {},
   "outputs": [
    {
     "name": "stdout",
     "output_type": "stream",
     "text": [
      "p-value:  0.22867643757335676\n",
      "It was not possible to reject the null hypothesis: there is no statistically significant difference between the groups\n"
     ]
    }
   ],
   "source": [
    "check_h(users_test.iloc[2,1], a1, users_test.iloc[2,2], a2, 0.05)"
   ]
  },
  {
   "cell_type": "markdown",
   "id": "bf692b29",
   "metadata": {},
   "source": [
    "**Let's calculate the statistical significance of the difference in the percentage of clicks on the successful Payment screen. Let's check the hypotheses.**\n",
    "\n",
    "Hypotheses:\n",
    "\n",
    "- H0: There is no statistically significant difference between the groups in the percentage of clicks on the successful Payment screen.\n",
    "- H1 There is a statistically significant difference between the groups in the percentage of clicks on the successful Payment screen."
   ]
  },
  {
   "cell_type": "code",
   "execution_count": 88,
   "id": "c97ca802",
   "metadata": {},
   "outputs": [
    {
     "name": "stdout",
     "output_type": "stream",
     "text": [
      "p-value:  0.11446627829276612\n",
      "It was not possible to reject the null hypothesis: there is no statistically significant difference between the groups\n"
     ]
    }
   ],
   "source": [
    "check_h(users_test.iloc[3,1], a1, users_test.iloc[3,2], a2, 0.05)"
   ]
  },
  {
   "cell_type": "markdown",
   "id": "eae99305",
   "metadata": {},
   "source": [
    "**Intermediate Conclusion:**\n",
    "\n",
    "We examined the differences in user transition rates:\n",
    "- to the Main Page;\n",
    "- to the Order Page;\n",
    "- to the Cart;\n",
    "- to the successful Payment screen.\n",
    "\n",
    "In none of the tests were we able to reject the null hypothesis that there is no statistically significant difference between the groups.\n",
    "\n",
    "In other words, we have no reason to consider the proportions of transitions for the A1 and A2 test participants to be different. The A/A experiment confirmed the correctness of the group division."
   ]
  },
  {
   "cell_type": "markdown",
   "id": "8ad2d9db",
   "metadata": {},
   "source": [
    "### 5.2. A1/B-experiment"
   ]
  },
  {
   "cell_type": "code",
   "execution_count": 89,
   "id": "37993101",
   "metadata": {},
   "outputs": [
    {
     "data": {
      "text/html": [
       "<div>\n",
       "<style scoped>\n",
       "    .dataframe tbody tr th:only-of-type {\n",
       "        vertical-align: middle;\n",
       "    }\n",
       "\n",
       "    .dataframe tbody tr th {\n",
       "        vertical-align: top;\n",
       "    }\n",
       "\n",
       "    .dataframe thead th {\n",
       "        text-align: right;\n",
       "    }\n",
       "</style>\n",
       "<table border=\"1\" class=\"dataframe\">\n",
       "  <thead>\n",
       "    <tr style=\"text-align: right;\">\n",
       "      <th></th>\n",
       "      <th>event_name</th>\n",
       "      <th>A1</th>\n",
       "      <th>A2</th>\n",
       "      <th>B</th>\n",
       "      <th>roll_A1</th>\n",
       "      <th>roll_A2</th>\n",
       "      <th>roll_B</th>\n",
       "    </tr>\n",
       "  </thead>\n",
       "  <tbody>\n",
       "    <tr>\n",
       "      <th>1</th>\n",
       "      <td>MainScreenAppear</td>\n",
       "      <td>2450</td>\n",
       "      <td>2476</td>\n",
       "      <td>2493</td>\n",
       "      <td>98.67</td>\n",
       "      <td>98.57</td>\n",
       "      <td>98.34</td>\n",
       "    </tr>\n",
       "    <tr>\n",
       "      <th>2</th>\n",
       "      <td>OffersScreenAppear</td>\n",
       "      <td>1542</td>\n",
       "      <td>1520</td>\n",
       "      <td>1531</td>\n",
       "      <td>62.10</td>\n",
       "      <td>60.51</td>\n",
       "      <td>60.39</td>\n",
       "    </tr>\n",
       "    <tr>\n",
       "      <th>0</th>\n",
       "      <td>CartScreenAppear</td>\n",
       "      <td>1266</td>\n",
       "      <td>1238</td>\n",
       "      <td>1230</td>\n",
       "      <td>50.99</td>\n",
       "      <td>49.28</td>\n",
       "      <td>48.52</td>\n",
       "    </tr>\n",
       "    <tr>\n",
       "      <th>3</th>\n",
       "      <td>PaymentScreenSuccessful</td>\n",
       "      <td>1200</td>\n",
       "      <td>1158</td>\n",
       "      <td>1181</td>\n",
       "      <td>48.33</td>\n",
       "      <td>46.10</td>\n",
       "      <td>46.59</td>\n",
       "    </tr>\n",
       "  </tbody>\n",
       "</table>\n",
       "</div>"
      ],
      "text/plain": [
       "                event_name    A1    A2     B  roll_A1  roll_A2  roll_B\n",
       "1         MainScreenAppear  2450  2476  2493    98.67    98.57   98.34\n",
       "2       OffersScreenAppear  1542  1520  1531    62.10    60.51   60.39\n",
       "0         CartScreenAppear  1266  1238  1230    50.99    49.28   48.52\n",
       "3  PaymentScreenSuccessful  1200  1158  1181    48.33    46.10   46.59"
      ]
     },
     "execution_count": 89,
     "metadata": {},
     "output_type": "execute_result"
    }
   ],
   "source": [
    "# To begin with, let's calculate and analyze user transitions to each of the pages in groups\n",
    "rolles = users_test\n",
    "rolles['roll_A1'] = round(users_test['A1'] / a1 * 100, 2)\n",
    "rolles['roll_A2'] = round(users_test['A2'] / a2 * 100, 2)\n",
    "rolles['roll_B'] = round(users_test['B'] / b * 100, 2)\n",
    "rolles"
   ]
  },
  {
   "cell_type": "markdown",
   "id": "7adfc3c4",
   "metadata": {},
   "source": [
    "Transitions in group B are smaller compared to A1 and A2 in terms of going to the Main page, to the Order page and to the Shopping Cart.\n",
    "\n",
    "In terms of transitions to the Payment screen, B is better than group A2, but worse than A1."
   ]
  },
  {
   "cell_type": "markdown",
   "id": "6738d95f",
   "metadata": {},
   "source": [
    "Let's test hypotheses about the statistical significance of the difference in fractions."
   ]
  },
  {
   "cell_type": "markdown",
   "id": "90784ebc",
   "metadata": {},
   "source": [
    "Hypotheses:\n",
    "\n",
    "- H0: There is no statistically significant difference in the transition rate between the groups.\n",
    "- H1 There is a statistically significant difference in the transition fraction between the groups."
   ]
  },
  {
   "cell_type": "markdown",
   "id": "a730b81e",
   "metadata": {},
   "source": [
    "**Let's calculate:**\n",
    "1. The statistical significance of the difference in the proportion of users going to the Main page. Let's check the hypotheses.\n",
    "2. The statistical significance of the difference in the proportion of user traffic to the Order page. Let's check the hypotheses.\n",
    "3. The statistical significance of the difference in the share of the transition to the Basket. Let's check the hypotheses.\n",
    "4. The statistical significance of the difference in the percentage of clicks on the successful Payment screen. Let's check the hypotheses."
   ]
  },
  {
   "cell_type": "code",
   "execution_count": 90,
   "id": "336e91e6",
   "metadata": {},
   "outputs": [
    {
     "name": "stdout",
     "output_type": "stream",
     "text": [
      "\u001b[30m\u001b[1m\u001b[4m Moving to MainScreenAppear \u001b[0m\n",
      "p-value:  0.3387114076159288\n",
      "It was not possible to reject the null hypothesis: there is no statistically significant difference between the groups\n",
      "\n",
      "\u001b[30m\u001b[1m\u001b[4m Moving to OffersScreenAppear \u001b[0m\n",
      "p-value:  0.21442476639710506\n",
      "It was not possible to reject the null hypothesis: there is no statistically significant difference between the groups\n",
      "\n",
      "\u001b[30m\u001b[1m\u001b[4m Moving to CartScreenAppear \u001b[0m\n",
      "p-value:  0.08067367598823139\n",
      "It was not possible to reject the null hypothesis: there is no statistically significant difference between the groups\n",
      "\n",
      "\u001b[30m\u001b[1m\u001b[4m Moving to PaymentScreenSuccessful \u001b[0m\n",
      "p-value:  0.21693033984516674\n",
      "It was not possible to reject the null hypothesis: there is no statistically significant difference between the groups\n",
      "\n"
     ]
    }
   ],
   "source": [
    "# Let's do it through a loop\n",
    "for i in range(0,4):\n",
    "    print('\\033[30m\\033[1m\\033[4m Moving to {} \\033[0m'.format(users_test.iloc[i,0]))\n",
    "    check_h(users_test.iloc[i,1], a1, users_test.iloc[i,3], b, 0.05)\n",
    "    print( )"
   ]
  },
  {
   "cell_type": "markdown",
   "id": "ff2d0974",
   "metadata": {},
   "source": [
    "**Intermediate Conclusion:**\n",
    "\n",
    "Despite the fact that the table visually shows that group B shows lower transitions than A1 on all screens, it was not possible to establish a statistically significant difference between these groups."
   ]
  },
  {
   "cell_type": "markdown",
   "id": "0272ade7",
   "metadata": {},
   "source": [
    "### 5.3. A2/B-experiment"
   ]
  },
  {
   "cell_type": "markdown",
   "id": "4eb34bc0",
   "metadata": {},
   "source": [
    "Hypotheses:\n",
    "\n",
    "- H0: There is no statistically significant difference in the transition rate between the groups.\n",
    "- H1 There is a statistically significant difference in the transition fraction between the groups."
   ]
  },
  {
   "cell_type": "markdown",
   "id": "043b03c4",
   "metadata": {},
   "source": [
    "**Let's calculate:**\n",
    "1. The statistical significance of the difference in the proportion of users going to the Main page. Let's check the hypotheses.\n",
    "2. The statistical significance of the difference in the proportion of user traffic to the Order page. Let's check the hypotheses.\n",
    "3. The statistical significance of the difference in the share of the transition to the Basket. Let's check the hypotheses.\n",
    "4. The statistical significance of the difference in the percentage of clicks on the successful Payment screen. Let's check the hypotheses."
   ]
  },
  {
   "cell_type": "code",
   "execution_count": 91,
   "id": "d0107146",
   "metadata": {},
   "outputs": [
    {
     "name": "stdout",
     "output_type": "stream",
     "text": [
      "\u001b[30m\u001b[1m\u001b[4m Moving to MainScreenAppear \u001b[0m\n",
      "p-value:  0.5194964354051703\n",
      "It was not possible to reject the null hypothesis: there is no statistically significant difference between the groups\n",
      "\n",
      "\u001b[30m\u001b[1m\u001b[4m Moving to OffersScreenAppear \u001b[0m\n",
      "p-value:  0.9333751305879443\n",
      "It was not possible to reject the null hypothesis: there is no statistically significant difference between the groups\n",
      "\n",
      "\u001b[30m\u001b[1m\u001b[4m Moving to CartScreenAppear \u001b[0m\n",
      "p-value:  0.5878284605111943\n",
      "It was not possible to reject the null hypothesis: there is no statistically significant difference between the groups\n",
      "\n",
      "\u001b[30m\u001b[1m\u001b[4m Moving to PaymentScreenSuccessful \u001b[0m\n",
      "p-value:  0.7275718682261119\n",
      "It was not possible to reject the null hypothesis: there is no statistically significant difference between the groups\n",
      "\n"
     ]
    }
   ],
   "source": [
    "for i in range(0,4):\n",
    "    print('\\033[30m\\033[1m\\033[4m Moving to {} \\033[0m'.format(users_test.iloc[i,0]))\n",
    "    check_h(users_test.iloc[i,2], a2, users_test.iloc[i,3], b, 0.05)\n",
    "    print( )"
   ]
  },
  {
   "cell_type": "markdown",
   "id": "44777bb8",
   "metadata": {},
   "source": [
    "**Intermediate Conclusion:**\n",
    "\n",
    "It was not possible to establish a statistically significant difference in the proportion of user transitions to screens between groups B and A2."
   ]
  },
  {
   "cell_type": "markdown",
   "id": "869b3f99",
   "metadata": {},
   "source": [
    "### 5.4. A1+A2/B-experiment"
   ]
  },
  {
   "cell_type": "markdown",
   "id": "382e502a",
   "metadata": {},
   "source": [
    "Hypotheses:\n",
    "\n",
    "- H0: There is no statistically significant difference in the transition rate between the groups.\n",
    "- H1 There is a statistically significant difference in the transition fraction between the groups."
   ]
  },
  {
   "cell_type": "markdown",
   "id": "040e9ebe",
   "metadata": {},
   "source": [
    "**Let's calculate:**\n",
    "1. The statistical significance of the difference in the proportion of users going to the Main page. Let's check the hypotheses.\n",
    "2. The statistical significance of the difference in the proportion of user traffic to the Order page. Let's check the hypotheses.\n",
    "3. The statistical significance of the difference in the share of the transition to the Basket. Let's check the hypotheses.\n",
    "4. The statistical significance of the difference in the percentage of clicks on the successful Payment screen. Let's check the hypotheses."
   ]
  },
  {
   "cell_type": "code",
   "execution_count": 92,
   "id": "96f3946a",
   "metadata": {},
   "outputs": [
    {
     "name": "stdout",
     "output_type": "stream",
     "text": [
      "\u001b[30m\u001b[1m\u001b[4m Moving to MainScreenAppear \u001b[0m\n",
      "p-value:  0.3486684291093256\n",
      "It was not possible to reject the null hypothesis: there is no statistically significant difference between the groups\n",
      "\n",
      "\u001b[30m\u001b[1m\u001b[4m Moving to OffersScreenAppear \u001b[0m\n",
      "p-value:  0.44582745409482394\n",
      "It was not possible to reject the null hypothesis: there is no statistically significant difference between the groups\n",
      "\n",
      "\u001b[30m\u001b[1m\u001b[4m Moving to CartScreenAppear \u001b[0m\n",
      "p-value:  0.18683558686831558\n",
      "It was not possible to reject the null hypothesis: there is no statistically significant difference between the groups\n",
      "\n",
      "\u001b[30m\u001b[1m\u001b[4m Moving to PaymentScreenSuccessful \u001b[0m\n",
      "p-value:  0.6107918742187335\n",
      "It was not possible to reject the null hypothesis: there is no statistically significant difference between the groups\n",
      "\n"
     ]
    }
   ],
   "source": [
    "for i in range(0,4):\n",
    "    print('\\033[30m\\033[1m\\033[4m Moving to {} \\033[0m'.format(users_test.iloc[i,0]))\n",
    "    check_h((users_test.iloc[i,1] + users_test.iloc[i,2]), (a1 + a2), users_test.iloc[i,3], b, 0.05)\n",
    "    print( )"
   ]
  },
  {
   "cell_type": "markdown",
   "id": "220fa3d5",
   "metadata": {},
   "source": [
    "**Intermediate Conclusion:**\n",
    "\n",
    "It was not possible to reject the null hypothesis: there is no statistically significant difference between the groups."
   ]
  },
  {
   "cell_type": "markdown",
   "id": "3dc52ff3",
   "metadata": {},
   "source": [
    "## 6. Statistical significance level."
   ]
  },
  {
   "cell_type": "markdown",
   "id": "424c34a2",
   "metadata": {},
   "source": [
    "### 6.1. Increasing the level of statistical significance to 0.1"
   ]
  },
  {
   "cell_type": "markdown",
   "id": "48232cc3",
   "metadata": {},
   "source": [
    "Let's try to increase the level of statistical significance to 0.1 and test the same hypotheses that we stated above"
   ]
  },
  {
   "cell_type": "markdown",
   "id": "31d7a8eb",
   "metadata": {},
   "source": [
    "#### А1/А2-experiment"
   ]
  },
  {
   "cell_type": "code",
   "execution_count": 93,
   "id": "2e3f5897",
   "metadata": {},
   "outputs": [
    {
     "name": "stdout",
     "output_type": "stream",
     "text": [
      "\u001b[30m\u001b[1m\u001b[4m Moving to MainScreenAppear \u001b[0m\n",
      "p-value:  0.7526703436483038\n",
      "It was not possible to reject the null hypothesis: there is no statistically significant difference between the groups\n",
      "\n",
      "\u001b[30m\u001b[1m\u001b[4m Moving to OffersScreenAppear \u001b[0m\n",
      "p-value:  0.24786096925282264\n",
      "It was not possible to reject the null hypothesis: there is no statistically significant difference between the groups\n",
      "\n",
      "\u001b[30m\u001b[1m\u001b[4m Moving to CartScreenAppear \u001b[0m\n",
      "p-value:  0.22867643757335676\n",
      "It was not possible to reject the null hypothesis: there is no statistically significant difference between the groups\n",
      "\n",
      "\u001b[30m\u001b[1m\u001b[4m Moving to PaymentScreenSuccessful \u001b[0m\n",
      "p-value:  0.11446627829276612\n",
      "It was not possible to reject the null hypothesis: there is no statistically significant difference between the groups\n",
      "\n"
     ]
    }
   ],
   "source": [
    "# Let's give the value alpha 0.1 to the argument of the function in the loop\n",
    "for i in range(0,4):\n",
    "    print('\\033[30m\\033[1m\\033[4m Moving to {} \\033[0m'.format(users_test.iloc[i,0]))\n",
    "    check_h(users_test.iloc[i,1], a1, users_test.iloc[i,2], a2, 0.1)\n",
    "    print( )"
   ]
  },
  {
   "cell_type": "markdown",
   "id": "7fb15494",
   "metadata": {},
   "source": [
    "#### А1/B-experiment"
   ]
  },
  {
   "cell_type": "code",
   "execution_count": 94,
   "id": "85ddf6bb",
   "metadata": {},
   "outputs": [
    {
     "name": "stdout",
     "output_type": "stream",
     "text": [
      "\u001b[30m\u001b[1m\u001b[4m Moving to MainScreenAppear \u001b[0m\n",
      "p-value:  0.3387114076159288\n",
      "It was not possible to reject the null hypothesis: there is no statistically significant difference between the groups\n",
      "\n",
      "\u001b[30m\u001b[1m\u001b[4m Moving to OffersScreenAppear \u001b[0m\n",
      "p-value:  0.21442476639710506\n",
      "It was not possible to reject the null hypothesis: there is no statistically significant difference between the groups\n",
      "\n",
      "\u001b[30m\u001b[1m\u001b[4m Moving to CartScreenAppear \u001b[0m\n",
      "p-value:  0.08067367598823139\n",
      "We reject the null hypothesis: there is a statistically significant difference between the groupsа\n",
      "\n",
      "\u001b[30m\u001b[1m\u001b[4m Moving to PaymentScreenSuccessful \u001b[0m\n",
      "p-value:  0.21693033984516674\n",
      "It was not possible to reject the null hypothesis: there is no statistically significant difference between the groups\n",
      "\n"
     ]
    }
   ],
   "source": [
    "for i in range(0,4):\n",
    "    print('\\033[30m\\033[1m\\033[4m Moving to {} \\033[0m'.format(users_test.iloc[i,0]))\n",
    "    check_h(users_test.iloc[i,1], a1, users_test.iloc[i,3], b, 0.1)\n",
    "    print( )"
   ]
  },
  {
   "cell_type": "markdown",
   "id": "c1e0a061",
   "metadata": {},
   "source": [
    "#### А2/В-experiment"
   ]
  },
  {
   "cell_type": "code",
   "execution_count": 95,
   "id": "d1ba4f9c",
   "metadata": {},
   "outputs": [
    {
     "name": "stdout",
     "output_type": "stream",
     "text": [
      "\u001b[30m\u001b[1m\u001b[4m Moving to MainScreenAppear \u001b[0m\n",
      "p-value:  0.5194964354051703\n",
      "It was not possible to reject the null hypothesis: there is no statistically significant difference between the groups\n",
      "\n",
      "\u001b[30m\u001b[1m\u001b[4m Moving to OffersScreenAppear \u001b[0m\n",
      "p-value:  0.9333751305879443\n",
      "It was not possible to reject the null hypothesis: there is no statistically significant difference between the groups\n",
      "\n",
      "\u001b[30m\u001b[1m\u001b[4m Moving to CartScreenAppear \u001b[0m\n",
      "p-value:  0.5878284605111943\n",
      "It was not possible to reject the null hypothesis: there is no statistically significant difference between the groups\n",
      "\n",
      "\u001b[30m\u001b[1m\u001b[4m Moving to PaymentScreenSuccessful \u001b[0m\n",
      "p-value:  0.7275718682261119\n",
      "It was not possible to reject the null hypothesis: there is no statistically significant difference between the groups\n",
      "\n"
     ]
    }
   ],
   "source": [
    "for i in range(0,4):\n",
    "    print('\\033[30m\\033[1m\\033[4m Moving to {} \\033[0m'.format(users_test.iloc[i,0]))\n",
    "    check_h(users_test.iloc[i,2], a2, users_test.iloc[i,3], b, 0.1)\n",
    "    print( )"
   ]
  },
  {
   "cell_type": "markdown",
   "id": "236b843b",
   "metadata": {},
   "source": [
    "#### А1+А2/В-experiment"
   ]
  },
  {
   "cell_type": "code",
   "execution_count": 96,
   "id": "e9ce21d9",
   "metadata": {},
   "outputs": [
    {
     "name": "stdout",
     "output_type": "stream",
     "text": [
      "\u001b[30m\u001b[1m\u001b[4m Moving to MainScreenAppear \u001b[0m\n",
      "p-value:  0.3486684291093256\n",
      "It was not possible to reject the null hypothesis: there is no statistically significant difference between the groups\n",
      "\n",
      "\u001b[30m\u001b[1m\u001b[4m Moving to OffersScreenAppear \u001b[0m\n",
      "p-value:  0.44582745409482394\n",
      "It was not possible to reject the null hypothesis: there is no statistically significant difference between the groups\n",
      "\n",
      "\u001b[30m\u001b[1m\u001b[4m Moving to CartScreenAppear \u001b[0m\n",
      "p-value:  0.18683558686831558\n",
      "It was not possible to reject the null hypothesis: there is no statistically significant difference between the groups\n",
      "\n",
      "\u001b[30m\u001b[1m\u001b[4m Moving to PaymentScreenSuccessful \u001b[0m\n",
      "p-value:  0.6107918742187335\n",
      "It was not possible to reject the null hypothesis: there is no statistically significant difference between the groups\n",
      "\n"
     ]
    }
   ],
   "source": [
    "for i in range(0,4):\n",
    "    print('\\033[30m\\033[1m\\033[4m Moving to {} \\033[0m'.format(users_test.iloc[i,0]))\n",
    "    check_h((users_test.iloc[i,1] + users_test.iloc[i,2]), (a1 + a2), users_test.iloc[i,3], b, 0.1)\n",
    "    print( )"
   ]
  },
  {
   "cell_type": "markdown",
   "id": "df620b16",
   "metadata": {},
   "source": [
    "**Conclusion:**\n",
    "\n",
    "By increasing the level of statistical significance, we were able to reject the null hypothesis of equality between groups A1 and B in terms of transitions to the Cart. Group B shows a lower transition rate, and this difference is statistically significant."
   ]
  },
  {
   "cell_type": "markdown",
   "id": "5cd3dcff",
   "metadata": {},
   "source": [
    "### 6.2. Decrease in the level of statistical significance. Bonferroni correction."
   ]
  },
  {
   "cell_type": "markdown",
   "id": "fddce2a9",
   "metadata": {},
   "source": [
    "Let's try to reduce the level of statistical significance and test the hypotheses that we stated above."
   ]
  },
  {
   "cell_type": "markdown",
   "id": "c5061b99",
   "metadata": {},
   "source": [
    "Given that we are conducting multiple hypothesis testing on the same samples, we thereby increase the risk of getting a false positive result. Accordingly, it is advisable to take this into account when determining the level of statistical significance."
   ]
  },
  {
   "cell_type": "markdown",
   "id": "9c5a9bd4",
   "metadata": {},
   "source": [
    "To reduce the probability of a false positive result in multiple hypothesis testing, we will adjust the level of statistical significance. Let's apply the Bonferroni correction: divide the significance level we applied at the beginning by default (0.05) by the number of hypotheses being tested.\n",
    "\n",
    "In each test, we compare 4 screens, i.e. we check 4 null hypotheses."
   ]
  },
  {
   "cell_type": "code",
   "execution_count": 97,
   "id": "c3db3d1e",
   "metadata": {},
   "outputs": [],
   "source": [
    "# Divide 0.05 by 4 and determine the alpha level, taking into account the correction for multiple verification\n",
    "bon_al = 0.05 / 4"
   ]
  },
  {
   "cell_type": "markdown",
   "id": "fe6a96ac",
   "metadata": {},
   "source": [
    "We will perform a check taking into account the adjusted value of statistical significance."
   ]
  },
  {
   "cell_type": "markdown",
   "id": "2b57ab33",
   "metadata": {},
   "source": [
    "#### А1/А2-experiment"
   ]
  },
  {
   "cell_type": "code",
   "execution_count": 98,
   "id": "16d9480e",
   "metadata": {},
   "outputs": [
    {
     "name": "stdout",
     "output_type": "stream",
     "text": [
      "\u001b[30m\u001b[1m\u001b[4m Moving to MainScreenAppear \u001b[0m\n",
      "p-value:  0.7526703436483038\n",
      "It was not possible to reject the null hypothesis: there is no statistically significant difference between the groups\n",
      "\n",
      "\u001b[30m\u001b[1m\u001b[4m Moving to OffersScreenAppear \u001b[0m\n",
      "p-value:  0.24786096925282264\n",
      "It was not possible to reject the null hypothesis: there is no statistically significant difference between the groups\n",
      "\n",
      "\u001b[30m\u001b[1m\u001b[4m Moving to CartScreenAppear \u001b[0m\n",
      "p-value:  0.22867643757335676\n",
      "It was not possible to reject the null hypothesis: there is no statistically significant difference between the groups\n",
      "\n",
      "\u001b[30m\u001b[1m\u001b[4m Moving to PaymentScreenSuccessful \u001b[0m\n",
      "p-value:  0.11446627829276612\n",
      "It was not possible to reject the null hypothesis: there is no statistically significant difference between the groups\n",
      "\n"
     ]
    }
   ],
   "source": [
    "for i in range(0,4):\n",
    "    print('\\033[30m\\033[1m\\033[4m Moving to {} \\033[0m'.format(users_test.iloc[i,0]))\n",
    "    check_h(users_test.iloc[i,1], a1, users_test.iloc[i,2], a2, bon_al)\n",
    "    print( )"
   ]
  },
  {
   "cell_type": "markdown",
   "id": "46d378a0",
   "metadata": {},
   "source": [
    "#### А1/B-experiment"
   ]
  },
  {
   "cell_type": "code",
   "execution_count": 99,
   "id": "e5b456e5",
   "metadata": {},
   "outputs": [
    {
     "name": "stdout",
     "output_type": "stream",
     "text": [
      "\u001b[30m\u001b[1m\u001b[4m Moving to MainScreenAppear \u001b[0m\n",
      "p-value:  0.3387114076159288\n",
      "It was not possible to reject the null hypothesis: there is no statistically significant difference between the groups\n",
      "\n",
      "\u001b[30m\u001b[1m\u001b[4m Moving to OffersScreenAppear \u001b[0m\n",
      "p-value:  0.21442476639710506\n",
      "It was not possible to reject the null hypothesis: there is no statistically significant difference between the groups\n",
      "\n",
      "\u001b[30m\u001b[1m\u001b[4m Moving to CartScreenAppear \u001b[0m\n",
      "p-value:  0.08067367598823139\n",
      "It was not possible to reject the null hypothesis: there is no statistically significant difference between the groups\n",
      "\n",
      "\u001b[30m\u001b[1m\u001b[4m Moving to PaymentScreenSuccessful \u001b[0m\n",
      "p-value:  0.21693033984516674\n",
      "It was not possible to reject the null hypothesis: there is no statistically significant difference between the groups\n",
      "\n"
     ]
    }
   ],
   "source": [
    "for i in range(0,4):\n",
    "    print('\\033[30m\\033[1m\\033[4m Moving to {} \\033[0m'.format(users_test.iloc[i,0]))\n",
    "    check_h(users_test.iloc[i,1], a1, users_test.iloc[i,3], b, bon_al)\n",
    "    print( )"
   ]
  },
  {
   "cell_type": "markdown",
   "id": "cd8517ce",
   "metadata": {},
   "source": [
    "#### А2/В-experiment"
   ]
  },
  {
   "cell_type": "code",
   "execution_count": 100,
   "id": "5cdf2f6e",
   "metadata": {},
   "outputs": [
    {
     "name": "stdout",
     "output_type": "stream",
     "text": [
      "\u001b[30m\u001b[1m\u001b[4m Moving to MainScreenAppear \u001b[0m\n",
      "p-value:  0.5194964354051703\n",
      "It was not possible to reject the null hypothesis: there is no statistically significant difference between the groups\n",
      "\n",
      "\u001b[30m\u001b[1m\u001b[4m Moving to OffersScreenAppear \u001b[0m\n",
      "p-value:  0.9333751305879443\n",
      "It was not possible to reject the null hypothesis: there is no statistically significant difference between the groups\n",
      "\n",
      "\u001b[30m\u001b[1m\u001b[4m Moving to CartScreenAppear \u001b[0m\n",
      "p-value:  0.5878284605111943\n",
      "It was not possible to reject the null hypothesis: there is no statistically significant difference between the groups\n",
      "\n",
      "\u001b[30m\u001b[1m\u001b[4m Moving to PaymentScreenSuccessful \u001b[0m\n",
      "p-value:  0.7275718682261119\n",
      "It was not possible to reject the null hypothesis: there is no statistically significant difference between the groups\n",
      "\n"
     ]
    }
   ],
   "source": [
    "for i in range(0,4):\n",
    "    print('\\033[30m\\033[1m\\033[4m Moving to {} \\033[0m'.format(users_test.iloc[i,0]))\n",
    "    check_h(users_test.iloc[i,2], a2, users_test.iloc[i,3], b, bon_al)\n",
    "    print( )"
   ]
  },
  {
   "cell_type": "markdown",
   "id": "8e2aef6c",
   "metadata": {},
   "source": [
    "#### А1+А2/В-experiment"
   ]
  },
  {
   "cell_type": "code",
   "execution_count": 101,
   "id": "27f17b6c",
   "metadata": {},
   "outputs": [
    {
     "name": "stdout",
     "output_type": "stream",
     "text": [
      "\u001b[30m\u001b[1m\u001b[4m Moving to MainScreenAppear \u001b[0m\n",
      "p-value:  0.3486684291093256\n",
      "It was not possible to reject the null hypothesis: there is no statistically significant difference between the groups\n",
      "\n",
      "\u001b[30m\u001b[1m\u001b[4m Moving to OffersScreenAppear \u001b[0m\n",
      "p-value:  0.44582745409482394\n",
      "It was not possible to reject the null hypothesis: there is no statistically significant difference between the groups\n",
      "\n",
      "\u001b[30m\u001b[1m\u001b[4m Moving to CartScreenAppear \u001b[0m\n",
      "p-value:  0.18683558686831558\n",
      "It was not possible to reject the null hypothesis: there is no statistically significant difference between the groups\n",
      "\n",
      "\u001b[30m\u001b[1m\u001b[4m Moving to PaymentScreenSuccessful \u001b[0m\n",
      "p-value:  0.6107918742187335\n",
      "It was not possible to reject the null hypothesis: there is no statistically significant difference between the groups\n",
      "\n"
     ]
    }
   ],
   "source": [
    "for i in range(0,4):\n",
    "    print('\\033[30m\\033[1m\\033[4m Moving to {} \\033[0m'.format(users_test.iloc[i,0]))\n",
    "    check_h((users_test.iloc[i,1] + users_test.iloc[i,2]), (a1 + a2), users_test.iloc[i,3], b, bon_al)\n",
    "    print( )"
   ]
  },
  {
   "cell_type": "markdown",
   "id": "b5ef6d8c",
   "metadata": {},
   "source": [
    "**Conclusion:**\n",
    "\n",
    "As in the previous case, when setting the significance level at 0.05, we were unable to reject the null hypothesis, indicating no statistically significant difference between the groups. However, by applying the Bonferroni correction, we reduced the likelihood of false positives in multiple hypothesis testing."
   ]
  },
  {
   "cell_type": "markdown",
   "id": "54b21d0e",
   "metadata": {},
   "source": [
    "## 7. Conclusions."
   ]
  },
  {
   "cell_type": "markdown",
   "id": "f008b4c4",
   "metadata": {},
   "source": [
    "**Data and Funnel.**\n",
    "1. An analysis of user actions during 7 days of August was conducted. The data was initially cleaned of users who started their activity in July.\n",
    "2. A user action funnel was identified, consisting of transitions to the following pages/screens:\n",
    "- Main Page _MainScreenAppear_,\n",
    "- Order Page _OffersScreenAppear_,\n",
    "- Cart Page _CartScreenAppear_,\n",
    "- Payment Confirmation Screen _PaymentScreenSuccessful_.\n",
    "3. The highest user drop-off occurs when transitioning from the Main Page to the Order Page: 62% of users who viewed the Main Page proceed to the Order Page. In other words, 38% of users are \"lost\" at this step.\n",
    "\n",
    "**Recommendations:**\n",
    "- It makes sense to involve specialists to work on encouraging users to transition to the Order screen: feature recommended products, promotions, thematic items based on the user profile (if possible), product sets with recipes, etc., on the main page.\n",
    "\n",
    "**A/A/B Test.**\n",
    "- A verification of group splitting was performed on the data from the two control groups A1 and A2. In none of the tests were we able to reject the null hypothesis that there is no statistically significant difference between the groups. The A/A experiment confirmed the correctness of the group splitting.\n",
    "- A table was created showing user transition rates across screens for groups A1, A2, and B. Group B shows lower transition volumes compared to both A1 and A2 across all screens, except for the transition to the Payment screen compared to group A2.\n",
    "- We conducted an A1/B test. No statistically significant difference in transition rates between these groups was found.\n",
    "- We conducted an A2/B test. No statistically significant difference in transition rates between these groups was found.\n",
    "- We conducted an A1+A2/B test. No statistically significant difference in transition rates between these groups was found.\n",
    "- The Bonferroni correction was applied to reduce the likelihood of false positives in multiple testing.\n",
    "\n",
    "**Recommendations:**\n",
    "- Although group B shows lower user transitions to all screens except for the transition to the Payment screen compared to group A2, no statistically significant difference with the control groups was found. _Preliminarily, we can conclude that the new font does not have an advantage over the old one in terms of increasing the proportion of users who perform certain actions (transition to a page/screen)_.\n",
    "- _However, it is recommended to extend the test duration from 2 weeks to 1 month_. A 7-day period seems too short to draw a final conclusion."
   ]
  },
  {
   "cell_type": "code",
   "execution_count": null,
   "id": "e5888f71",
   "metadata": {},
   "outputs": [],
   "source": []
  }
 ],
 "metadata": {
  "ExecuteTimeLog": [
   {
    "duration": 1395,
    "start_time": "2023-05-16T08:23:16.589Z"
   },
   {
    "duration": 147,
    "start_time": "2023-05-16T08:23:17.987Z"
   },
   {
    "duration": 12,
    "start_time": "2023-05-16T08:23:18.136Z"
   },
   {
    "duration": 14,
    "start_time": "2023-05-16T08:23:18.156Z"
   },
   {
    "duration": 18,
    "start_time": "2023-05-16T08:23:18.172Z"
   },
   {
    "duration": 151,
    "start_time": "2023-05-16T08:23:18.192Z"
   },
   {
    "duration": 20,
    "start_time": "2023-05-16T08:23:18.345Z"
   },
   {
    "duration": 5,
    "start_time": "2023-05-16T08:23:18.367Z"
   },
   {
    "duration": 13,
    "start_time": "2023-05-16T08:23:18.373Z"
   },
   {
    "duration": 4,
    "start_time": "2023-05-16T08:23:18.389Z"
   },
   {
    "duration": 143,
    "start_time": "2023-05-16T08:23:18.395Z"
   },
   {
    "duration": 34,
    "start_time": "2023-05-16T08:23:18.539Z"
   },
   {
    "duration": 36,
    "start_time": "2023-05-16T08:23:18.575Z"
   },
   {
    "duration": 6,
    "start_time": "2023-05-16T08:23:18.612Z"
   },
   {
    "duration": 275,
    "start_time": "2023-05-16T08:23:18.620Z"
   },
   {
    "duration": 10,
    "start_time": "2023-05-16T08:23:18.897Z"
   },
   {
    "duration": 33,
    "start_time": "2023-05-16T08:23:18.909Z"
   },
   {
    "duration": 18,
    "start_time": "2023-05-16T08:23:18.958Z"
   },
   {
    "duration": 106,
    "start_time": "2023-05-16T08:23:18.977Z"
   },
   {
    "duration": 23,
    "start_time": "2023-05-16T08:23:19.084Z"
   },
   {
    "duration": 22,
    "start_time": "2023-05-16T08:23:19.109Z"
   },
   {
    "duration": 65,
    "start_time": "2023-05-16T08:23:19.132Z"
   },
   {
    "duration": 14,
    "start_time": "2023-05-16T08:23:19.198Z"
   },
   {
    "duration": 22,
    "start_time": "2023-05-16T08:23:19.214Z"
   },
   {
    "duration": 41,
    "start_time": "2023-05-16T08:23:19.238Z"
   },
   {
    "duration": 40,
    "start_time": "2023-05-16T08:23:19.281Z"
   },
   {
    "duration": 60,
    "start_time": "2023-05-16T08:23:19.323Z"
   },
   {
    "duration": 4,
    "start_time": "2023-05-16T08:23:19.386Z"
   },
   {
    "duration": 7,
    "start_time": "2023-05-16T08:23:19.392Z"
   },
   {
    "duration": 7,
    "start_time": "2023-05-16T08:23:19.400Z"
   },
   {
    "duration": 8,
    "start_time": "2023-05-16T08:23:19.408Z"
   },
   {
    "duration": 10,
    "start_time": "2023-05-16T08:23:19.417Z"
   },
   {
    "duration": 7,
    "start_time": "2023-05-16T08:23:19.428Z"
   },
   {
    "duration": 22,
    "start_time": "2023-05-16T08:23:19.436Z"
   },
   {
    "duration": 15,
    "start_time": "2023-05-16T08:23:19.459Z"
   },
   {
    "duration": 5,
    "start_time": "2023-05-16T08:23:19.475Z"
   },
   {
    "duration": 20,
    "start_time": "2023-05-16T08:23:19.482Z"
   },
   {
    "duration": 8,
    "start_time": "2023-05-16T08:23:19.504Z"
   },
   {
    "duration": 5,
    "start_time": "2023-05-16T08:23:19.514Z"
   },
   {
    "duration": 27,
    "start_time": "2023-05-16T08:23:19.521Z"
   },
   {
    "duration": 9,
    "start_time": "2023-05-16T08:23:19.550Z"
   },
   {
    "duration": 6,
    "start_time": "2023-05-16T08:23:19.561Z"
   },
   {
    "duration": 7,
    "start_time": "2023-05-16T08:23:19.569Z"
   },
   {
    "duration": 7,
    "start_time": "2023-05-16T08:23:19.578Z"
   },
   {
    "duration": 8,
    "start_time": "2023-05-16T08:23:19.587Z"
   },
   {
    "duration": 7,
    "start_time": "2023-05-16T08:23:19.597Z"
   },
   {
    "duration": 13,
    "start_time": "2023-05-16T08:23:19.606Z"
   },
   {
    "duration": 18,
    "start_time": "2023-05-16T08:23:19.621Z"
   },
   {
    "duration": 18,
    "start_time": "2023-05-16T08:23:19.658Z"
   },
   {
    "duration": 6,
    "start_time": "2023-05-16T08:23:19.678Z"
   },
   {
    "duration": 19,
    "start_time": "2023-05-16T08:26:06.945Z"
   },
   {
    "duration": 1247,
    "start_time": "2023-05-16T08:27:29.410Z"
   },
   {
    "duration": 229,
    "start_time": "2023-05-16T08:27:30.661Z"
   },
   {
    "duration": 17,
    "start_time": "2023-05-16T08:27:30.892Z"
   },
   {
    "duration": 61,
    "start_time": "2023-05-16T08:27:30.913Z"
   },
   {
    "duration": 22,
    "start_time": "2023-05-16T08:27:30.983Z"
   },
   {
    "duration": 182,
    "start_time": "2023-05-16T08:27:31.007Z"
   },
   {
    "duration": 30,
    "start_time": "2023-05-16T08:27:31.191Z"
   },
   {
    "duration": 59,
    "start_time": "2023-05-16T08:27:31.223Z"
   },
   {
    "duration": 10,
    "start_time": "2023-05-16T08:27:31.285Z"
   },
   {
    "duration": 32,
    "start_time": "2023-05-16T08:27:31.298Z"
   },
   {
    "duration": 181,
    "start_time": "2023-05-16T08:27:31.331Z"
   },
   {
    "duration": 26,
    "start_time": "2023-05-16T08:27:31.514Z"
   },
   {
    "duration": 51,
    "start_time": "2023-05-16T08:27:31.541Z"
   },
   {
    "duration": 26,
    "start_time": "2023-05-16T08:27:31.593Z"
   },
   {
    "duration": 337,
    "start_time": "2023-05-16T08:27:31.621Z"
   },
   {
    "duration": 11,
    "start_time": "2023-05-16T08:27:31.960Z"
   },
   {
    "duration": 52,
    "start_time": "2023-05-16T08:27:31.974Z"
   },
   {
    "duration": 103,
    "start_time": "2023-05-16T08:27:32.029Z"
   },
   {
    "duration": 44,
    "start_time": "2023-05-16T08:27:32.134Z"
   },
   {
    "duration": 27,
    "start_time": "2023-05-16T08:27:32.181Z"
   },
   {
    "duration": 87,
    "start_time": "2023-05-16T08:27:32.210Z"
   },
   {
    "duration": 12,
    "start_time": "2023-05-16T08:27:32.299Z"
   },
   {
    "duration": 11,
    "start_time": "2023-05-16T08:27:32.313Z"
   },
   {
    "duration": 39,
    "start_time": "2023-05-16T08:27:32.326Z"
   },
   {
    "duration": 41,
    "start_time": "2023-05-16T08:27:32.368Z"
   },
   {
    "duration": 100,
    "start_time": "2023-05-16T08:27:32.411Z"
   },
   {
    "duration": 4,
    "start_time": "2023-05-16T08:27:32.513Z"
   },
   {
    "duration": 6,
    "start_time": "2023-05-16T08:27:32.522Z"
   },
   {
    "duration": 10,
    "start_time": "2023-05-16T08:27:32.530Z"
   },
   {
    "duration": 17,
    "start_time": "2023-05-16T08:27:32.542Z"
   },
   {
    "duration": 10,
    "start_time": "2023-05-16T08:27:32.562Z"
   },
   {
    "duration": 10,
    "start_time": "2023-05-16T08:27:32.575Z"
   },
   {
    "duration": 5,
    "start_time": "2023-05-16T08:27:32.587Z"
   },
   {
    "duration": 16,
    "start_time": "2023-05-16T08:27:32.594Z"
   },
   {
    "duration": 7,
    "start_time": "2023-05-16T08:27:32.612Z"
   },
   {
    "duration": 41,
    "start_time": "2023-05-16T08:27:32.620Z"
   },
   {
    "duration": 10,
    "start_time": "2023-05-16T08:27:32.662Z"
   },
   {
    "duration": 7,
    "start_time": "2023-05-16T08:27:32.674Z"
   },
   {
    "duration": 7,
    "start_time": "2023-05-16T08:27:32.684Z"
   },
   {
    "duration": 7,
    "start_time": "2023-05-16T08:27:32.692Z"
   },
   {
    "duration": 5,
    "start_time": "2023-05-16T08:27:32.701Z"
   },
   {
    "duration": 7,
    "start_time": "2023-05-16T08:27:32.708Z"
   },
   {
    "duration": 14,
    "start_time": "2023-05-16T08:27:32.758Z"
   },
   {
    "duration": 16,
    "start_time": "2023-05-16T08:27:32.778Z"
   },
   {
    "duration": 15,
    "start_time": "2023-05-16T08:27:32.795Z"
   },
   {
    "duration": 7,
    "start_time": "2023-05-16T08:27:32.811Z"
   },
   {
    "duration": 17,
    "start_time": "2023-05-16T08:27:32.820Z"
   },
   {
    "duration": 14,
    "start_time": "2023-05-16T08:27:32.839Z"
   },
   {
    "duration": 9,
    "start_time": "2023-05-16T08:27:32.855Z"
   },
   {
    "duration": 4,
    "start_time": "2023-05-16T08:28:47.440Z"
   },
   {
    "duration": 1125,
    "start_time": "2023-05-16T08:32:17.573Z"
   },
   {
    "duration": 147,
    "start_time": "2023-05-16T08:32:18.699Z"
   },
   {
    "duration": 19,
    "start_time": "2023-05-16T08:32:18.848Z"
   },
   {
    "duration": 18,
    "start_time": "2023-05-16T08:32:18.869Z"
   },
   {
    "duration": 21,
    "start_time": "2023-05-16T08:32:18.888Z"
   },
   {
    "duration": 148,
    "start_time": "2023-05-16T08:32:18.911Z"
   },
   {
    "duration": 22,
    "start_time": "2023-05-16T08:32:19.061Z"
   },
   {
    "duration": 5,
    "start_time": "2023-05-16T08:32:19.084Z"
   },
   {
    "duration": 13,
    "start_time": "2023-05-16T08:32:19.090Z"
   },
   {
    "duration": 4,
    "start_time": "2023-05-16T08:32:19.106Z"
   },
   {
    "duration": 148,
    "start_time": "2023-05-16T08:32:19.111Z"
   },
   {
    "duration": 30,
    "start_time": "2023-05-16T08:32:19.261Z"
   },
   {
    "duration": 27,
    "start_time": "2023-05-16T08:32:19.293Z"
   },
   {
    "duration": 7,
    "start_time": "2023-05-16T08:32:19.321Z"
   },
   {
    "duration": 295,
    "start_time": "2023-05-16T08:32:19.329Z"
   },
   {
    "duration": 9,
    "start_time": "2023-05-16T08:32:19.625Z"
   },
   {
    "duration": 43,
    "start_time": "2023-05-16T08:32:19.635Z"
   },
   {
    "duration": 14,
    "start_time": "2023-05-16T08:32:19.680Z"
   },
   {
    "duration": 86,
    "start_time": "2023-05-16T08:32:19.696Z"
   },
   {
    "duration": 23,
    "start_time": "2023-05-16T08:32:19.784Z"
   },
   {
    "duration": 22,
    "start_time": "2023-05-16T08:32:19.809Z"
   },
   {
    "duration": 67,
    "start_time": "2023-05-16T08:32:19.833Z"
   },
   {
    "duration": 13,
    "start_time": "2023-05-16T08:32:19.902Z"
   },
   {
    "duration": 6,
    "start_time": "2023-05-16T08:32:19.916Z"
   },
   {
    "duration": 42,
    "start_time": "2023-05-16T08:32:19.923Z"
   },
   {
    "duration": 25,
    "start_time": "2023-05-16T08:32:19.967Z"
   },
   {
    "duration": 75,
    "start_time": "2023-05-16T08:32:19.994Z"
   },
   {
    "duration": 4,
    "start_time": "2023-05-16T08:32:20.073Z"
   },
   {
    "duration": 21,
    "start_time": "2023-05-16T08:32:20.079Z"
   },
   {
    "duration": 17,
    "start_time": "2023-05-16T08:32:20.101Z"
   },
   {
    "duration": 6,
    "start_time": "2023-05-16T08:32:20.119Z"
   },
   {
    "duration": 16,
    "start_time": "2023-05-16T08:32:20.126Z"
   },
   {
    "duration": 16,
    "start_time": "2023-05-16T08:32:20.144Z"
   },
   {
    "duration": 7,
    "start_time": "2023-05-16T08:32:20.163Z"
   },
   {
    "duration": 21,
    "start_time": "2023-05-16T08:32:20.172Z"
   },
   {
    "duration": 5,
    "start_time": "2023-05-16T08:32:20.195Z"
   },
   {
    "duration": 8,
    "start_time": "2023-05-16T08:32:20.202Z"
   },
   {
    "duration": 6,
    "start_time": "2023-05-16T08:32:20.212Z"
   },
   {
    "duration": 10,
    "start_time": "2023-05-16T08:32:20.219Z"
   },
   {
    "duration": 8,
    "start_time": "2023-05-16T08:32:20.256Z"
   },
   {
    "duration": 11,
    "start_time": "2023-05-16T08:32:20.267Z"
   },
   {
    "duration": 9,
    "start_time": "2023-05-16T08:32:20.280Z"
   },
   {
    "duration": 13,
    "start_time": "2023-05-16T08:32:20.291Z"
   },
   {
    "duration": 11,
    "start_time": "2023-05-16T08:32:20.306Z"
   },
   {
    "duration": 18,
    "start_time": "2023-05-16T08:32:20.318Z"
   },
   {
    "duration": 18,
    "start_time": "2023-05-16T08:32:20.338Z"
   },
   {
    "duration": 23,
    "start_time": "2023-05-16T08:32:20.359Z"
   },
   {
    "duration": 23,
    "start_time": "2023-05-16T08:32:20.384Z"
   },
   {
    "duration": 31,
    "start_time": "2023-05-16T08:32:20.409Z"
   },
   {
    "duration": 30,
    "start_time": "2023-05-16T08:32:20.441Z"
   },
   {
    "duration": 1093,
    "start_time": "2023-05-19T12:10:54.527Z"
   },
   {
    "duration": 144,
    "start_time": "2023-05-19T12:10:55.622Z"
   },
   {
    "duration": 11,
    "start_time": "2023-05-19T12:10:55.767Z"
   },
   {
    "duration": 15,
    "start_time": "2023-05-19T12:10:55.784Z"
   },
   {
    "duration": 18,
    "start_time": "2023-05-19T12:10:55.801Z"
   },
   {
    "duration": 145,
    "start_time": "2023-05-19T12:10:55.821Z"
   },
   {
    "duration": 25,
    "start_time": "2023-05-19T12:10:55.967Z"
   },
   {
    "duration": 4,
    "start_time": "2023-05-19T12:10:55.994Z"
   },
   {
    "duration": 9,
    "start_time": "2023-05-19T12:10:56.001Z"
   },
   {
    "duration": 4,
    "start_time": "2023-05-19T12:10:56.011Z"
   },
   {
    "duration": 163,
    "start_time": "2023-05-19T12:10:56.017Z"
   },
   {
    "duration": 32,
    "start_time": "2023-05-19T12:10:56.184Z"
   },
   {
    "duration": 50,
    "start_time": "2023-05-19T12:10:56.218Z"
   },
   {
    "duration": 41,
    "start_time": "2023-05-19T12:10:56.285Z"
   },
   {
    "duration": 486,
    "start_time": "2023-05-19T12:10:56.328Z"
   },
   {
    "duration": 6,
    "start_time": "2023-05-19T12:10:56.815Z"
   },
   {
    "duration": 8,
    "start_time": "2023-05-19T12:10:56.822Z"
   },
   {
    "duration": 529,
    "start_time": "2023-05-19T12:10:56.832Z"
   },
   {
    "duration": 8,
    "start_time": "2023-05-19T12:10:57.362Z"
   },
   {
    "duration": 33,
    "start_time": "2023-05-19T12:10:57.371Z"
   },
   {
    "duration": 2,
    "start_time": "2023-05-19T12:10:57.405Z"
   },
   {
    "duration": 80,
    "start_time": "2023-05-19T12:10:57.409Z"
   },
   {
    "duration": 25,
    "start_time": "2023-05-19T12:10:57.490Z"
   },
   {
    "duration": 23,
    "start_time": "2023-05-19T12:10:57.516Z"
   },
   {
    "duration": 68,
    "start_time": "2023-05-19T12:10:57.540Z"
   },
   {
    "duration": 10,
    "start_time": "2023-05-19T12:10:57.609Z"
   },
   {
    "duration": 5,
    "start_time": "2023-05-19T12:10:57.622Z"
   },
   {
    "duration": 21,
    "start_time": "2023-05-19T12:10:57.628Z"
   },
   {
    "duration": 414,
    "start_time": "2023-05-19T12:10:57.650Z"
   },
   {
    "duration": 32,
    "start_time": "2023-05-19T12:10:58.065Z"
   },
   {
    "duration": 122,
    "start_time": "2023-05-19T12:10:58.099Z"
   },
   {
    "duration": 3,
    "start_time": "2023-05-19T12:10:58.223Z"
   },
   {
    "duration": 7,
    "start_time": "2023-05-19T12:10:58.227Z"
   },
   {
    "duration": 8,
    "start_time": "2023-05-19T12:10:58.235Z"
   },
   {
    "duration": 9,
    "start_time": "2023-05-19T12:10:58.245Z"
   },
   {
    "duration": 7,
    "start_time": "2023-05-19T12:10:58.255Z"
   },
   {
    "duration": 21,
    "start_time": "2023-05-19T12:10:58.264Z"
   },
   {
    "duration": 9,
    "start_time": "2023-05-19T12:10:58.287Z"
   },
   {
    "duration": 23,
    "start_time": "2023-05-19T12:10:58.297Z"
   },
   {
    "duration": 14,
    "start_time": "2023-05-19T12:10:58.322Z"
   },
   {
    "duration": 15,
    "start_time": "2023-05-19T12:10:58.338Z"
   },
   {
    "duration": 10,
    "start_time": "2023-05-19T12:10:58.354Z"
   },
   {
    "duration": 12,
    "start_time": "2023-05-19T12:10:58.365Z"
   },
   {
    "duration": 11,
    "start_time": "2023-05-19T12:10:58.378Z"
   },
   {
    "duration": 12,
    "start_time": "2023-05-19T12:10:58.390Z"
   },
   {
    "duration": 14,
    "start_time": "2023-05-19T12:10:58.404Z"
   },
   {
    "duration": 8,
    "start_time": "2023-05-19T12:10:58.419Z"
   },
   {
    "duration": 27,
    "start_time": "2023-05-19T12:10:58.428Z"
   },
   {
    "duration": 11,
    "start_time": "2023-05-19T12:10:58.456Z"
   },
   {
    "duration": 18,
    "start_time": "2023-05-19T12:10:58.469Z"
   },
   {
    "duration": 14,
    "start_time": "2023-05-19T12:10:58.488Z"
   }
  ],
  "kernelspec": {
   "display_name": "Python 3 (ipykernel)",
   "language": "python",
   "name": "python3"
  },
  "language_info": {
   "codemirror_mode": {
    "name": "ipython",
    "version": 3
   },
   "file_extension": ".py",
   "mimetype": "text/x-python",
   "name": "python",
   "nbconvert_exporter": "python",
   "pygments_lexer": "ipython3",
   "version": "3.7.13"
  },
  "toc": {
   "base_numbering": 1,
   "nav_menu": {},
   "number_sections": false,
   "sideBar": true,
   "skip_h1_title": false,
   "title_cell": "Table of Contents",
   "title_sidebar": "Contents",
   "toc_cell": true,
   "toc_position": {
    "height": "calc(100% - 180px)",
    "left": "10px",
    "top": "150px",
    "width": "299.261px"
   },
   "toc_section_display": true,
   "toc_window_display": true
  }
 },
 "nbformat": 4,
 "nbformat_minor": 5
}
