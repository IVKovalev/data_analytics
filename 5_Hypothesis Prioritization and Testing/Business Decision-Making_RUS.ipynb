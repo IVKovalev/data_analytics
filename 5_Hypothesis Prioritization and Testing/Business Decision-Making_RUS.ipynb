{
 "cells": [
  {
   "cell_type": "markdown",
   "id": "8c49d59d",
   "metadata": {},
   "source": [
    "# Business Decision-Making: Hypothesis Prioritization and Testing."
   ]
  },
  {
   "cell_type": "markdown",
   "id": "a03bb516",
   "metadata": {},
   "source": [
    "**Project Description**\n",
    "\n",
    "In collaboration with the marketing department of a large online store, we prepared a list of hypotheses to increase revenue. The goal is to formulate conclusions based on the analysis of these hypotheses.\n",
    "\n",
    "**Data**\n",
    "\n",
    "We have data on users acquired from May 1 to October 27, 2019:\n",
    "- server log with data on their visits,\n",
    "- their purchase history for this period,\n",
    "- advertising expenses.\n",
    "\n",
    "**Data Description**\n",
    "\n",
    "Files:\n",
    "- _`hypothesis.csv`_ — contains 9 hypotheses for increasing the revenue of the online store,\n",
    "- _`orders.csv`_ — contains information on orders and A/B test results,\n",
    "- _`visitors.csv`_ — contains information on users and A/B test results.\n",
    "\n",
    "Structure of _hypothesis.csv_:\n",
    "- Hypothesis — brief description of the hypothesis;\n",
    "- Reach — user reach on a 10-point scale;\n",
    "- Impact — impact on users on a 10-point scale;\n",
    "- Confidence — confidence in the hypothesis on a 10-point scale;\n",
    "- Efforts — resource costs for testing the hypothesis on a 10-point scale. The higher the Efforts value, the more expensive the hypothesis testing.\n",
    "\n",
    "Structure of _orders.csv_:\n",
    "- transactionId — order ID;\n",
    "- visitorId — ID of the user who made the order;\n",
    "- date — date when the order was placed;\n",
    "- revenue — order revenue;\n",
    "- group — A/B test group to which the order belongs.\n",
    "\n",
    "Structure of _visitors.csv_:\n",
    "- date — date;\n",
    "- group — A/B test group;\n",
    "- visitors — number of users on the specified date in the specified A/B test group.\n",
    "\n",
    "**Research Objectives**\n",
    "- Prioritize the hypotheses,\n",
    "- Launch the A/B test,\n",
    "- Analyze the results.\n",
    "\n",
    "**Research Plan**\n",
    " 1. Data overview.\n",
    " 2. Data preprocessing.\n",
    " 3. Hypothesis prioritization.\n",
    " 4. Exploratory analysis of the A/B test.\n",
    " 5. Statistical analysis of the A/B test.\n",
    " 6. Conclusions."
   ]
  },
  {
   "cell_type": "markdown",
   "id": "ad98c301",
   "metadata": {},
   "source": [
    "## 1. Data overview."
   ]
  },
  {
   "cell_type": "code",
   "execution_count": 1,
   "id": "e9b62e46",
   "metadata": {},
   "outputs": [],
   "source": [
    "# Все неодходимые библиотеки импортируем в данной ячейке\n",
    "import pandas as pd\n",
    "import numpy as np\n",
    "import datetime as dt\n",
    "import matplotlib.pyplot as plt\n",
    "import scipy.stats as stats"
   ]
  },
  {
   "cell_type": "code",
   "execution_count": 2,
   "id": "4ee195f1",
   "metadata": {},
   "outputs": [],
   "source": [
    "try:\n",
    "    hypothesis = pd.read_csv('/datasets/hypothesis.csv')\n",
    "    orders = pd.read_csv('/datasets/orders.csv')\n",
    "    visitors = pd.read_csv('/datasets/visitors.csv')\n",
    "except:\n",
    "    hypothesis = pd.read_csv('https://.../datasets/hypothesis.csv')\n",
    "    orders = pd.read_csv('https://.../datasets/orders.csv')\n",
    "    visitors = pd.read_csv('https://.../datasets/visitors.csv')"
   ]
  },
  {
   "cell_type": "code",
   "execution_count": 3,
   "id": "b692fcec",
   "metadata": {},
   "outputs": [
    {
     "name": "stdout",
     "output_type": "stream",
     "text": [
      "\u001b[34m\u001b[1m\u001b[4m df 1 \u001b[0m\n",
      "                                          Hypothesis  Reach  Impact  \\\n",
      "0  Добавить два новых канала привлечения трафика,...      3      10   \n",
      "1  Запустить собственную службу доставки, что сок...      2       5   \n",
      "2  Добавить блоки рекомендаций товаров на сайт ин...      8       3   \n",
      "3  Изменить структура категорий, что увеличит кон...      8       3   \n",
      "4  Изменить цвет фона главной страницы, чтобы уве...      3       1   \n",
      "\n",
      "   Confidence  Efforts  \n",
      "0           8        6  \n",
      "1           4       10  \n",
      "2           7        3  \n",
      "3           3        8  \n",
      "4           1        1  \n",
      "\u001b[34m\u001b[1m\u001b[4m df 2 \u001b[0m\n",
      "   transactionId   visitorId        date  revenue group\n",
      "0     3667963787  3312258926  2019-08-15     1650     B\n",
      "1     2804400009  3642806036  2019-08-15      730     B\n",
      "2     2961555356  4069496402  2019-08-15      400     A\n",
      "3     3797467345  1196621759  2019-08-15     9759     B\n",
      "4     2282983706  2322279887  2019-08-15     2308     B\n",
      "\u001b[34m\u001b[1m\u001b[4m df 3 \u001b[0m\n",
      "         date group  visitors\n",
      "0  2019-08-01     A       719\n",
      "1  2019-08-02     A       619\n",
      "2  2019-08-03     A       507\n",
      "3  2019-08-04     A       717\n",
      "4  2019-08-05     A       756\n"
     ]
    }
   ],
   "source": [
    "# Создадим список с именами переменных, в которых сохранили датафреймы. Будем использовать в цикле для удобства обзора данных.\n",
    "list_df = [hypothesis, orders, visitors]\n",
    "n = 1\n",
    "for df in list_df:\n",
    "    print('\\033[34m\\033[1m\\033[4m df {} \\033[0m'.format(n))\n",
    "    print(df.head(5))\n",
    "    n += 1"
   ]
  },
  {
   "cell_type": "code",
   "execution_count": 4,
   "id": "8d6fd4d3",
   "metadata": {},
   "outputs": [
    {
     "name": "stdout",
     "output_type": "stream",
     "text": [
      "\u001b[34m\u001b[1m\u001b[4m df 1 \u001b[0m\n",
      "Hypothesis    0\n",
      "Reach         0\n",
      "Impact        0\n",
      "Confidence    0\n",
      "Efforts       0\n",
      "dtype: int64\n",
      "\u001b[34m\u001b[1m\u001b[4m df 2 \u001b[0m\n",
      "transactionId    0\n",
      "visitorId        0\n",
      "date             0\n",
      "revenue          0\n",
      "group            0\n",
      "dtype: int64\n",
      "\u001b[34m\u001b[1m\u001b[4m df 3 \u001b[0m\n",
      "date        0\n",
      "group       0\n",
      "visitors    0\n",
      "dtype: int64\n"
     ]
    }
   ],
   "source": [
    "# Проверим на пропуски\n",
    "n = 1\n",
    "for df in list_df:\n",
    "    print('\\033[34m\\033[1m\\033[4m df {} \\033[0m'.format(n))\n",
    "    print(df.isnull().sum())\n",
    "    n += 1"
   ]
  },
  {
   "cell_type": "markdown",
   "id": "3410a13a",
   "metadata": {},
   "source": [
    "Пропущенных значений нет."
   ]
  },
  {
   "cell_type": "code",
   "execution_count": 5,
   "id": "b83f381a",
   "metadata": {},
   "outputs": [
    {
     "name": "stdout",
     "output_type": "stream",
     "text": [
      "\u001b[34m\u001b[1m\u001b[4m df 1 \u001b[0m\n",
      "<class 'pandas.core.frame.DataFrame'>\n",
      "RangeIndex: 9 entries, 0 to 8\n",
      "Data columns (total 5 columns):\n",
      " #   Column      Non-Null Count  Dtype \n",
      "---  ------      --------------  ----- \n",
      " 0   Hypothesis  9 non-null      object\n",
      " 1   Reach       9 non-null      int64 \n",
      " 2   Impact      9 non-null      int64 \n",
      " 3   Confidence  9 non-null      int64 \n",
      " 4   Efforts     9 non-null      int64 \n",
      "dtypes: int64(4), object(1)\n",
      "memory usage: 488.0+ bytes\n",
      "None\n",
      "\u001b[34m\u001b[1m\u001b[4m df 2 \u001b[0m\n",
      "<class 'pandas.core.frame.DataFrame'>\n",
      "RangeIndex: 1197 entries, 0 to 1196\n",
      "Data columns (total 5 columns):\n",
      " #   Column         Non-Null Count  Dtype \n",
      "---  ------         --------------  ----- \n",
      " 0   transactionId  1197 non-null   int64 \n",
      " 1   visitorId      1197 non-null   int64 \n",
      " 2   date           1197 non-null   object\n",
      " 3   revenue        1197 non-null   int64 \n",
      " 4   group          1197 non-null   object\n",
      "dtypes: int64(3), object(2)\n",
      "memory usage: 46.9+ KB\n",
      "None\n",
      "\u001b[34m\u001b[1m\u001b[4m df 3 \u001b[0m\n",
      "<class 'pandas.core.frame.DataFrame'>\n",
      "RangeIndex: 62 entries, 0 to 61\n",
      "Data columns (total 3 columns):\n",
      " #   Column    Non-Null Count  Dtype \n",
      "---  ------    --------------  ----- \n",
      " 0   date      62 non-null     object\n",
      " 1   group     62 non-null     object\n",
      " 2   visitors  62 non-null     int64 \n",
      "dtypes: int64(1), object(2)\n",
      "memory usage: 1.6+ KB\n",
      "None\n"
     ]
    }
   ],
   "source": [
    "# Ознакомимся с типом данных\n",
    "n = 1\n",
    "for df in list_df:\n",
    "    print('\\033[34m\\033[1m\\033[4m df {} \\033[0m'.format(n))\n",
    "    print(df.info())\n",
    "    n += 1"
   ]
  },
  {
   "cell_type": "markdown",
   "id": "270f8dbf",
   "metadata": {},
   "source": [
    "Даты во всех датафрэймах приведем к значению \"datetime\" на следующем шаге Предобработка. "
   ]
  },
  {
   "cell_type": "code",
   "execution_count": 6,
   "id": "a2d6050e",
   "metadata": {},
   "outputs": [
    {
     "name": "stdout",
     "output_type": "stream",
     "text": [
      "\u001b[34m\u001b[1m\u001b[4m df 1 \u001b[0m\n",
      "0\n",
      "\u001b[34m\u001b[1m\u001b[4m df 2 \u001b[0m\n",
      "0\n",
      "\u001b[34m\u001b[1m\u001b[4m df 3 \u001b[0m\n",
      "0\n"
     ]
    }
   ],
   "source": [
    "# проведем проверку на явные дубликаты\n",
    "n = 1\n",
    "for df in list_df:\n",
    "    print('\\033[34m\\033[1m\\033[4m df {} \\033[0m'.format(n))\n",
    "    print(df.duplicated().sum())\n",
    "    n += 1"
   ]
  },
  {
   "cell_type": "markdown",
   "id": "63a8d2cb",
   "metadata": {},
   "source": [
    "Явные дубликаты отсутствуют."
   ]
  },
  {
   "cell_type": "markdown",
   "id": "cfb44307",
   "metadata": {},
   "source": [
    "## 2. Data preprocessing."
   ]
  },
  {
   "cell_type": "markdown",
   "id": "a29599f0",
   "metadata": {},
   "source": [
    "#### Improving style and readability"
   ]
  },
  {
   "cell_type": "code",
   "execution_count": 7,
   "id": "b36d5e76",
   "metadata": {},
   "outputs": [
    {
     "name": "stdout",
     "output_type": "stream",
     "text": [
      "\u001b[34m\u001b[1m\u001b[4m df 1 \u001b[0m\n",
      "Index(['Hypothesis', 'Reach', 'Impact', 'Confidence', 'Efforts'], dtype='object')\n",
      "\u001b[34m\u001b[1m\u001b[4m df 2 \u001b[0m\n",
      "Index(['transactionId', 'visitorId', 'date', 'revenue', 'group'], dtype='object')\n",
      "\u001b[34m\u001b[1m\u001b[4m df 3 \u001b[0m\n",
      "Index(['date', 'group', 'visitors'], dtype='object')\n"
     ]
    }
   ],
   "source": [
    "# Изменим наименование столбцов, приведем их к нижнему регистру и удалим лишние пробелы если будут выявленны\n",
    "n = 1\n",
    "for df in list_df:\n",
    "    print('\\033[34m\\033[1m\\033[4m df {} \\033[0m'.format(n))\n",
    "    print(df.columns)\n",
    "    n += 1"
   ]
  },
  {
   "cell_type": "code",
   "execution_count": 8,
   "id": "4bab6f80",
   "metadata": {},
   "outputs": [],
   "source": [
    "# Приведем к нижнему регистру. Лишних пробелов для удаления нет.\n",
    "for df in list_df:\n",
    "    df.columns = df.columns.str.lower()"
   ]
  },
  {
   "cell_type": "code",
   "execution_count": 9,
   "id": "950cb569",
   "metadata": {},
   "outputs": [],
   "source": [
    "# Дополнительно отделим \" id\" в наименовании двух столбцов в \"orders\". Перезапишем список с наименованиями датафрэймов.\n",
    "orders = orders.rename(columns={'transactionid': 'transaction_id', 'visitorid': 'visitor_id'})\n",
    "list_df = [hypothesis, orders, visitors]"
   ]
  },
  {
   "cell_type": "code",
   "execution_count": 10,
   "id": "6297b159",
   "metadata": {},
   "outputs": [
    {
     "name": "stdout",
     "output_type": "stream",
     "text": [
      "\u001b[34m\u001b[1m\u001b[4m df 1 \u001b[0m\n",
      "Index(['hypothesis', 'reach', 'impact', 'confidence', 'efforts'], dtype='object')\n",
      "\u001b[34m\u001b[1m\u001b[4m df 2 \u001b[0m\n",
      "Index(['transaction_id', 'visitor_id', 'date', 'revenue', 'group'], dtype='object')\n",
      "\u001b[34m\u001b[1m\u001b[4m df 3 \u001b[0m\n",
      "Index(['date', 'group', 'visitors'], dtype='object')\n"
     ]
    }
   ],
   "source": [
    "# Проверим результат\n",
    "n = 1\n",
    "for df in list_df:\n",
    "    print('\\033[34m\\033[1m\\033[4m df {} \\033[0m'.format(n))\n",
    "    print(df.columns)\n",
    "    n += 1"
   ]
  },
  {
   "cell_type": "markdown",
   "id": "0e40298d",
   "metadata": {},
   "source": [
    "#### Changing data types"
   ]
  },
  {
   "cell_type": "code",
   "execution_count": 11,
   "id": "d0980084",
   "metadata": {},
   "outputs": [],
   "source": [
    "# Даты в датафрэймах \"orders\" и \"visitors\" приведем к значению \"datetime\"\n",
    "orders['date'] = orders['date'].map(lambda x: dt.datetime.strptime(x, '%Y-%m-%d'))\n",
    "visitors['date'] = visitors['date'].map(lambda x: dt.datetime.strptime(x, '%Y-%m-%d'))"
   ]
  },
  {
   "cell_type": "code",
   "execution_count": 12,
   "id": "7e92a917",
   "metadata": {},
   "outputs": [
    {
     "name": "stdout",
     "output_type": "stream",
     "text": [
      "\u001b[34m\u001b[1m\u001b[4m orders \u001b[0m\n",
      "<class 'pandas.core.frame.DataFrame'>\n",
      "RangeIndex: 1197 entries, 0 to 1196\n",
      "Data columns (total 5 columns):\n",
      " #   Column          Non-Null Count  Dtype         \n",
      "---  ------          --------------  -----         \n",
      " 0   transaction_id  1197 non-null   int64         \n",
      " 1   visitor_id      1197 non-null   int64         \n",
      " 2   date            1197 non-null   datetime64[ns]\n",
      " 3   revenue         1197 non-null   int64         \n",
      " 4   group           1197 non-null   object        \n",
      "dtypes: datetime64[ns](1), int64(3), object(1)\n",
      "memory usage: 46.9+ KB\n",
      "None\n",
      "\u001b[34m\u001b[1m\u001b[4m visitors \u001b[0m\n",
      "<class 'pandas.core.frame.DataFrame'>\n",
      "RangeIndex: 62 entries, 0 to 61\n",
      "Data columns (total 3 columns):\n",
      " #   Column    Non-Null Count  Dtype         \n",
      "---  ------    --------------  -----         \n",
      " 0   date      62 non-null     datetime64[ns]\n",
      " 1   group     62 non-null     object        \n",
      " 2   visitors  62 non-null     int64         \n",
      "dtypes: datetime64[ns](1), int64(1), object(1)\n",
      "memory usage: 1.6+ KB\n",
      "None\n"
     ]
    }
   ],
   "source": [
    "# Проверим результат\n",
    "print('\\033[34m\\033[1m\\033[4m orders \\033[0m')\n",
    "print(orders.info())\n",
    "print('\\033[34m\\033[1m\\033[4m visitors \\033[0m')\n",
    "print(visitors.info())"
   ]
  },
  {
   "cell_type": "markdown",
   "id": "246c65a3",
   "metadata": {},
   "source": [
    "## 3. Hypothesis prioritization."
   ]
  },
  {
   "cell_type": "code",
   "execution_count": 13,
   "id": "bbcfc6a7",
   "metadata": {},
   "outputs": [
    {
     "data": {
      "text/html": [
       "<div>\n",
       "<style scoped>\n",
       "    .dataframe tbody tr th:only-of-type {\n",
       "        vertical-align: middle;\n",
       "    }\n",
       "\n",
       "    .dataframe tbody tr th {\n",
       "        vertical-align: top;\n",
       "    }\n",
       "\n",
       "    .dataframe thead th {\n",
       "        text-align: right;\n",
       "    }\n",
       "</style>\n",
       "<table border=\"1\" class=\"dataframe\">\n",
       "  <thead>\n",
       "    <tr style=\"text-align: right;\">\n",
       "      <th></th>\n",
       "      <th>hypothesis</th>\n",
       "      <th>reach</th>\n",
       "      <th>impact</th>\n",
       "      <th>confidence</th>\n",
       "      <th>efforts</th>\n",
       "    </tr>\n",
       "  </thead>\n",
       "  <tbody>\n",
       "    <tr>\n",
       "      <th>0</th>\n",
       "      <td>Добавить два новых канала привлечения трафика, что позволит привлекать на 30% больше пользователей</td>\n",
       "      <td>3</td>\n",
       "      <td>10</td>\n",
       "      <td>8</td>\n",
       "      <td>6</td>\n",
       "    </tr>\n",
       "    <tr>\n",
       "      <th>1</th>\n",
       "      <td>Запустить собственную службу доставки, что сократит срок доставки заказов</td>\n",
       "      <td>2</td>\n",
       "      <td>5</td>\n",
       "      <td>4</td>\n",
       "      <td>10</td>\n",
       "    </tr>\n",
       "    <tr>\n",
       "      <th>2</th>\n",
       "      <td>Добавить блоки рекомендаций товаров на сайт интернет магазина, чтобы повысить конверсию и средний чек заказа</td>\n",
       "      <td>8</td>\n",
       "      <td>3</td>\n",
       "      <td>7</td>\n",
       "      <td>3</td>\n",
       "    </tr>\n",
       "    <tr>\n",
       "      <th>3</th>\n",
       "      <td>Изменить структура категорий, что увеличит конверсию, т.к. пользователи быстрее найдут нужный товар</td>\n",
       "      <td>8</td>\n",
       "      <td>3</td>\n",
       "      <td>3</td>\n",
       "      <td>8</td>\n",
       "    </tr>\n",
       "    <tr>\n",
       "      <th>4</th>\n",
       "      <td>Изменить цвет фона главной страницы, чтобы увеличить вовлеченность пользователей</td>\n",
       "      <td>3</td>\n",
       "      <td>1</td>\n",
       "      <td>1</td>\n",
       "      <td>1</td>\n",
       "    </tr>\n",
       "    <tr>\n",
       "      <th>5</th>\n",
       "      <td>Добавить страницу отзывов клиентов о магазине, что позволит увеличить количество заказов</td>\n",
       "      <td>3</td>\n",
       "      <td>2</td>\n",
       "      <td>2</td>\n",
       "      <td>3</td>\n",
       "    </tr>\n",
       "    <tr>\n",
       "      <th>6</th>\n",
       "      <td>Показать на главной странице баннеры с актуальными акциями и распродажами, чтобы увеличить конверсию</td>\n",
       "      <td>5</td>\n",
       "      <td>3</td>\n",
       "      <td>8</td>\n",
       "      <td>3</td>\n",
       "    </tr>\n",
       "    <tr>\n",
       "      <th>7</th>\n",
       "      <td>Добавить форму подписки на все основные страницы, чтобы собрать базу клиентов для email-рассылок</td>\n",
       "      <td>10</td>\n",
       "      <td>7</td>\n",
       "      <td>8</td>\n",
       "      <td>5</td>\n",
       "    </tr>\n",
       "    <tr>\n",
       "      <th>8</th>\n",
       "      <td>Запустить акцию, дающую скидку на товар в день рождения</td>\n",
       "      <td>1</td>\n",
       "      <td>9</td>\n",
       "      <td>9</td>\n",
       "      <td>5</td>\n",
       "    </tr>\n",
       "  </tbody>\n",
       "</table>\n",
       "</div>"
      ],
      "text/plain": [
       "                                                                                                     hypothesis  \\\n",
       "0            Добавить два новых канала привлечения трафика, что позволит привлекать на 30% больше пользователей   \n",
       "1                                     Запустить собственную службу доставки, что сократит срок доставки заказов   \n",
       "2  Добавить блоки рекомендаций товаров на сайт интернет магазина, чтобы повысить конверсию и средний чек заказа   \n",
       "3           Изменить структура категорий, что увеличит конверсию, т.к. пользователи быстрее найдут нужный товар   \n",
       "4                              Изменить цвет фона главной страницы, чтобы увеличить вовлеченность пользователей   \n",
       "5                      Добавить страницу отзывов клиентов о магазине, что позволит увеличить количество заказов   \n",
       "6          Показать на главной странице баннеры с актуальными акциями и распродажами, чтобы увеличить конверсию   \n",
       "7              Добавить форму подписки на все основные страницы, чтобы собрать базу клиентов для email-рассылок   \n",
       "8                                                       Запустить акцию, дающую скидку на товар в день рождения   \n",
       "\n",
       "   reach  impact  confidence  efforts  \n",
       "0      3      10           8        6  \n",
       "1      2       5           4       10  \n",
       "2      8       3           7        3  \n",
       "3      8       3           3        8  \n",
       "4      3       1           1        1  \n",
       "5      3       2           2        3  \n",
       "6      5       3           8        3  \n",
       "7     10       7           8        5  \n",
       "8      1       9           9        5  "
      ]
     },
     "execution_count": 13,
     "metadata": {},
     "output_type": "execute_result"
    }
   ],
   "source": [
    "# Изучим файл с гипотезами и оценками параметров\n",
    "pd.set_option('display.max_colwidth', None)\n",
    "hypothesis"
   ]
  },
  {
   "cell_type": "markdown",
   "id": "330c4cb7",
   "metadata": {},
   "source": [
    "#### ICE Calculation"
   ]
  },
  {
   "cell_type": "code",
   "execution_count": 14,
   "id": "3de943d4",
   "metadata": {},
   "outputs": [
    {
     "data": {
      "text/html": [
       "<div>\n",
       "<style scoped>\n",
       "    .dataframe tbody tr th:only-of-type {\n",
       "        vertical-align: middle;\n",
       "    }\n",
       "\n",
       "    .dataframe tbody tr th {\n",
       "        vertical-align: top;\n",
       "    }\n",
       "\n",
       "    .dataframe thead th {\n",
       "        text-align: right;\n",
       "    }\n",
       "</style>\n",
       "<table border=\"1\" class=\"dataframe\">\n",
       "  <thead>\n",
       "    <tr style=\"text-align: right;\">\n",
       "      <th></th>\n",
       "      <th>hypothesis</th>\n",
       "      <th>ICE</th>\n",
       "    </tr>\n",
       "  </thead>\n",
       "  <tbody>\n",
       "    <tr>\n",
       "      <th>8</th>\n",
       "      <td>Запустить акцию, дающую скидку на товар в день рождения</td>\n",
       "      <td>16.2</td>\n",
       "    </tr>\n",
       "    <tr>\n",
       "      <th>0</th>\n",
       "      <td>Добавить два новых канала привлечения трафика, что позволит привлекать на 30% больше пользователей</td>\n",
       "      <td>13.3</td>\n",
       "    </tr>\n",
       "    <tr>\n",
       "      <th>7</th>\n",
       "      <td>Добавить форму подписки на все основные страницы, чтобы собрать базу клиентов для email-рассылок</td>\n",
       "      <td>11.2</td>\n",
       "    </tr>\n",
       "    <tr>\n",
       "      <th>6</th>\n",
       "      <td>Показать на главной странице баннеры с актуальными акциями и распродажами, чтобы увеличить конверсию</td>\n",
       "      <td>8.0</td>\n",
       "    </tr>\n",
       "    <tr>\n",
       "      <th>2</th>\n",
       "      <td>Добавить блоки рекомендаций товаров на сайт интернет магазина, чтобы повысить конверсию и средний чек заказа</td>\n",
       "      <td>7.0</td>\n",
       "    </tr>\n",
       "    <tr>\n",
       "      <th>1</th>\n",
       "      <td>Запустить собственную службу доставки, что сократит срок доставки заказов</td>\n",
       "      <td>2.0</td>\n",
       "    </tr>\n",
       "    <tr>\n",
       "      <th>5</th>\n",
       "      <td>Добавить страницу отзывов клиентов о магазине, что позволит увеличить количество заказов</td>\n",
       "      <td>1.3</td>\n",
       "    </tr>\n",
       "    <tr>\n",
       "      <th>3</th>\n",
       "      <td>Изменить структура категорий, что увеличит конверсию, т.к. пользователи быстрее найдут нужный товар</td>\n",
       "      <td>1.1</td>\n",
       "    </tr>\n",
       "    <tr>\n",
       "      <th>4</th>\n",
       "      <td>Изменить цвет фона главной страницы, чтобы увеличить вовлеченность пользователей</td>\n",
       "      <td>1.0</td>\n",
       "    </tr>\n",
       "  </tbody>\n",
       "</table>\n",
       "</div>"
      ],
      "text/plain": [
       "                                                                                                     hypothesis  \\\n",
       "8                                                       Запустить акцию, дающую скидку на товар в день рождения   \n",
       "0            Добавить два новых канала привлечения трафика, что позволит привлекать на 30% больше пользователей   \n",
       "7              Добавить форму подписки на все основные страницы, чтобы собрать базу клиентов для email-рассылок   \n",
       "6          Показать на главной странице баннеры с актуальными акциями и распродажами, чтобы увеличить конверсию   \n",
       "2  Добавить блоки рекомендаций товаров на сайт интернет магазина, чтобы повысить конверсию и средний чек заказа   \n",
       "1                                     Запустить собственную службу доставки, что сократит срок доставки заказов   \n",
       "5                      Добавить страницу отзывов клиентов о магазине, что позволит увеличить количество заказов   \n",
       "3           Изменить структура категорий, что увеличит конверсию, т.к. пользователи быстрее найдут нужный товар   \n",
       "4                              Изменить цвет фона главной страницы, чтобы увеличить вовлеченность пользователей   \n",
       "\n",
       "    ICE  \n",
       "8  16.2  \n",
       "0  13.3  \n",
       "7  11.2  \n",
       "6   8.0  \n",
       "2   7.0  \n",
       "1   2.0  \n",
       "5   1.3  \n",
       "3   1.1  \n",
       "4   1.0  "
      ]
     },
     "execution_count": 14,
     "metadata": {},
     "output_type": "execute_result"
    }
   ],
   "source": [
    "# Применим фреймворк ICE для приоритизации гипотез. Отсортируем их по убыванию приоритета.\n",
    "hypothesis['ICE'] = hypothesis['impact'] * hypothesis['confidence'] / hypothesis['efforts']\n",
    "hypothesis['ICE'] = hypothesis['ICE'].round(1)\n",
    "hypothesis[['hypothesis', 'ICE']].sort_values(by='ICE', ascending=False)"
   ]
  },
  {
   "cell_type": "markdown",
   "id": "a0ca16b7",
   "metadata": {},
   "source": [
    "#### RICE Calculation"
   ]
  },
  {
   "cell_type": "code",
   "execution_count": 15,
   "id": "3fd4a8d5",
   "metadata": {},
   "outputs": [
    {
     "data": {
      "text/html": [
       "<div>\n",
       "<style scoped>\n",
       "    .dataframe tbody tr th:only-of-type {\n",
       "        vertical-align: middle;\n",
       "    }\n",
       "\n",
       "    .dataframe tbody tr th {\n",
       "        vertical-align: top;\n",
       "    }\n",
       "\n",
       "    .dataframe thead th {\n",
       "        text-align: right;\n",
       "    }\n",
       "</style>\n",
       "<table border=\"1\" class=\"dataframe\">\n",
       "  <thead>\n",
       "    <tr style=\"text-align: right;\">\n",
       "      <th></th>\n",
       "      <th>hypothesis</th>\n",
       "      <th>RICE</th>\n",
       "    </tr>\n",
       "  </thead>\n",
       "  <tbody>\n",
       "    <tr>\n",
       "      <th>7</th>\n",
       "      <td>Добавить форму подписки на все основные страницы, чтобы собрать базу клиентов для email-рассылок</td>\n",
       "      <td>112.0</td>\n",
       "    </tr>\n",
       "    <tr>\n",
       "      <th>2</th>\n",
       "      <td>Добавить блоки рекомендаций товаров на сайт интернет магазина, чтобы повысить конверсию и средний чек заказа</td>\n",
       "      <td>56.0</td>\n",
       "    </tr>\n",
       "    <tr>\n",
       "      <th>0</th>\n",
       "      <td>Добавить два новых канала привлечения трафика, что позволит привлекать на 30% больше пользователей</td>\n",
       "      <td>40.0</td>\n",
       "    </tr>\n",
       "    <tr>\n",
       "      <th>6</th>\n",
       "      <td>Показать на главной странице баннеры с актуальными акциями и распродажами, чтобы увеличить конверсию</td>\n",
       "      <td>40.0</td>\n",
       "    </tr>\n",
       "    <tr>\n",
       "      <th>8</th>\n",
       "      <td>Запустить акцию, дающую скидку на товар в день рождения</td>\n",
       "      <td>16.2</td>\n",
       "    </tr>\n",
       "    <tr>\n",
       "      <th>3</th>\n",
       "      <td>Изменить структура категорий, что увеличит конверсию, т.к. пользователи быстрее найдут нужный товар</td>\n",
       "      <td>9.0</td>\n",
       "    </tr>\n",
       "    <tr>\n",
       "      <th>1</th>\n",
       "      <td>Запустить собственную службу доставки, что сократит срок доставки заказов</td>\n",
       "      <td>4.0</td>\n",
       "    </tr>\n",
       "    <tr>\n",
       "      <th>5</th>\n",
       "      <td>Добавить страницу отзывов клиентов о магазине, что позволит увеличить количество заказов</td>\n",
       "      <td>4.0</td>\n",
       "    </tr>\n",
       "    <tr>\n",
       "      <th>4</th>\n",
       "      <td>Изменить цвет фона главной страницы, чтобы увеличить вовлеченность пользователей</td>\n",
       "      <td>3.0</td>\n",
       "    </tr>\n",
       "  </tbody>\n",
       "</table>\n",
       "</div>"
      ],
      "text/plain": [
       "                                                                                                     hypothesis  \\\n",
       "7              Добавить форму подписки на все основные страницы, чтобы собрать базу клиентов для email-рассылок   \n",
       "2  Добавить блоки рекомендаций товаров на сайт интернет магазина, чтобы повысить конверсию и средний чек заказа   \n",
       "0            Добавить два новых канала привлечения трафика, что позволит привлекать на 30% больше пользователей   \n",
       "6          Показать на главной странице баннеры с актуальными акциями и распродажами, чтобы увеличить конверсию   \n",
       "8                                                       Запустить акцию, дающую скидку на товар в день рождения   \n",
       "3           Изменить структура категорий, что увеличит конверсию, т.к. пользователи быстрее найдут нужный товар   \n",
       "1                                     Запустить собственную службу доставки, что сократит срок доставки заказов   \n",
       "5                      Добавить страницу отзывов клиентов о магазине, что позволит увеличить количество заказов   \n",
       "4                              Изменить цвет фона главной страницы, чтобы увеличить вовлеченность пользователей   \n",
       "\n",
       "    RICE  \n",
       "7  112.0  \n",
       "2   56.0  \n",
       "0   40.0  \n",
       "6   40.0  \n",
       "8   16.2  \n",
       "3    9.0  \n",
       "1    4.0  \n",
       "5    4.0  \n",
       "4    3.0  "
      ]
     },
     "execution_count": 15,
     "metadata": {},
     "output_type": "execute_result"
    }
   ],
   "source": [
    "# Применим фреймворк RICE для приоритизации гипотез. Отсортируем их по убыванию приоритета.\n",
    "hypothesis['RICE'] = hypothesis['reach'] * hypothesis['impact'] * hypothesis['confidence'] / hypothesis['efforts'].round(1)\n",
    "hypothesis[['hypothesis', 'RICE']].sort_values(by='RICE', ascending=False)"
   ]
  },
  {
   "cell_type": "markdown",
   "id": "1adaaba2",
   "metadata": {},
   "source": [
    "**Conclusion on Hypothesis Prioritization:**\n",
    "\n",
    "Based on the combined analysis of the ICE and RICE calculations, the most promising hypotheses are:\n",
    "- №1: \"Add two new traffic acquisition channels, which will allow for a 30% increase in user acquisition\" (ranked 2nd in ICE and 3rd in RICE);\n",
    "- №8: \"Add a subscription form on all main pages to build an email marketing list\" (ranked 3rd in ICE and 1st in RICE).\n",
    "\n",
    "Less promising, but still worth considering, is hypothesis №7: \"Display banners with current promotions and sales on the homepage to increase conversion\" (ranked 4th in ICE and tied for 3rd with hypothesis №1 in RICE).\n",
    "\n",
    "Hypothesis №9: \"Launch a promotion offering a discount on a user's birthday\" ranked 1st in the ICE calculation due to its near-maximum score for expected audience impact, the researcher's confidence in its success, and a mid-level score for resource costs. However, it dropped lower in the rankings, taking 5th place in the RICE calculation due to a low score for the \"reach\" parameter, i.e., the estimated number of users affected by this change. This parameter was not considered in the ICE calculation.\n"
   ]
  },
  {
   "cell_type": "markdown",
   "id": "624fb302",
   "metadata": {},
   "source": [
    "## 4. Exploratory analysis of the A/B test."
   ]
  },
  {
   "cell_type": "code",
   "execution_count": 16,
   "id": "75cdd6d5",
   "metadata": {},
   "outputs": [
    {
     "name": "stdout",
     "output_type": "stream",
     "text": [
      "   transaction_id  visitor_id       date  revenue group\n",
      "0      3667963787  3312258926 2019-08-15     1650     B\n",
      "1      2804400009  3642806036 2019-08-15      730     B\n",
      "2      2961555356  4069496402 2019-08-15      400     A\n",
      "3      3797467345  1196621759 2019-08-15     9759     B\n",
      "4      2282983706  2322279887 2019-08-15     2308     B\n",
      "\n",
      "        date group  visitors\n",
      "0 2019-08-01     A       719\n",
      "1 2019-08-02     A       619\n",
      "2 2019-08-03     A       507\n",
      "3 2019-08-04     A       717\n",
      "4 2019-08-05     A       756\n"
     ]
    }
   ],
   "source": [
    "# Изучим файлы с результатами A/B-тестов\n",
    "print(orders.head())\n",
    "print()\n",
    "print(visitors.head())"
   ]
  },
  {
   "cell_type": "code",
   "execution_count": 17,
   "id": "b0dd98e8",
   "metadata": {},
   "outputs": [],
   "source": [
    "# Подготовим данные для расчета кумулятивных метрик\n",
    "\n",
    "datesGroups = orders[['date', 'group']].drop_duplicates()\n",
    "\n",
    "ordersAggregated = datesGroups.apply(\n",
    "    lambda x: orders[\n",
    "        np.logical_and(\n",
    "            orders['date'] <= x['date'], orders['group'] == x['group']\n",
    "        )\n",
    "    ].agg(\n",
    "        {\n",
    "            'date': 'max',\n",
    "            'group': 'max',\n",
    "            'transaction_id': 'nunique',\n",
    "            'visitor_id': 'nunique',\n",
    "            'revenue': 'sum',\n",
    "        }\n",
    "    ),\n",
    "    axis=1,\n",
    ").sort_values(by=['date', 'group'])\n",
    "\n",
    "visitorsAggregated = datesGroups.apply(\n",
    "    lambda x: visitors[\n",
    "        np.logical_and(\n",
    "            visitors['date'] <= x['date'], visitors['group'] == x['group']\n",
    "        )\n",
    "    ].agg({'date': 'max', 'group': 'max', 'visitors': 'sum'}),\n",
    "    axis=1,\n",
    ").sort_values(by=['date', 'group'])\n",
    "\n",
    "cumulativeData = ordersAggregated.merge(\n",
    "    visitorsAggregated, left_on=['date', 'group'], right_on=['date', 'group']\n",
    ")\n",
    "cumulativeData.columns = [\n",
    "    'date',\n",
    "    'group',\n",
    "    'orders',\n",
    "    'buyers',\n",
    "    'revenue',\n",
    "    'visitors',\n",
    "]"
   ]
  },
  {
   "cell_type": "markdown",
   "id": "4704d54f",
   "metadata": {},
   "source": [
    "#### Let's plot the cumulative revenue by group."
   ]
  },
  {
   "cell_type": "code",
   "execution_count": 18,
   "id": "c3f3bd29",
   "metadata": {
    "scrolled": false
   },
   "outputs": [
    {
     "data": {
      "image/png": "[encoded data removed]",
      "text/plain": [
       "<Figure size 432x288 with 1 Axes>"
      ]
     },
     "metadata": {
      "needs_background": "light"
     },
     "output_type": "display_data"
    }
   ],
   "source": [
    "cumulativeRevenueA = cumulativeData[cumulativeData['group'] == 'A'][['date', 'revenue', 'orders']]\n",
    "cumulativeRevenueB = cumulativeData[cumulativeData['group'] == 'B'][['date', 'revenue', 'orders']]\n",
    "\n",
    "plt.plot(cumulativeRevenueA['date'], cumulativeRevenueA['revenue'], label='A')\n",
    "plt.plot(cumulativeRevenueB['date'], cumulativeRevenueB['revenue'], label='B')\n",
    "plt.title('Кумулятивная выручка по группам', fontsize = 15)\n",
    "plt.ylabel('Выручка', fontsize = 13)\n",
    "plt.xlabel('Дата', fontsize = 13)\n",
    "plt.xticks(rotation = 20)\n",
    "plt.legend()\n",
    "plt.show()"
   ]
  },
  {
   "cell_type": "markdown",
   "id": "9513e1c2",
   "metadata": {},
   "source": [
    "В начале теста оба сегмента показывали одинаковые значения, но почти сразу выручка по сегмет В стала превышать сегмент А. На протяжении всего теста выручка по сегмнту В больше, однако в середине виден скачек в показателях. Похоже в данных присутствуют аномально большие заказы, которые могут влиять на результаты. При проведении дальнейшего иследования экстримальные значения целесообразно удалить."
   ]
  },
  {
   "cell_type": "markdown",
   "id": "4e6ef26d",
   "metadata": {},
   "source": [
    "#### Постройтим график кумулятивного среднего чека по группам."
   ]
  },
  {
   "cell_type": "code",
   "execution_count": 19,
   "id": "2fe57e12",
   "metadata": {},
   "outputs": [
    {
     "data": {
      "image/png": "[encoded data removed]",
      "text/plain": [
       "<Figure size 432x288 with 1 Axes>"
      ]
     },
     "metadata": {
      "needs_background": "light"
     },
     "output_type": "display_data"
    }
   ],
   "source": [
    "plt.plot(cumulativeRevenueA['date'], cumulativeRevenueA['revenue'] / cumulativeRevenueA['orders'], label = 'A')\n",
    "plt.plot(cumulativeRevenueB['date'], cumulativeRevenueB['revenue'] / cumulativeRevenueB['orders'], label = 'B')\n",
    "plt.title('Кумулятивный средний чек по группам', fontsize = 15)\n",
    "plt.ylabel('Средний чек', fontsize = 13)\n",
    "plt.xlabel('Дата', fontsize = 13)\n",
    "plt.xticks(rotation = 20)\n",
    "plt.legend()\n",
    "plt.show()"
   ]
  },
  {
   "cell_type": "markdown",
   "id": "2b003060",
   "metadata": {},
   "source": [
    "Кумулятивное значение среднего чека колеблется. Видны скачки как в сегменте А, так и в сегменте В. Особенно заметен скачек в чеке по сегменту В, совпадающий по дате с экстремальным значением при расчтете выручки по группам. Делать выводы на таких данных ран, целесообразно избавиться от влияния экстремальных значений, которые могут искажать результаты."
   ]
  },
  {
   "cell_type": "markdown",
   "id": "f7dde2cd",
   "metadata": {},
   "source": [
    "#### Построим график относительного изменения кумулятивного среднего чека группы B к группе A."
   ]
  },
  {
   "cell_type": "code",
   "execution_count": 20,
   "id": "6f424c49",
   "metadata": {},
   "outputs": [],
   "source": [
    "# Объединим таблицы cumulativeRevenueA и cumulativeRevenueB и сохраним в переменной mergedCumulativeRevenue\n",
    "mergedCumulativeRevenue = cumulativeRevenueA.merge(\n",
    "    cumulativeRevenueB, left_on='date', right_on='date', how='left', suffixes=['A', 'B']\n",
    ")"
   ]
  },
  {
   "cell_type": "code",
   "execution_count": 21,
   "id": "6bda866e",
   "metadata": {},
   "outputs": [
    {
     "data": {
      "image/png": "[encoded data removed]",
      "text/plain": [
       "<Figure size 432x288 with 1 Axes>"
      ]
     },
     "metadata": {
      "needs_background": "light"
     },
     "output_type": "display_data"
    }
   ],
   "source": [
    "# Построим график относительного различия кумулятивного среднего чека группы B к группе A\n",
    "# и добавим пунктирную линию оси X для оценки отношения показателей группы В к группе А - значение 0 по оси Y\n",
    "plt.plot(\n",
    "    mergedCumulativeRevenue['date'],\n",
    "    (mergedCumulativeRevenue['revenueB'] / mergedCumulativeRevenue['ordersB']) / (mergedCumulativeRevenue['revenueA'] / mergedCumulativeRevenue['ordersA']) - 1\n",
    ")\n",
    "plt.axhline(y=0, color='red', linestyle='--')\n",
    "plt.title('Различия кумулятивного среднего чека группы B к группе A', fontsize = 12)\n",
    "plt.ylabel('Отличие группы В от грппы А в %%', fontsize = 10)\n",
    "plt.xlabel('Дата', fontsize = 12)\n",
    "plt.xticks(rotation = 20)\n",
    "plt.show()"
   ]
  },
  {
   "cell_type": "markdown",
   "id": "962425c0",
   "metadata": {},
   "source": [
    "Группа В большую часть времени показывает себя лучше группы А. Но, видны резкие различия в среднем чеке между группами. Вероятно, на данные влияют выбросы."
   ]
  },
  {
   "cell_type": "markdown",
   "id": "65d9131c",
   "metadata": {},
   "source": [
    "#### Построим график кумулятивного среднего количества заказов на посетителя по группам."
   ]
  },
  {
   "cell_type": "code",
   "execution_count": 22,
   "id": "6d38e819",
   "metadata": {},
   "outputs": [],
   "source": [
    "# Добавим в датафрэйм \"cumulativeData\" колонку в которой посчитаем конверсию кол-ва посетителей в заказы\n",
    "# Далее сделаем срезы по сегметам А и В и созраним их в отдельные датасеты\n",
    "cumulativeData['conversion'] = cumulativeData['orders'] / cumulativeData['visitors']\n",
    "cumulativeDataA = cumulativeData[cumulativeData['group']=='A']\n",
    "cumulativeDataB = cumulativeData[cumulativeData['group']=='B']"
   ]
  },
  {
   "cell_type": "code",
   "execution_count": 23,
   "id": "0d0e5413",
   "metadata": {},
   "outputs": [
    {
     "data": {
      "image/png": "[encoded data removed]",
      "text/plain": [
       "<Figure size 432x288 with 1 Axes>"
      ]
     },
     "metadata": {
      "needs_background": "light"
     },
     "output_type": "display_data"
    }
   ],
   "source": [
    "# Построим график изменения отношения среднего количества заказов на посетителя, по группам\n",
    "plt.plot(cumulativeDataA['date'], cumulativeDataA['conversion'], label='A')\n",
    "plt.plot(cumulativeDataB['date'], cumulativeDataB['conversion'], label='B')\n",
    "plt.title('Среднее количество заказов на посетителя по группам', fontsize = 14)\n",
    "plt.ylabel('Количество заказов', fontsize = 12)\n",
    "plt.xlabel('Дата', fontsize = 12)\n",
    "plt.xticks(rotation=20)\n",
    "plt.legend()\n",
    "plt.show()"
   ]
  },
  {
   "cell_type": "markdown",
   "id": "bcddf351",
   "metadata": {},
   "source": [
    "На графиках в начале теста видны сильные колебания. Вероятно мы наблюдаем эффект \"подглядывания\", но нельзя и исключать наличие выбросов. Однако, группа В уверенно показывает лучшую конверсию по сравнению с А на протяжении больгего периода теста. Ближе к концу теста колебания становяться меньше. Целесообразно исключить влияние возможных выбросов."
   ]
  },
  {
   "cell_type": "markdown",
   "id": "d6739770",
   "metadata": {},
   "source": [
    "#### Построим график относительного изменения кумулятивного среднего количества заказов на посетителя группы B к группе A."
   ]
  },
  {
   "cell_type": "code",
   "execution_count": 24,
   "id": "95529c80",
   "metadata": {},
   "outputs": [],
   "source": [
    "# Объединим таблицы cumulativeDataA и cumulativeDataB и сохраним в переменной mergedCumulativeConversions\n",
    "mergedCumulativeConversions = cumulativeDataA[['date','conversion']].merge(\n",
    "    cumulativeDataB[['date','conversion']], left_on='date', right_on='date', how='left', suffixes=['A', 'B']\n",
    ")"
   ]
  },
  {
   "cell_type": "code",
   "execution_count": 25,
   "id": "8414e8e5",
   "metadata": {},
   "outputs": [
    {
     "data": {
      "image/png": "[encoded data removed]",
      "text/plain": [
       "<Figure size 432x288 with 1 Axes>"
      ]
     },
     "metadata": {
      "needs_background": "light"
     },
     "output_type": "display_data"
    }
   ],
   "source": [
    "# Построим график относительного различия кумулятивного среднего чека группы B к группе A\n",
    "# и добавим пунктирную линию оси X для оценки отношения показателей группы В к группе А - значение 0 по оси Y\n",
    "plt.plot(\n",
    "    mergedCumulativeConversions['date'], mergedCumulativeConversions['conversionB'] / mergedCumulativeConversions['conversionA']-1\n",
    ")\n",
    "plt.axhline(y=0, color='red', linestyle='--')\n",
    "plt.axhline(y=0.1, color='gray', linestyle='--')\n",
    "plt.axhline(y=0.15, color='gray', linestyle='--')\n",
    "plt.xticks(rotation=20)\n",
    "plt.title('Изменение кумулятивного среднего количества заказов на посетителя группы B к группе A.', fontsize = 12)\n",
    "plt.ylabel('Измениение в %%', fontsize = 12)\n",
    "plt.xlabel('Дата', fontsize = 12)\n",
    "plt.show()"
   ]
  },
  {
   "cell_type": "markdown",
   "id": "a27268b7",
   "metadata": {},
   "source": [
    "Группа В лидирует по кнверсии. С середины теста показатели снизились, но все равно остаются в коридоре прироста между в 10%-15% относительно группы А. "
   ]
  },
  {
   "cell_type": "markdown",
   "id": "80d77af1",
   "metadata": {},
   "source": [
    "#### Построим точечный график количества заказов по пользователям."
   ]
  },
  {
   "cell_type": "code",
   "execution_count": 26,
   "id": "8b5b58c1",
   "metadata": {
    "scrolled": false
   },
   "outputs": [],
   "source": [
    "# Найдем число заказов по пользователям используя датафрэйм orders. Сохраним данные в новый датафрейм ordersByUsers\n",
    "ordersByUsers = orders.groupby('visitor_id', as_index=False)\\\n",
    ".agg({'transaction_id': 'nunique'}).sort_values(by='transaction_id')"
   ]
  },
  {
   "cell_type": "code",
   "execution_count": 27,
   "id": "5b903cdc",
   "metadata": {
    "scrolled": false
   },
   "outputs": [
    {
     "data": {
      "image/png": "[encoded data removed]",
      "text/plain": [
       "<Figure size 432x288 with 1 Axes>"
      ]
     },
     "metadata": {
      "needs_background": "light"
     },
     "output_type": "display_data"
    }
   ],
   "source": [
    "# Построим диаграмму Скаттрплот. За значения по оси х возьмем номера наблюдений.\n",
    "x_values = pd.Series(range(0, len(ordersByUsers)))\n",
    "plt.scatter(x_values, ordersByUsers['transaction_id'])\n",
    "plt.title('Количество заказов по пользователям', fontsize = 14)\n",
    "plt.ylabel('Количество заказов', fontsize = 12)\n",
    "plt.xlabel('Номер наблюдения', fontsize = 12)\n",
    "plt.show()"
   ]
  },
  {
   "cell_type": "markdown",
   "id": "57e502e8",
   "metadata": {},
   "source": [
    "На графике видно, что в дольшинстве случаем пользователи совершают по одному заказу. В еденичных случах надлюдается более 4-х заказов но не больше 12. График показывает наличие единичных, но существенных выбросов по кол-ву заказов на пользователя. Эти выбросы могут быть аномальными."
   ]
  },
  {
   "cell_type": "markdown",
   "id": "3fd294c0",
   "metadata": {},
   "source": [
    "#### Посчитаем 95-й и 99-й перцентили количества заказов на пользователя."
   ]
  },
  {
   "cell_type": "code",
   "execution_count": 28,
   "id": "4df31df8",
   "metadata": {},
   "outputs": [
    {
     "name": "stdout",
     "output_type": "stream",
     "text": [
      "[2. 4.]\n"
     ]
    }
   ],
   "source": [
    "# Выведем на экран 95-й и 99-й перцентили\n",
    "print(np.percentile(ordersByUsers['transaction_id'], [95, 99]))"
   ]
  },
  {
   "cell_type": "markdown",
   "id": "c9fa6e8a",
   "metadata": {},
   "source": [
    "Больше 2-х заказов совершило не более 5% пользователей. А не более 1% пользователей совершило больше 4 заказов.\n",
    "Целесообразно установить границу для определения аномальных значений на уровне 99-го перцентиля, т.е. исключить пользователей совершивших 4 и более заказа."
   ]
  },
  {
   "cell_type": "markdown",
   "id": "bf32689e",
   "metadata": {},
   "source": [
    "#### Построим точечный график стоимостей заказов."
   ]
  },
  {
   "cell_type": "code",
   "execution_count": 29,
   "id": "410352d7",
   "metadata": {},
   "outputs": [
    {
     "data": {
      "image/png": "[encoded data removed]",
      "text/plain": [
       "<Figure size 432x288 with 1 Axes>"
      ]
     },
     "metadata": {
      "needs_background": "light"
     },
     "output_type": "display_data"
    }
   ],
   "source": [
    "# Построим диаграмму Скаттрплот. За значения по оси х возьмем номера наблюдений.\n",
    "x_values = pd.Series(range(0, len(orders['revenue'])))\n",
    "plt.scatter(x_values, orders['revenue'])\n",
    "plt.title('График стоимостей заказов', fontsize = 14)\n",
    "plt.ylabel('Стоимость заказа', fontsize = 12)\n",
    "plt.xlabel('Номер наблюдения', fontsize = 12)\n",
    "plt.show()"
   ]
  },
  {
   "cell_type": "code",
   "execution_count": 30,
   "id": "90c8ac23",
   "metadata": {},
   "outputs": [
    {
     "data": {
      "image/png": "[encoded data removed]",
      "text/plain": [
       "<Figure size 432x288 with 1 Axes>"
      ]
     },
     "metadata": {
      "needs_background": "light"
     },
     "output_type": "display_data"
    }
   ],
   "source": [
    "x_values = pd.Series(range(0, len(orders['revenue'])))\n",
    "plt.scatter(x_values, orders['revenue'])\n",
    "plt.title('График стоимостей заказов', fontsize = 14)\n",
    "plt.ylabel('Стоимость заказа', fontsize = 12)\n",
    "plt.xlabel('Номер наблюдения', fontsize = 12)\n",
    "plt.ylim(0, 100000)\n",
    "plt.show()"
   ]
  },
  {
   "cell_type": "markdown",
   "id": "4de0ef10",
   "metadata": {},
   "source": [
    "При основной массе заказов соимость 100 тыс., видны единичные выбросы до 200 тыс. и до более 1,2 млн. Целесообразно определить границу отсечений экстремальных значений, для чего посчитать перцентили."
   ]
  },
  {
   "cell_type": "markdown",
   "id": "62431c51",
   "metadata": {},
   "source": [
    "#### Посчитаем 95-й и 99-й перцентили стоимости заказов."
   ]
  },
  {
   "cell_type": "code",
   "execution_count": 31,
   "id": "2da65689",
   "metadata": {},
   "outputs": [
    {
     "name": "stdout",
     "output_type": "stream",
     "text": [
      "[28000.  58233.2]\n"
     ]
    }
   ],
   "source": [
    "# Выведем на экран 95-й и 99-й перцентили\n",
    "print(np.percentile(orders['revenue'], [95, 99]))"
   ]
  },
  {
   "cell_type": "markdown",
   "id": "0359c7be",
   "metadata": {},
   "source": [
    "Не более 5% заказов имеет стоимость более 28 000 и не более 1% стоимость более 58 233,2. Целесообразно установить границу для определения аномальных значений на уровне 99-го перцентиля, т.е. исключить заказы стоимостью 58 233,2 и более."
   ]
  },
  {
   "cell_type": "markdown",
   "id": "7c27268a",
   "metadata": {},
   "source": [
    "## 5. Statistical analysis of the A/B test."
   ]
  },
  {
   "cell_type": "markdown",
   "id": "3383ea96",
   "metadata": {},
   "source": [
    "#### Подготовка данных к статистическому анализу A/B-теста."
   ]
  },
  {
   "cell_type": "code",
   "execution_count": 32,
   "id": "95e63b6f",
   "metadata": {},
   "outputs": [],
   "source": [
    "# Сохраним в датасеты visitorsADaily и visitorsBDaily срезы с данными о количестве посетителей за каждую дату\n",
    "visitorsADaily = visitors[visitors['group'] == 'A'][['date', 'visitors']]\n",
    "visitorsADaily.columns = ['date', 'visitorsPerDateA']\n",
    "visitorsBDaily = visitors[visitors['group'] == 'B'][['date', 'visitors']]\n",
    "visitorsBDaily.columns = ['date', 'visitorsPerDateB']"
   ]
  },
  {
   "cell_type": "code",
   "execution_count": 33,
   "id": "49c081eb",
   "metadata": {},
   "outputs": [],
   "source": [
    "# Сохраним в датасеты visitorsACummulative и visitorsBCummulative данные о накопленной сумме кол-ва посетителей\n",
    "visitorsACummulative = visitorsADaily.apply(\n",
    "    lambda x: visitorsADaily[visitorsADaily['date'] <= x['date']].agg(\n",
    "        {'date': 'max', 'visitorsPerDateA': 'sum'}\n",
    "    ),\n",
    "    axis=1,\n",
    ")\n",
    "visitorsACummulative.columns = ['date', 'visitorsCummulativeA']\n",
    "\n",
    "visitorsBCummulative = visitorsBDaily.apply(\n",
    "    lambda x: visitorsBDaily[visitorsBDaily['date'] <= x['date']].agg(\n",
    "        {'date': 'max', 'visitorsPerDateB': 'sum'}\n",
    "    ),\n",
    "    axis=1,\n",
    ")\n",
    "visitorsBCummulative.columns = ['date', 'visitorsCummulativeB']"
   ]
  },
  {
   "cell_type": "code",
   "execution_count": 34,
   "id": "c15de325",
   "metadata": {},
   "outputs": [],
   "source": [
    "# Сохраним в датасеты ordersADaily и ordersBDaily данные о кол-ве заказов и их стоимости на дату в разбивке по группам\n",
    "ordersADaily = (\n",
    "    orders[orders['group'] == 'A'][['date', 'transaction_id', 'visitor_id', 'revenue']]\n",
    "    .groupby('date', as_index=False)\n",
    "    .agg({'transaction_id': pd.Series.nunique, 'revenue': 'sum'})\n",
    ")\n",
    "ordersADaily.columns = ['date', 'ordersPerDateA', 'revenuePerDateA']\n",
    "\n",
    "ordersBDaily = (\n",
    "    orders[orders['group'] == 'B'][['date', 'transaction_id', 'visitor_id', 'revenue']]\n",
    "    .groupby('date', as_index=False)\n",
    "    .agg({'transaction_id': pd.Series.nunique, 'revenue': 'sum'})\n",
    ")\n",
    "ordersBDaily.columns = ['date', 'ordersPerDateB', 'revenuePerDateB']"
   ]
  },
  {
   "cell_type": "code",
   "execution_count": 35,
   "id": "70b91a81",
   "metadata": {},
   "outputs": [],
   "source": [
    "# Сохраним в датасеты ordersACummulative и ordersBCummulative данные о накопленной сумме кол-ва заказов и их стоимости\n",
    "ordersACummulative = ordersADaily.apply(\n",
    "    lambda x: ordersADaily[ordersADaily['date'] <= x['date']].agg(\n",
    "        {'date': 'max', 'ordersPerDateA': 'sum', 'revenuePerDateA': 'sum'}\n",
    "    ),\n",
    "    axis=1,\n",
    ").sort_values(by=['date'])\n",
    "ordersACummulative.columns = ['date', 'ordersCummulativeA', 'revenueCummulativeA']\n",
    "\n",
    "ordersBCummulative = ordersBDaily.apply(\n",
    "    lambda x: ordersBDaily[ordersBDaily['date'] <= x['date']].agg(\n",
    "        {'date': 'max', 'ordersPerDateB': 'sum', 'revenuePerDateB': 'sum'}\n",
    "    ),\n",
    "    axis=1,\n",
    ").sort_values(by=['date'])\n",
    "ordersBCummulative.columns = ['date', 'ordersCummulativeB', 'revenueCummulativeB']"
   ]
  },
  {
   "cell_type": "code",
   "execution_count": 36,
   "id": "60cc186c",
   "metadata": {},
   "outputs": [
    {
     "data": {
      "text/html": [
       "<div>\n",
       "<style scoped>\n",
       "    .dataframe tbody tr th:only-of-type {\n",
       "        vertical-align: middle;\n",
       "    }\n",
       "\n",
       "    .dataframe tbody tr th {\n",
       "        vertical-align: top;\n",
       "    }\n",
       "\n",
       "    .dataframe thead th {\n",
       "        text-align: right;\n",
       "    }\n",
       "</style>\n",
       "<table border=\"1\" class=\"dataframe\">\n",
       "  <thead>\n",
       "    <tr style=\"text-align: right;\">\n",
       "      <th></th>\n",
       "      <th>date</th>\n",
       "      <th>ordersPerDateA</th>\n",
       "      <th>revenuePerDateA</th>\n",
       "      <th>ordersPerDateB</th>\n",
       "      <th>revenuePerDateB</th>\n",
       "      <th>ordersCummulativeA</th>\n",
       "      <th>revenueCummulativeA</th>\n",
       "      <th>ordersCummulativeB</th>\n",
       "      <th>revenueCummulativeB</th>\n",
       "      <th>visitorsPerDateA</th>\n",
       "      <th>visitorsPerDateB</th>\n",
       "      <th>visitorsCummulativeA</th>\n",
       "      <th>visitorsCummulativeB</th>\n",
       "    </tr>\n",
       "  </thead>\n",
       "  <tbody>\n",
       "    <tr>\n",
       "      <th>0</th>\n",
       "      <td>2019-08-01</td>\n",
       "      <td>24</td>\n",
       "      <td>148579</td>\n",
       "      <td>21</td>\n",
       "      <td>101217</td>\n",
       "      <td>24</td>\n",
       "      <td>148579</td>\n",
       "      <td>21</td>\n",
       "      <td>101217</td>\n",
       "      <td>719</td>\n",
       "      <td>713</td>\n",
       "      <td>719</td>\n",
       "      <td>713</td>\n",
       "    </tr>\n",
       "    <tr>\n",
       "      <th>1</th>\n",
       "      <td>2019-08-02</td>\n",
       "      <td>20</td>\n",
       "      <td>93822</td>\n",
       "      <td>24</td>\n",
       "      <td>165531</td>\n",
       "      <td>44</td>\n",
       "      <td>242401</td>\n",
       "      <td>45</td>\n",
       "      <td>266748</td>\n",
       "      <td>619</td>\n",
       "      <td>581</td>\n",
       "      <td>1338</td>\n",
       "      <td>1294</td>\n",
       "    </tr>\n",
       "    <tr>\n",
       "      <th>2</th>\n",
       "      <td>2019-08-03</td>\n",
       "      <td>24</td>\n",
       "      <td>112473</td>\n",
       "      <td>16</td>\n",
       "      <td>114248</td>\n",
       "      <td>68</td>\n",
       "      <td>354874</td>\n",
       "      <td>61</td>\n",
       "      <td>380996</td>\n",
       "      <td>507</td>\n",
       "      <td>509</td>\n",
       "      <td>1845</td>\n",
       "      <td>1803</td>\n",
       "    </tr>\n",
       "    <tr>\n",
       "      <th>3</th>\n",
       "      <td>2019-08-04</td>\n",
       "      <td>16</td>\n",
       "      <td>70825</td>\n",
       "      <td>17</td>\n",
       "      <td>108571</td>\n",
       "      <td>84</td>\n",
       "      <td>425699</td>\n",
       "      <td>78</td>\n",
       "      <td>489567</td>\n",
       "      <td>717</td>\n",
       "      <td>770</td>\n",
       "      <td>2562</td>\n",
       "      <td>2573</td>\n",
       "    </tr>\n",
       "    <tr>\n",
       "      <th>4</th>\n",
       "      <td>2019-08-05</td>\n",
       "      <td>25</td>\n",
       "      <td>124218</td>\n",
       "      <td>23</td>\n",
       "      <td>92428</td>\n",
       "      <td>109</td>\n",
       "      <td>549917</td>\n",
       "      <td>101</td>\n",
       "      <td>581995</td>\n",
       "      <td>756</td>\n",
       "      <td>707</td>\n",
       "      <td>3318</td>\n",
       "      <td>3280</td>\n",
       "    </tr>\n",
       "  </tbody>\n",
       "</table>\n",
       "</div>"
      ],
      "text/plain": [
       "        date  ordersPerDateA  revenuePerDateA  ordersPerDateB  \\\n",
       "0 2019-08-01              24           148579              21   \n",
       "1 2019-08-02              20            93822              24   \n",
       "2 2019-08-03              24           112473              16   \n",
       "3 2019-08-04              16            70825              17   \n",
       "4 2019-08-05              25           124218              23   \n",
       "\n",
       "   revenuePerDateB  ordersCummulativeA  revenueCummulativeA  \\\n",
       "0           101217                  24               148579   \n",
       "1           165531                  44               242401   \n",
       "2           114248                  68               354874   \n",
       "3           108571                  84               425699   \n",
       "4            92428                 109               549917   \n",
       "\n",
       "   ordersCummulativeB  revenueCummulativeB  visitorsPerDateA  \\\n",
       "0                  21               101217               719   \n",
       "1                  45               266748               619   \n",
       "2                  61               380996               507   \n",
       "3                  78               489567               717   \n",
       "4                 101               581995               756   \n",
       "\n",
       "   visitorsPerDateB  visitorsCummulativeA  visitorsCummulativeB  \n",
       "0               713                   719                   713  \n",
       "1               581                  1338                  1294  \n",
       "2               509                  1845                  1803  \n",
       "3               770                  2562                  2573  \n",
       "4               707                  3318                  3280  "
      ]
     },
     "execution_count": 36,
     "metadata": {},
     "output_type": "execute_result"
    }
   ],
   "source": [
    "# Объединим все полученные выше датасеты в один датасет\n",
    "data = (\n",
    "    ordersADaily.merge(\n",
    "        ordersBDaily, left_on='date', right_on='date', how='left'\n",
    "    )\n",
    "    .merge(ordersACummulative, left_on='date', right_on='date', how='left')\n",
    "    .merge(ordersBCummulative, left_on='date', right_on='date', how='left')\n",
    "    .merge(visitorsADaily, left_on='date', right_on='date', how='left')\n",
    "    .merge(visitorsBDaily, left_on='date', right_on='date', how='left')\n",
    "    .merge(visitorsACummulative, left_on='date', right_on='date', how='left')\n",
    "    .merge(visitorsBCummulative, left_on='date', right_on='date', how='left')\n",
    ")\n",
    "data.head()"
   ]
  },
  {
   "cell_type": "markdown",
   "id": "40ef4f9b",
   "metadata": {},
   "source": [
    "#### Посчитаем статистическую значимость различий в среднем количестве заказов на посетителя между группами по «сырым» данным."
   ]
  },
  {
   "cell_type": "code",
   "execution_count": 37,
   "id": "a4a7a6a3",
   "metadata": {},
   "outputs": [],
   "source": [
    "# Создадим срезы для каждой из групп А и В с группировкой по ID пользователя, которому будет соответсвовать кол-во заказов\n",
    "# Сохраним срезы в отдельные датасеты ordersByUsersA и ordersByUsersB\n",
    "ordersByUsersA = orders[orders['group'] == 'A'].groupby('visitor_id', as_index=False).agg({'transaction_id': pd.Series.nunique})\n",
    "ordersByUsersA.columns = ['user_id', 'orders']\n",
    "ordersByUsersB = orders[orders['group'] == 'B'].groupby('visitor_id', as_index=False).agg({'transaction_id': pd.Series.nunique})\n",
    "ordersByUsersB.columns = ['user_id', 'orders']"
   ]
  },
  {
   "cell_type": "code",
   "execution_count": 38,
   "id": "6eec3711",
   "metadata": {},
   "outputs": [],
   "source": [
    "# Создадим датасеты sampleA и sampleB, в которых пользователям с заказами будет соответствовать число заказов пользователя.\n",
    "# При этом пользователям без заказов будут соответствовать нули. \n",
    "sampleA = pd.concat([ordersByUsersA['orders'], pd.Series(0, index=np.arange(data['visitorsPerDateA'].sum() - len(ordersByUsersA['orders'])), name='orders')], axis=0)\n",
    "sampleB = pd.concat([ordersByUsersB['orders'], pd.Series(0, index=np.arange(data['visitorsPerDateB'].sum() - len(ordersByUsersB['orders'])), name='orders')], axis=0)"
   ]
  },
  {
   "cell_type": "markdown",
   "id": "800a29e3",
   "metadata": {},
   "source": [
    "Сформулируем нулевую и альтернативную гипотезы:\n",
    "- H0: в среднем количестве заказов на посетителя между группами А и В по «сырым» данным нет статистически значимых различий.\n",
    "- H1: в среднем количестве заказов на посетителя между группами А и В по «сырым» данным есть статистически значимые различия.\n",
    "\n",
    "Уровень значимости объявим в 0,05"
   ]
  },
  {
   "cell_type": "code",
   "execution_count": 39,
   "id": "a4070bb4",
   "metadata": {},
   "outputs": [
    {
     "name": "stdout",
     "output_type": "stream",
     "text": [
      "P-value: 0.017\n",
      "Относительное различие в среднем между группами: 0.138\n"
     ]
    }
   ],
   "source": [
    "# Применим тест Манна-Уитни и выведим p-value для сравнения среднего между группами\n",
    "print('P-value: '\"{0:.3f}\".format(stats.mannwhitneyu(sampleA, sampleB)[1]))\n",
    "print('Относительное различие в среднем между группами: ' \"{0:.3f}\".format(sampleB.mean() / sampleA.mean() - 1))"
   ]
  },
  {
   "cell_type": "markdown",
   "id": "e2f3ca24",
   "metadata": {},
   "source": [
    "P-value меньше уровня значимости значит мы отвергаем нулевую гипотезу. По результату анализа \"сырых данных\", в среднем кол-ве заказов между группами есть статистически значимые различия.\n",
    "\n",
    "При этом относительный прирост среднего группы В к группе А равен 13,8%"
   ]
  },
  {
   "cell_type": "markdown",
   "id": "a52a1942",
   "metadata": {},
   "source": [
    "#### Посчитаем статистическую значимость различий в среднем чеке заказа между группами по «сырым» данным."
   ]
  },
  {
   "cell_type": "markdown",
   "id": "2a0fa3c8",
   "metadata": {},
   "source": [
    "Гипотезы:\n",
    "- H0: в среднем чеке заказа между группами А и В по «сырым» данным нет статистически значимых различий.\n",
    "- H1: в среднем чеке заказа между группами А и В по «сырым» данным есть статистически значимые различия.\n",
    "\n",
    "Уровень значимости: 0,05"
   ]
  },
  {
   "cell_type": "code",
   "execution_count": 40,
   "id": "f6e8ebd3",
   "metadata": {
    "scrolled": true
   },
   "outputs": [
    {
     "name": "stdout",
     "output_type": "stream",
     "text": [
      "P-value: 0.729\n",
      "Относительное различие в среднем между группами: 0.259\n"
     ]
    }
   ],
   "source": [
    "# Применим тест Манна-Уитни и выведим p-value для сравнения среднего между группами\n",
    "print('P-value: ''{0:.3f}'.format(stats.mannwhitneyu(orders[orders['group'] == 'A']['revenue'], orders[orders['group'] == 'B']['revenue'])[1]))\n",
    "print('Относительное различие в среднем между группами: ''{0:.3f}'.format(orders[orders['group'] == 'B']['revenue'].mean() / orders[orders['group'] == 'A']['revenue'].mean() - 1))"
   ]
  },
  {
   "cell_type": "markdown",
   "id": "9a1a29a5",
   "metadata": {},
   "source": [
    "P-value больше 0,05, следовательно статистически значимых отличий между группами нет. Нулевую гипотезу отвергнуть не удалось.\n",
    "\n",
    "Относительное различие между группами 25,9%"
   ]
  },
  {
   "cell_type": "markdown",
   "id": "9f59d3eb",
   "metadata": {},
   "source": [
    "#### Let's calculate the statistical significance of the differences in the average number of orders per visitor between the groups based on the \"cleared\" data."
   ]
  },
  {
   "cell_type": "markdown",
   "id": "ac81e210",
   "metadata": {},
   "source": [
    "Hypotheses:\n",
    "- H0: there are no statistically significant differences in the average number of orders per visitor between groups A and B according to the \"cleared\" data.\n",
    "- H1: There are statistically significant differences in the average number of orders per visitor between groups A and B according to the \"cleared\" data.\n",
    "\n",
    "Significance level: 0.05"
   ]
  },
  {
   "cell_type": "code",
   "execution_count": 41,
   "id": "93f5ae25",
   "metadata": {},
   "outputs": [],
   "source": [
    "# Определим пользователей с аномальнми заказы по ранее определенным границам\n",
    "# Сохраним их в переменной abnormalUsers\n",
    "usersWithManyOrders = pd.concat(\n",
    "    [ordersByUsersA[ordersByUsersA['orders'] >= 4]['user_id'], ordersByUsersB[ordersByUsersB['orders'] >= 4]['user_id']], axis=0\n",
    ")\n",
    "usersWithExpensiveOrders = orders[orders['revenue'] >= 58233.2]['visitor_id']\n",
    "\n",
    "abnormalUsers = pd.concat([usersWithManyOrders, usersWithExpensiveOrders], axis=0).drop_duplicates().sort_values()"
   ]
  },
  {
   "cell_type": "code",
   "execution_count": 42,
   "id": "46cfe0fc",
   "metadata": {},
   "outputs": [
    {
     "name": "stdout",
     "output_type": "stream",
     "text": [
      "P-value: 0.01390\n",
      "Относительное различие в среднем между группами: 0.151\n"
     ]
    }
   ],
   "source": [
    "#  Посчитаем статистическую значимость различий\n",
    "sampleAFiltered = pd.concat([ordersByUsersA[np.logical_not(ordersByUsersA['user_id'].isin(abnormalUsers))]['orders'], pd.Series(0, index=np.arange(data['visitorsPerDateA'].sum() - len(ordersByUsersA['orders'])), name='orders')], axis=0)\n",
    "sampleBFiltered = pd.concat([ordersByUsersB[np.logical_not(ordersByUsersB['user_id'].isin(abnormalUsers))]['orders'], pd.Series(0, index=np.arange(data['visitorsPerDateB'].sum() - len(ordersByUsersB['orders'])), name='orders')], axis=0)\n",
    "\n",
    "print('P-value: ''{0:.5f}'.format(stats.mannwhitneyu(sampleAFiltered, sampleBFiltered)[1]))\n",
    "print('Относительное различие в среднем между группами: ''{0:.3f}'.format(sampleBFiltered.mean()/sampleAFiltered.mean()-1))"
   ]
  },
  {
   "cell_type": "markdown",
   "id": "e44c3628",
   "metadata": {},
   "source": [
    "As in the case of \"raw\" data, we reject the null hypothesis. The differences in the number of orders between the groups are statistically significant."
   ]
  },
  {
   "cell_type": "markdown",
   "id": "19c19fa8",
   "metadata": {},
   "source": [
    "#### Let's calculate the statistical significance of the differences in the average order receipt between the groups based on the \"cleared\" data."
   ]
  },
  {
   "cell_type": "markdown",
   "id": "55a1e68d",
   "metadata": {},
   "source": [
    "Hypotheses:\n",
    "- H0: there are no statistically significant differences in the average order receipt between groups A and B according to the \"cleared\" data.\n",
    "- H1: There are statistically significant differences in the average order receipt between groups A and B according to the \"cleared\" data.\n",
    "\n",
    "Significance level: 0.05"
   ]
  },
  {
   "cell_type": "code",
   "execution_count": 43,
   "id": "fc6307e1",
   "metadata": {},
   "outputs": [
    {
     "name": "stdout",
     "output_type": "stream",
     "text": [
      "P-value: 0.959\n",
      "Относительное различие в среднем между группами: -0.014\n"
     ]
    }
   ],
   "source": [
    "print(\n",
    "    'P-value: ''{0:.3f}'.format(\n",
    "        stats.mannwhitneyu(\n",
    "            orders[\n",
    "                np.logical_and(\n",
    "                    orders['group'] == 'A',\n",
    "                    np.logical_not(orders['visitor_id'].isin(abnormalUsers)),\n",
    "                )\n",
    "            ]['revenue'],\n",
    "            orders[\n",
    "                np.logical_and(\n",
    "                    orders['group'] == 'B',\n",
    "                    np.logical_not(orders['visitor_id'].isin(abnormalUsers)),\n",
    "                )\n",
    "            ]['revenue'],\n",
    "        )[1]\n",
    "    )\n",
    ")\n",
    "\n",
    "print(\n",
    "    'Относительное различие в среднем между группами: ''{0:.3f}'.format(\n",
    "        orders[\n",
    "            np.logical_and(\n",
    "                orders['group'] == 'B',\n",
    "                np.logical_not(orders['visitor_id'].isin(abnormalUsers)),\n",
    "            )\n",
    "        ]['revenue'].mean()\n",
    "        / orders[\n",
    "            np.logical_and(\n",
    "                orders['group'] == 'A',\n",
    "                np.logical_not(orders['visitor_id'].isin(abnormalUsers)),\n",
    "            )\n",
    "        ]['revenue'].mean()\n",
    "        - 1\n",
    "    )\n",
    ") "
   ]
  },
  {
   "cell_type": "markdown",
   "id": "404a835d",
   "metadata": {},
   "source": [
    "The P-value on the \"cleaned\" data is still above the level of statistical significance. The null hypothesis could not be rejected. There are no statistically significant differences in the average amount of orders between the groups."
   ]
  },
  {
   "cell_type": "markdown",
   "id": "bf07fffd",
   "metadata": {},
   "source": [
    "#### Making a decision based on the test results."
   ]
  },
  {
   "cell_type": "markdown",
   "id": "24e15918",
   "metadata": {},
   "source": [
    "It was determined that:\n",
    "- There is a statistically significant difference in the average number of orders per visitor (conversion) between the groups, both for the \"raw\" data and the \"cleaned\" data.\n",
    "- There is no statistically significant difference in the average order value between the groups, both for the \"raw\" data and after removing anomalies.\n",
    "- The conversion rate difference graph between the groups shows stabilization in the 10%-15% range.\n",
    "- The average order value difference graph fluctuates, but as mentioned above, the differences between the groups are not statistically significant.\n",
    "\n",
    "**Decision:**\n",
    "\n",
    "Stop the test and declare Group B the winner.\n",
    "\n",
    "Rationale: A sufficiently long period for drawing conclusions, eliminating the \"peeking\" effect, and checking for anomalies. The conversion rate difference graph indicates stabilization in an established \"range\" of values."
   ]
  },
  {
   "cell_type": "markdown",
   "id": "3d472d57",
   "metadata": {},
   "source": [
    "## 6. Conclusions."
   ]
  },
  {
   "cell_type": "markdown",
   "id": "b61a8c3a",
   "metadata": {},
   "source": [
    "Group B performed better than Group A in terms of the average number of orders. Although the average order value in both groups did not change, the increase in the average number of orders can be considered a success and serves as a basis for recommending that the business apply the changes tested on Group B to a larger number of users.\n",
    "\n",
    "Group B shows a relative increase in the average number of orders by 15%, which could contribute to revenue growth through higher sales volume."
   ]
  },
  {
   "cell_type": "code",
   "execution_count": null,
   "id": "a7fea023",
   "metadata": {},
   "outputs": [],
   "source": []
  }
 ],
 "metadata": {
  "ExecuteTimeLog": [
   {
    "duration": 1042,
    "start_time": "2023-05-08T20:00:27.781Z"
   },
   {
    "duration": 72,
    "start_time": "2023-05-08T20:00:28.825Z"
   },
   {
    "duration": 9,
    "start_time": "2023-05-08T20:00:28.899Z"
   },
   {
    "duration": 22,
    "start_time": "2023-05-08T20:00:28.910Z"
   },
   {
    "duration": 59,
    "start_time": "2023-05-08T20:00:28.933Z"
   },
   {
    "duration": 8,
    "start_time": "2023-05-08T20:00:28.993Z"
   },
   {
    "duration": 5,
    "start_time": "2023-05-08T20:00:29.002Z"
   },
   {
    "duration": 17,
    "start_time": "2023-05-08T20:00:29.009Z"
   },
   {
    "duration": 9,
    "start_time": "2023-05-08T20:00:29.027Z"
   },
   {
    "duration": 11,
    "start_time": "2023-05-08T20:00:29.039Z"
   },
   {
    "duration": 18,
    "start_time": "2023-05-08T20:00:29.051Z"
   },
   {
    "duration": 23,
    "start_time": "2023-05-08T20:00:29.070Z"
   },
   {
    "duration": 9,
    "start_time": "2023-05-08T20:00:29.095Z"
   },
   {
    "duration": 21,
    "start_time": "2023-05-08T20:00:29.105Z"
   },
   {
    "duration": 12,
    "start_time": "2023-05-08T20:00:29.128Z"
   },
   {
    "duration": 15,
    "start_time": "2023-05-08T20:00:29.141Z"
   },
   {
    "duration": 263,
    "start_time": "2023-05-08T20:00:29.157Z"
   },
   {
    "duration": 243,
    "start_time": "2023-05-08T20:00:29.421Z"
   },
   {
    "duration": 169,
    "start_time": "2023-05-08T20:00:29.665Z"
   },
   {
    "duration": 5,
    "start_time": "2023-05-08T20:00:29.836Z"
   },
   {
    "duration": 264,
    "start_time": "2023-05-08T20:00:29.843Z"
   },
   {
    "duration": 7,
    "start_time": "2023-05-08T20:00:30.108Z"
   },
   {
    "duration": 197,
    "start_time": "2023-05-08T20:00:30.117Z"
   },
   {
    "duration": 7,
    "start_time": "2023-05-08T20:00:30.316Z"
   },
   {
    "duration": 300,
    "start_time": "2023-05-08T20:00:30.325Z"
   },
   {
    "duration": 7,
    "start_time": "2023-05-08T20:00:30.634Z"
   },
   {
    "duration": 135,
    "start_time": "2023-05-08T20:00:30.643Z"
   },
   {
    "duration": 4,
    "start_time": "2023-05-08T20:00:30.782Z"
   },
   {
    "duration": 131,
    "start_time": "2023-05-08T20:00:30.787Z"
   },
   {
    "duration": 5,
    "start_time": "2023-05-08T20:00:30.920Z"
   },
   {
    "duration": 34,
    "start_time": "2023-05-08T20:00:30.935Z"
   },
   {
    "duration": 113,
    "start_time": "2023-05-08T20:00:30.970Z"
   },
   {
    "duration": 71,
    "start_time": "2023-05-08T20:00:31.084Z"
   },
   {
    "duration": 112,
    "start_time": "2023-05-08T20:00:31.157Z"
   },
   {
    "duration": 101,
    "start_time": "2023-05-08T20:00:31.271Z"
   },
   {
    "duration": 168,
    "start_time": "2023-05-08T20:00:31.374Z"
   },
   {
    "duration": 6,
    "start_time": "2023-05-08T20:00:31.544Z"
   },
   {
    "duration": 65,
    "start_time": "2023-05-08T20:00:31.551Z"
   },
   {
    "duration": 14,
    "start_time": "2023-05-08T20:00:31.618Z"
   },
   {
    "duration": 62,
    "start_time": "2023-05-08T20:00:31.634Z"
   },
   {
    "duration": 57,
    "start_time": "2023-05-08T20:00:31.697Z"
   },
   {
    "duration": 15,
    "start_time": "2023-05-08T20:00:31.756Z"
   },
   {
    "duration": 70,
    "start_time": "2023-05-09T13:07:42.575Z"
   },
   {
    "duration": 1558,
    "start_time": "2023-05-09T13:07:53.537Z"
   },
   {
    "duration": 271,
    "start_time": "2023-05-09T13:07:55.098Z"
   },
   {
    "duration": 16,
    "start_time": "2023-05-09T13:07:55.372Z"
   },
   {
    "duration": 11,
    "start_time": "2023-05-09T13:07:55.391Z"
   },
   {
    "duration": 40,
    "start_time": "2023-05-09T13:07:55.404Z"
   },
   {
    "duration": 11,
    "start_time": "2023-05-09T13:07:55.446Z"
   },
   {
    "duration": 8,
    "start_time": "2023-05-09T13:07:55.511Z"
   },
   {
    "duration": 5,
    "start_time": "2023-05-09T13:07:56.228Z"
   },
   {
    "duration": 8,
    "start_time": "2023-05-09T13:07:56.630Z"
   },
   {
    "duration": 8,
    "start_time": "2023-05-09T13:07:57.060Z"
   },
   {
    "duration": 17,
    "start_time": "2023-05-09T13:07:57.435Z"
   },
   {
    "duration": 34,
    "start_time": "2023-05-09T13:07:57.913Z"
   },
   {
    "duration": 36,
    "start_time": "2023-05-09T13:07:59.310Z"
   },
   {
    "duration": 14,
    "start_time": "2023-05-09T13:08:00.063Z"
   },
   {
    "duration": 16,
    "start_time": "2023-05-09T13:08:01.280Z"
   },
   {
    "duration": 8,
    "start_time": "2023-05-09T13:08:03.356Z"
   },
   {
    "duration": 392,
    "start_time": "2023-05-09T13:08:04.962Z"
   },
   {
    "duration": 455,
    "start_time": "2023-05-09T13:08:05.878Z"
   },
   {
    "duration": 222,
    "start_time": "2023-05-09T13:08:27.633Z"
   },
   {
    "duration": 284,
    "start_time": "2023-05-09T13:08:49.028Z"
   },
   {
    "duration": 226,
    "start_time": "2023-05-09T13:12:49.897Z"
   },
   {
    "duration": 241,
    "start_time": "2023-05-09T13:13:40.239Z"
   },
   {
    "duration": 235,
    "start_time": "2023-05-09T13:13:57.751Z"
   },
   {
    "duration": 259,
    "start_time": "2023-05-09T13:14:13.312Z"
   },
   {
    "duration": 329,
    "start_time": "2023-05-09T13:14:58.952Z"
   },
   {
    "duration": 334,
    "start_time": "2023-05-09T13:15:10.999Z"
   },
   {
    "duration": 302,
    "start_time": "2023-05-09T13:16:37.898Z"
   },
   {
    "duration": 23,
    "start_time": "2023-05-09T13:18:58.906Z"
   },
   {
    "duration": 7,
    "start_time": "2023-05-09T13:19:11.604Z"
   },
   {
    "duration": 386,
    "start_time": "2023-05-09T13:19:13.377Z"
   },
   {
    "duration": 357,
    "start_time": "2023-05-09T13:19:42.501Z"
   },
   {
    "duration": 393,
    "start_time": "2023-05-09T13:19:48.877Z"
   },
   {
    "duration": 305,
    "start_time": "2023-05-09T13:19:54.042Z"
   },
   {
    "duration": 293,
    "start_time": "2023-05-09T13:19:59.957Z"
   },
   {
    "duration": 341,
    "start_time": "2023-05-09T13:20:12.932Z"
   },
   {
    "duration": 6,
    "start_time": "2023-05-09T13:20:22.065Z"
   },
   {
    "duration": 251,
    "start_time": "2023-05-09T13:23:14.343Z"
   },
   {
    "duration": 12,
    "start_time": "2023-05-09T13:24:34.443Z"
   },
   {
    "duration": 12,
    "start_time": "2023-05-09T13:24:40.014Z"
   },
   {
    "duration": 327,
    "start_time": "2023-05-09T13:24:40.445Z"
   },
   {
    "duration": 305,
    "start_time": "2023-05-09T13:24:46.760Z"
   },
   {
    "duration": 455,
    "start_time": "2023-05-09T13:25:20.638Z"
   },
   {
    "duration": 7,
    "start_time": "2023-05-09T13:25:46.643Z"
   },
   {
    "duration": 177,
    "start_time": "2023-05-09T13:26:49.202Z"
   },
   {
    "duration": 137,
    "start_time": "2023-05-09T13:27:21.061Z"
   },
   {
    "duration": 159,
    "start_time": "2023-05-09T13:28:57.762Z"
   },
   {
    "duration": 71,
    "start_time": "2023-05-09T13:30:24.977Z"
   },
   {
    "duration": 194,
    "start_time": "2023-05-09T13:36:58.480Z"
   },
   {
    "duration": 186,
    "start_time": "2023-05-09T13:37:17.701Z"
   },
   {
    "duration": 199,
    "start_time": "2023-05-09T13:37:23.774Z"
   },
   {
    "duration": 185,
    "start_time": "2023-05-09T13:37:42.302Z"
   },
   {
    "duration": 193,
    "start_time": "2023-05-09T13:37:52.268Z"
   },
   {
    "duration": 166,
    "start_time": "2023-05-09T13:38:04.507Z"
   },
   {
    "duration": 163,
    "start_time": "2023-05-09T13:38:12.408Z"
   },
   {
    "duration": 51,
    "start_time": "2023-05-09T13:41:10.633Z"
   },
   {
    "duration": 49,
    "start_time": "2023-05-09T13:52:42.752Z"
   },
   {
    "duration": 54,
    "start_time": "2023-05-09T13:54:57.219Z"
   },
   {
    "duration": 45,
    "start_time": "2023-05-09T13:56:20.955Z"
   },
   {
    "duration": 1420,
    "start_time": "2023-05-09T14:02:46.334Z"
   },
   {
    "duration": 89,
    "start_time": "2023-05-09T14:02:47.757Z"
   },
   {
    "duration": 16,
    "start_time": "2023-05-09T14:02:47.849Z"
   },
   {
    "duration": 18,
    "start_time": "2023-05-09T14:02:47.867Z"
   },
   {
    "duration": 37,
    "start_time": "2023-05-09T14:02:47.889Z"
   },
   {
    "duration": 11,
    "start_time": "2023-05-09T14:02:47.929Z"
   },
   {
    "duration": 8,
    "start_time": "2023-05-09T14:02:47.944Z"
   },
   {
    "duration": 7,
    "start_time": "2023-05-09T14:02:47.954Z"
   },
   {
    "duration": 11,
    "start_time": "2023-05-09T14:02:47.963Z"
   },
   {
    "duration": 6,
    "start_time": "2023-05-09T14:02:47.977Z"
   },
   {
    "duration": 35,
    "start_time": "2023-05-09T14:02:48.011Z"
   },
   {
    "duration": 41,
    "start_time": "2023-05-09T14:02:48.049Z"
   },
   {
    "duration": 30,
    "start_time": "2023-05-09T14:02:48.092Z"
   },
   {
    "duration": 33,
    "start_time": "2023-05-09T14:02:48.127Z"
   },
   {
    "duration": 16,
    "start_time": "2023-05-09T14:02:48.162Z"
   },
   {
    "duration": 36,
    "start_time": "2023-05-09T14:02:48.180Z"
   },
   {
    "duration": 400,
    "start_time": "2023-05-09T14:02:48.219Z"
   },
   {
    "duration": 404,
    "start_time": "2023-05-09T14:02:48.621Z"
   },
   {
    "duration": 332,
    "start_time": "2023-05-09T14:02:49.032Z"
   },
   {
    "duration": 10,
    "start_time": "2023-05-09T14:02:49.366Z"
   },
   {
    "duration": 419,
    "start_time": "2023-05-09T14:02:49.378Z"
   },
   {
    "duration": 17,
    "start_time": "2023-05-09T14:02:49.799Z"
   },
   {
    "duration": 287,
    "start_time": "2023-05-09T14:02:49.819Z"
   },
   {
    "duration": 12,
    "start_time": "2023-05-09T14:02:50.116Z"
   },
   {
    "duration": 368,
    "start_time": "2023-05-09T14:02:50.130Z"
   },
   {
    "duration": 9,
    "start_time": "2023-05-09T14:02:50.499Z"
   },
   {
    "duration": 153,
    "start_time": "2023-05-09T14:02:50.511Z"
   },
   {
    "duration": 9,
    "start_time": "2023-05-09T14:02:50.666Z"
   },
   {
    "duration": 220,
    "start_time": "2023-05-09T14:02:50.677Z"
   },
   {
    "duration": 177,
    "start_time": "2023-05-09T14:02:50.899Z"
   },
   {
    "duration": 9,
    "start_time": "2023-05-09T14:02:51.079Z"
   },
   {
    "duration": 22,
    "start_time": "2023-05-09T14:02:51.091Z"
   },
   {
    "duration": 213,
    "start_time": "2023-05-09T14:02:51.116Z"
   },
   {
    "duration": 34,
    "start_time": "2023-05-09T14:02:51.331Z"
   },
   {
    "duration": 134,
    "start_time": "2023-05-09T14:02:51.367Z"
   },
   {
    "duration": 52,
    "start_time": "2023-05-09T14:02:51.502Z"
   },
   {
    "duration": 204,
    "start_time": "2023-05-09T14:02:51.556Z"
   },
   {
    "duration": 7,
    "start_time": "2023-05-09T14:02:51.762Z"
   },
   {
    "duration": 52,
    "start_time": "2023-05-09T14:02:51.771Z"
   },
   {
    "duration": 17,
    "start_time": "2023-05-09T14:02:51.827Z"
   },
   {
    "duration": 12,
    "start_time": "2023-05-09T14:02:51.850Z"
   },
   {
    "duration": 52,
    "start_time": "2023-05-09T14:02:51.864Z"
   },
   {
    "duration": 30,
    "start_time": "2023-05-09T14:02:51.918Z"
   }
  ],
  "kernelspec": {
   "display_name": "Python 3 (ipykernel)",
   "language": "python",
   "name": "python3"
  },
  "language_info": {
   "codemirror_mode": {
    "name": "ipython",
    "version": 3
   },
   "file_extension": ".py",
   "mimetype": "text/x-python",
   "name": "python",
   "nbconvert_exporter": "python",
   "pygments_lexer": "ipython3",
   "version": "3.7.13"
  },
  "toc": {
   "base_numbering": 1,
   "nav_menu": {},
   "number_sections": false,
   "sideBar": true,
   "skip_h1_title": false,
   "title_cell": "Table of Contents",
   "title_sidebar": "Contents",
   "toc_cell": true,
   "toc_position": {
    "height": "calc(100% - 180px)",
    "left": "10px",
    "top": "150px",
    "width": "301.264px"
   },
   "toc_section_display": true,
   "toc_window_display": true
  }
 },
 "nbformat": 4,
 "nbformat_minor": 5
}
